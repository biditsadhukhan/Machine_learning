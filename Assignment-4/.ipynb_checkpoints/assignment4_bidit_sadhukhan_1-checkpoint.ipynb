{
 "cells": [
  {
   "cell_type": "markdown",
   "id": "e53769b8",
   "metadata": {},
   "source": [
    "a general outline of the perceptron algorithm:\n",
    "\n",
    "- Initialize the weight vector w and bias term b to zeros or random values.\n",
    "- Iterate over the training data points (x, y), where x is the feature vector and y is the label (either 1 or -1).\n",
    "- Calculate the output of the perceptron for the input vector x by computing the dot product of w and x and adding b. The output is y_hat.\n",
    "- Update the weight vector and bias term based on the error between the predicted output y_hat and the actual label y. The update rule is:\n",
    "- w = w + learning_rate * y * x\n",
    "- b = b + learning_rate * y\n",
    "where learning_rate is a hyperparameter that controls the step size of the updates.\n",
    "- Repeat steps 2-4 until convergence or a maximum number of iterations is reached."
   ]
  },
  {
   "cell_type": "code",
   "execution_count": 220,
   "id": "b2de155b",
   "metadata": {},
   "outputs": [],
   "source": [
    "import time \n",
    "import cupy as cp\n",
    "import pandas as pd\n",
    "import matplotlib.pyplot as plt \n",
    "import numpy as np"
   ]
  },
  {
   "cell_type": "code",
   "execution_count": 221,
   "id": "a3469873",
   "metadata": {},
   "outputs": [
    {
     "data": {
      "text/html": [
       "<div>\n",
       "<style scoped>\n",
       "    .dataframe tbody tr th:only-of-type {\n",
       "        vertical-align: middle;\n",
       "    }\n",
       "\n",
       "    .dataframe tbody tr th {\n",
       "        vertical-align: top;\n",
       "    }\n",
       "\n",
       "    .dataframe thead th {\n",
       "        text-align: right;\n",
       "    }\n",
       "</style>\n",
       "<table border=\"1\" class=\"dataframe\">\n",
       "  <thead>\n",
       "    <tr style=\"text-align: right;\">\n",
       "      <th></th>\n",
       "      <th>x</th>\n",
       "      <th>y</th>\n",
       "      <th>labels</th>\n",
       "    </tr>\n",
       "  </thead>\n",
       "  <tbody>\n",
       "    <tr>\n",
       "      <th>0</th>\n",
       "      <td>21.955645</td>\n",
       "      <td>28.149448</td>\n",
       "      <td>2.0</td>\n",
       "    </tr>\n",
       "    <tr>\n",
       "      <th>1</th>\n",
       "      <td>23.387097</td>\n",
       "      <td>25.041887</td>\n",
       "      <td>2.0</td>\n",
       "    </tr>\n",
       "    <tr>\n",
       "      <th>2</th>\n",
       "      <td>22.096774</td>\n",
       "      <td>26.828735</td>\n",
       "      <td>2.0</td>\n",
       "    </tr>\n",
       "    <tr>\n",
       "      <th>3</th>\n",
       "      <td>23.266129</td>\n",
       "      <td>27.761003</td>\n",
       "      <td>2.0</td>\n",
       "    </tr>\n",
       "    <tr>\n",
       "      <th>4</th>\n",
       "      <td>22.580645</td>\n",
       "      <td>28.615582</td>\n",
       "      <td>2.0</td>\n",
       "    </tr>\n",
       "    <tr>\n",
       "      <th>...</th>\n",
       "      <td>...</td>\n",
       "      <td>...</td>\n",
       "      <td>...</td>\n",
       "    </tr>\n",
       "    <tr>\n",
       "      <th>195</th>\n",
       "      <td>8.661290</td>\n",
       "      <td>0.519481</td>\n",
       "      <td>4.0</td>\n",
       "    </tr>\n",
       "    <tr>\n",
       "      <th>196</th>\n",
       "      <td>4.548387</td>\n",
       "      <td>12.857143</td>\n",
       "      <td>4.0</td>\n",
       "    </tr>\n",
       "    <tr>\n",
       "      <th>197</th>\n",
       "      <td>0.483871</td>\n",
       "      <td>12.337662</td>\n",
       "      <td>4.0</td>\n",
       "    </tr>\n",
       "    <tr>\n",
       "      <th>198</th>\n",
       "      <td>0.580645</td>\n",
       "      <td>19.220779</td>\n",
       "      <td>4.0</td>\n",
       "    </tr>\n",
       "    <tr>\n",
       "      <th>199</th>\n",
       "      <td>5.032258</td>\n",
       "      <td>11.233766</td>\n",
       "      <td>4.0</td>\n",
       "    </tr>\n",
       "  </tbody>\n",
       "</table>\n",
       "<p>200 rows × 3 columns</p>\n",
       "</div>"
      ],
      "text/plain": [
       "             x          y  labels\n",
       "0    21.955645  28.149448     2.0\n",
       "1    23.387097  25.041887     2.0\n",
       "2    22.096774  26.828735     2.0\n",
       "3    23.266129  27.761003     2.0\n",
       "4    22.580645  28.615582     2.0\n",
       "..         ...        ...     ...\n",
       "195   8.661290   0.519481     4.0\n",
       "196   4.548387  12.857143     4.0\n",
       "197   0.483871  12.337662     4.0\n",
       "198   0.580645  19.220779     4.0\n",
       "199   5.032258  11.233766     4.0\n",
       "\n",
       "[200 rows x 3 columns]"
      ]
     },
     "execution_count": 221,
     "metadata": {},
     "output_type": "execute_result"
    }
   ],
   "source": [
    "data= pd.read_csv('annotated_points_np_200.csv')\n",
    "data"
   ]
  },
  {
   "cell_type": "code",
   "execution_count": 222,
   "id": "6285abba",
   "metadata": {},
   "outputs": [
    {
     "data": {
      "image/png": "[encoded data removed]",
      "text/plain": [
       "<Figure size 432x288 with 1 Axes>"
      ]
     },
     "metadata": {
      "needs_background": "light"
     },
     "output_type": "display_data"
    }
   ],
   "source": [
    "# Extract the points labeled as class 2 and class 4\n",
    "class_2_points = data[data['labels'] == 2]\n",
    "class_4_points = data[data['labels'] == 4]\n",
    "\n",
    "# Create a scatterplot of the two classes\n",
    "plt.scatter(class_2_points['x'], class_2_points['y'], label='Class 2')\n",
    "plt.scatter(class_4_points['x'], class_4_points['y'], label='Class 4')\n",
    "\n",
    "# Add axis labels and legend\n",
    "plt.xlabel('X')\n",
    "plt.ylabel('Y')\n",
    "plt.legend()\n",
    "\n",
    "# Show the plot\n",
    "plt.show()"
   ]
  },
  {
   "cell_type": "code",
   "execution_count": 223,
   "id": "84a06a3d",
   "metadata": {},
   "outputs": [],
   "source": [
    "# Extract the features and labels\n",
    "features = data[['x', 'y']].values\n",
    "labels = data['labels'].values\n",
    "\n",
    "# Convert the data to cupy arrays\n",
    "features = cp.array(features)\n",
    "labels = cp.array(labels)\n",
    "\n",
    "# Normalize the features\n",
    "features = (features - features.mean(axis=0)) / features.std(axis=0)\n"
   ]
  },
  {
   "cell_type": "code",
   "execution_count": 224,
   "id": "e8322fbb",
   "metadata": {},
   "outputs": [],
   "source": [
    "# Shuffle the data\n",
    "np.random.seed(42)\n",
    "shuffle_idx = np.random.permutation(len(features))\n",
    "features = features[shuffle_idx]\n",
    "labels = labels[shuffle_idx]\n",
    "\n",
    "# Split the data into training, validation, and testing sets\n",
    "train_size = int(0.6 * len(features))\n",
    "val_size = int(0.2 * len(features))\n",
    "train_features, train_labels = features[:train_size], labels[:train_size]\n",
    "val_features, val_labels = features[train_size:train_size+val_size], labels[train_size:train_size+val_size]\n",
    "test_features, test_labels = features[train_size+val_size:], labels[train_size+val_size:]\n"
   ]
  },
  {
   "cell_type": "code",
   "execution_count": 241,
   "id": "98320f58",
   "metadata": {},
   "outputs": [],
   "source": [
    "def perceptron(features, labels, learning_rate=0.01, num_epochs=200, weights=None,specific_weights=None):\n",
    "    if weights is None:\n",
    "        # Initialize the weights to zeros\n",
    "        weights = cp.zeros(features.shape[1])\n",
    "    elif weights == 'random':\n",
    "        # Initialize the weights to random values between -1 and 1\n",
    "        weights = cp.random.uniform(-1, 1, features.shape[1])\n",
    "    elif weights == 'from_data':\n",
    "        # Initialize the weights to the feature means\n",
    "        weights = features.mean(axis=0)\n",
    "    else:\n",
    "        raise ValueError(f'Invalid value for weights: {weights}')\n",
    "\n",
    "    if specific_weights is not None:\n",
    "        # Initialize the weights to the specific values provided\n",
    "        weights = cp.array(specific_weights)\n",
    "    \n",
    "    bias = 0.0\n",
    "    errors = []\n",
    "    \n",
    "    # Train the perceptron for num_epochs\n",
    "    for epoch in range(int(num_epochs)):\n",
    "        # Shuffle the training data\n",
    "        shuffle_idx = cp.random.permutation(len(features))\n",
    "        features = features[shuffle_idx]\n",
    "        labels = labels[shuffle_idx]\n",
    "        \n",
    "        # Perform one pass over the training data\n",
    "        error_count = 0\n",
    "        dw = cp.zeros_like(weights)\n",
    "        db = 0.0\n",
    "        for i in range(len(features)):\n",
    "            x = features[i]\n",
    "            y = labels[i]\n",
    "            y_pred = cp.dot(x, weights) + bias\n",
    "            if y * y_pred <= 0:\n",
    "                dw += y * x\n",
    "                db += y\n",
    "                error_count += 1\n",
    "        weights += learning_rate * dw\n",
    "        bias += learning_rate * db\n",
    "        errors.append(error_count)\n",
    "        \n",
    "        # Print the training progress\n",
    "        print(f'Epoch {epoch+1}/{num_epochs}: error count = {error_count}')\n",
    "        \n",
    "        # Check for convergence\n",
    "        if error_count == 0:\n",
    "            print('Converged')\n",
    "            break\n",
    "    \n",
    "    # Compute the decision boundary\n",
    "    xx = cp.linspace(features[:,0].min(), features[:,0].max(), 100)\n",
    "    yy = -(weights[0]/weights[1]) * xx - (bias/weights[1])\n",
    "    \n",
    "    # Return the decision boundary and the trained weights and bias\n",
    "    return xx, yy, weights, bias, errors"
   ]
  },
  {
   "cell_type": "code",
   "execution_count": 162,
   "id": "a50374c2",
   "metadata": {},
   "outputs": [],
   "source": [
    "# def plot_decision_boundary(xx, yy, features, labels):\n",
    "#     # Map label values to colors\n",
    "#     colors = {2: 'b', 4: 'r'}\n",
    "#     label_colors = [colors[label] for label in labels.get()]\n",
    "#     # Label the data points as class 1 or class 2\n",
    "#     labels = labels.copy()\n",
    "#     labels[labels == 2] = 1\n",
    "#     labels[labels == 4] = 2\n",
    "#     plt.plot(xx.get(), yy.get(), 'k-',label='Decision Boundary')\n",
    "#     # Plot the features and labels\n",
    "#     plt.scatter(features[:, 0].get(), features[:, 1].get(), c=labels.get(), cmap='bwr', label='Class 1 (blue) and Class 2 (red)')\n",
    "#     plt.legend()"
   ]
  },
  {
   "cell_type": "code",
   "execution_count": 226,
   "id": "48ba3e73",
   "metadata": {},
   "outputs": [],
   "source": [
    "def plot_decision_boundary(xx, yy, features, labels):\n",
    "    # Map label values to colors\n",
    "    colors = {2: 'b', 4: 'r'}\n",
    "    label_colors = [colors[label] for label in labels.get()]\n",
    "    \n",
    "    # Label the data points as class 1 or class 2\n",
    "    labels = labels.copy()\n",
    "    labels[labels == 2] = 1\n",
    "    labels[labels == 4] = 2\n",
    "    \n",
    "    # Plot the decision boundary\n",
    "    plt.plot(xx.get(), yy.get(), 'k-', label='Decision Boundary')\n",
    "    \n",
    "    # Plot the features and labels\n",
    "    plt.scatter(features[labels==1, 0].get(), features[labels==1, 1].get(), c='r', cmap='bwr', label='Class 1 (red)')\n",
    "    plt.scatter(features[labels==2, 0].get(), features[labels==2, 1].get(), c='b', cmap='bwr', label='Class 2 (blue)')\n",
    "    plt.legend()\n"
   ]
  },
  {
   "cell_type": "code",
   "execution_count": 227,
   "id": "99b842cb",
   "metadata": {},
   "outputs": [
    {
     "name": "stdout",
     "output_type": "stream",
     "text": [
      "Epoch 1/200: error count = 120\n",
      "Epoch 2/200: error count = 0\n",
      "Converged\n"
     ]
    },
    {
     "data": {
      "image/png": "[encoded data removed]",
      "text/plain": [
       "<Figure size 432x288 with 1 Axes>"
      ]
     },
     "metadata": {
      "needs_background": "light"
     },
     "output_type": "display_data"
    }
   ],
   "source": [
    "# #Train the perceptron on the training set using zeros initialization\n",
    "xx, yy, weights, bias, errors = perceptron(train_features, train_labels,weights=None)\n",
    "plot_decision_boundary(xx, yy, train_features, train_labels)\n"
   ]
  },
  {
   "cell_type": "code",
   "execution_count": 228,
   "id": "567e6c22",
   "metadata": {},
   "outputs": [
    {
     "name": "stdout",
     "output_type": "stream",
     "text": [
      "Epoch 1/200: error count = 60\n",
      "Epoch 2/200: error count = 58\n",
      "Epoch 3/200: error count = 0\n",
      "Converged\n"
     ]
    },
    {
     "data": {
      "image/png": "[encoded data removed]",
      "text/plain": [
       "<Figure size 432x288 with 1 Axes>"
      ]
     },
     "metadata": {
      "needs_background": "light"
     },
     "output_type": "display_data"
    }
   ],
   "source": [
    "# Train the perceptron on the training set using random initialization\n",
    "xx,yy,weights, bias, errors= perceptron(train_features, train_labels, weights='random')\n",
    "plot_decision_boundary(xx, yy, train_features, train_labels)"
   ]
  },
  {
   "cell_type": "code",
   "execution_count": 229,
   "id": "4074f2a5",
   "metadata": {},
   "outputs": [
    {
     "name": "stdout",
     "output_type": "stream",
     "text": [
      "Epoch 1/200: error count = 60\n",
      "Epoch 2/200: error count = 59\n",
      "Epoch 3/200: error count = 0\n",
      "Converged\n"
     ]
    },
    {
     "data": {
      "image/png": "[encoded data removed]",
      "text/plain": [
       "<Figure size 432x288 with 1 Axes>"
      ]
     },
     "metadata": {
      "needs_background": "light"
     },
     "output_type": "display_data"
    }
   ],
   "source": [
    "# Train the perceptron on the training set using feature means initialization\n",
    "xx,yy,weights, bias, errors= perceptron(train_features, train_labels, weights='from_data')\n",
    "plot_decision_boundary(xx, yy, train_features, train_labels)"
   ]
  },
  {
   "cell_type": "markdown",
   "id": "df419370",
   "metadata": {},
   "source": [
    "### Finding the best hyperparameters when weights are initialised to Zero on the validation set"
   ]
  },
  {
   "cell_type": "code",
   "execution_count": 243,
   "id": "b0dd0008",
   "metadata": {},
   "outputs": [
    {
     "name": "stdout",
     "output_type": "stream",
     "text": [
      "Epoch 1/100: error count = 120\n",
      "Epoch 2/100: error count = 0\n",
      "Converged\n",
      "learning_rate=0.001, num_epochs=100, weights=random, val_error=0.0\n",
      "Epoch 1/200: error count = 120\n",
      "Epoch 2/200: error count = 0\n",
      "Converged\n",
      "learning_rate=0.001, num_epochs=200, weights=random, val_error=0.0\n",
      "Epoch 1/300: error count = 120\n",
      "Epoch 2/300: error count = 0\n",
      "Converged\n",
      "learning_rate=0.001, num_epochs=300, weights=random, val_error=0.0\n",
      "Epoch 1/100: error count = 120\n",
      "Epoch 2/100: error count = 0\n",
      "Converged\n",
      "learning_rate=0.002, num_epochs=100, weights=random, val_error=0.0\n",
      "Epoch 1/200: error count = 120\n",
      "Epoch 2/200: error count = 0\n",
      "Converged\n",
      "learning_rate=0.002, num_epochs=200, weights=random, val_error=0.0\n",
      "Epoch 1/300: error count = 120\n",
      "Epoch 2/300: error count = 0\n",
      "Converged\n",
      "learning_rate=0.002, num_epochs=300, weights=random, val_error=0.0\n",
      "Epoch 1/100: error count = 120\n",
      "Epoch 2/100: error count = 0\n",
      "Converged\n",
      "learning_rate=0.003, num_epochs=100, weights=random, val_error=0.0\n",
      "Epoch 1/200: error count = 120\n",
      "Epoch 2/200: error count = 0\n",
      "Converged\n",
      "learning_rate=0.003, num_epochs=200, weights=random, val_error=0.0\n",
      "Epoch 1/300: error count = 120\n",
      "Epoch 2/300: error count = 0\n",
      "Converged\n",
      "learning_rate=0.003, num_epochs=300, weights=random, val_error=0.0\n",
      "Epoch 1/100: error count = 120\n",
      "Epoch 2/100: error count = 0\n",
      "Converged\n",
      "learning_rate=0.004, num_epochs=100, weights=random, val_error=0.0\n",
      "Epoch 1/200: error count = 120\n",
      "Epoch 2/200: error count = 0\n",
      "Converged\n",
      "learning_rate=0.004, num_epochs=200, weights=random, val_error=0.0\n",
      "Epoch 1/300: error count = 120\n",
      "Epoch 2/300: error count = 0\n",
      "Converged\n",
      "learning_rate=0.004, num_epochs=300, weights=random, val_error=0.0\n",
      "Epoch 1/100: error count = 120\n",
      "Epoch 2/100: error count = 0\n",
      "Converged\n",
      "learning_rate=0.005, num_epochs=100, weights=random, val_error=0.0\n",
      "Epoch 1/200: error count = 120\n",
      "Epoch 2/200: error count = 0\n",
      "Converged\n",
      "learning_rate=0.005, num_epochs=200, weights=random, val_error=0.0\n",
      "Epoch 1/300: error count = 120\n",
      "Epoch 2/300: error count = 0\n",
      "Converged\n",
      "learning_rate=0.005, num_epochs=300, weights=random, val_error=0.0\n",
      "Epoch 1/100: error count = 120\n",
      "Epoch 2/100: error count = 0\n",
      "Converged\n",
      "learning_rate=0.006, num_epochs=100, weights=random, val_error=0.0\n",
      "Epoch 1/200: error count = 120\n",
      "Epoch 2/200: error count = 0\n",
      "Converged\n",
      "learning_rate=0.006, num_epochs=200, weights=random, val_error=0.0\n",
      "Epoch 1/300: error count = 120\n",
      "Epoch 2/300: error count = 0\n",
      "Converged\n",
      "learning_rate=0.006, num_epochs=300, weights=random, val_error=0.0\n",
      "Epoch 1/100: error count = 120\n",
      "Epoch 2/100: error count = 0\n",
      "Converged\n",
      "learning_rate=0.007, num_epochs=100, weights=random, val_error=0.0\n",
      "Epoch 1/200: error count = 120\n",
      "Epoch 2/200: error count = 0\n",
      "Converged\n",
      "learning_rate=0.007, num_epochs=200, weights=random, val_error=0.0\n",
      "Epoch 1/300: error count = 120\n",
      "Epoch 2/300: error count = 0\n",
      "Converged\n",
      "learning_rate=0.007, num_epochs=300, weights=random, val_error=0.0\n",
      "Epoch 1/100: error count = 120\n",
      "Epoch 2/100: error count = 0\n",
      "Converged\n",
      "learning_rate=0.008, num_epochs=100, weights=random, val_error=0.0\n",
      "Epoch 1/200: error count = 120\n",
      "Epoch 2/200: error count = 0\n",
      "Converged\n",
      "learning_rate=0.008, num_epochs=200, weights=random, val_error=0.0\n",
      "Epoch 1/300: error count = 120\n",
      "Epoch 2/300: error count = 0\n",
      "Converged\n",
      "learning_rate=0.008, num_epochs=300, weights=random, val_error=0.0\n",
      "Epoch 1/100: error count = 120\n",
      "Epoch 2/100: error count = 0\n",
      "Converged\n",
      "learning_rate=0.009000000000000001, num_epochs=100, weights=random, val_error=0.0\n",
      "Epoch 1/200: error count = 120\n",
      "Epoch 2/200: error count = 0\n",
      "Converged\n",
      "learning_rate=0.009000000000000001, num_epochs=200, weights=random, val_error=0.0\n",
      "Epoch 1/300: error count = 120\n",
      "Epoch 2/300: error count = 0\n",
      "Converged\n",
      "learning_rate=0.009000000000000001, num_epochs=300, weights=random, val_error=0.0\n",
      "Best hyperparameters and weights: learning_rate=0.001, num_epochs=100, weights=random, val_error=0.0\n"
     ]
    }
   ],
   "source": [
    "\n",
    "\n",
    "learning_rates = cp.arange(0.001, 0.01, 0.001)\n",
    "num_epochs_list = cp.arange(100, 400, 100)\n",
    "\n",
    "best_params = None\n",
    "best_val_error = float('inf')\n",
    "\n",
    "for learning_rate in learning_rates:\n",
    "    for num_epochs in num_epochs_list:\n",
    "        # Train the model on the training set\n",
    "        xx, yy, weights, bias, train_errors = perceptron(train_features, train_labels, learning_rate=learning_rate, num_epochs=num_epochs, weights=None)\n",
    "\n",
    "        # Evaluate the model on the validation set\n",
    "        val_errors = []\n",
    "        for i in range(len(val_features)):\n",
    "            x = val_features[i]\n",
    "            y = val_labels[i]\n",
    "            y_pred = cp.sign(cp.dot(x, weights) + bias)\n",
    "            if y * y_pred <= 0:\n",
    "                val_errors.append(1)\n",
    "            else:\n",
    "                val_errors.append(0)\n",
    "        val_error = sum(val_errors) / len(val_errors)\n",
    "\n",
    "        # Print the validation error for this combination of hyperparameters\n",
    "        print(f'learning_rate={learning_rate}, num_epochs={num_epochs}, weights=random, val_error={val_error}')\n",
    "\n",
    "        # Check if this is the best combination of hyperparameters so far\n",
    "        if val_error < best_val_error:\n",
    "            best_params = (learning_rate, num_epochs, 'random')\n",
    "            best_val_error = val_error\n",
    "\n",
    "print(f'Best hyperparameters and weights: learning_rate={best_params[0]}, num_epochs={best_params[1]}, weights={best_params[2]}, val_error={best_val_error}')\n"
   ]
  },
  {
   "cell_type": "code",
   "execution_count": 244,
   "id": "b043b9bb",
   "metadata": {},
   "outputs": [
    {
     "name": "stdout",
     "output_type": "stream",
     "text": [
      "Epoch 1/100: error count = 120\n",
      "Epoch 2/100: error count = 0\n",
      "Converged\n",
      "learning_rate=0.001, num_epochs=100, weights=None, val_error=0.0\n",
      "Epoch 1/200: error count = 120\n",
      "Epoch 2/200: error count = 0\n",
      "Converged\n",
      "learning_rate=0.001, num_epochs=200, weights=None, val_error=0.0\n",
      "Epoch 1/300: error count = 120\n",
      "Epoch 2/300: error count = 0\n",
      "Converged\n",
      "learning_rate=0.001, num_epochs=300, weights=None, val_error=0.0\n",
      "Epoch 1/100: error count = 120\n",
      "Epoch 2/100: error count = 0\n",
      "Converged\n",
      "learning_rate=0.01, num_epochs=100, weights=None, val_error=0.0\n",
      "Epoch 1/200: error count = 120\n",
      "Epoch 2/200: error count = 0\n",
      "Converged\n",
      "learning_rate=0.01, num_epochs=200, weights=None, val_error=0.0\n",
      "Epoch 1/300: error count = 120\n",
      "Epoch 2/300: error count = 0\n",
      "Converged\n",
      "learning_rate=0.01, num_epochs=300, weights=None, val_error=0.0\n",
      "Epoch 1/100: error count = 120\n",
      "Epoch 2/100: error count = 0\n",
      "Converged\n",
      "learning_rate=0.1, num_epochs=100, weights=None, val_error=0.0\n",
      "Epoch 1/200: error count = 120\n",
      "Epoch 2/200: error count = 0\n",
      "Converged\n",
      "learning_rate=0.1, num_epochs=200, weights=None, val_error=0.0\n",
      "Epoch 1/300: error count = 120\n",
      "Epoch 2/300: error count = 0\n",
      "Converged\n",
      "learning_rate=0.1, num_epochs=300, weights=None, val_error=0.0\n",
      "Best hyperparameters and weights: learning_rate=0.001, num_epochs=100, weights=None, val_error=0.0\n"
     ]
    }
   ],
   "source": [
    "# learning_rates = [0.001, 0.01, 0.1]\n",
    "# num_epochs_list = [100, 200, 300]\n",
    "\n",
    "# best_params = None\n",
    "# best_val_error = float('inf')\n",
    "\n",
    "# for learning_rate in learning_rates:\n",
    "#     for num_epochs in num_epochs_list:\n",
    "#         # Train the model on the training set\n",
    "#         xx, yy, weights, bias, train_errors = perceptron(train_features, train_labels, learning_rate=learning_rate, num_epochs=num_epochs)\n",
    "\n",
    "#         # Evaluate the model on the validation set\n",
    "#         val_errors = []\n",
    "#         for i in range(len(val_features)):\n",
    "#             x = val_features[i]\n",
    "#             y = val_labels[i]\n",
    "#             y_pred = cp.sign(cp.dot(x, weights) + bias)\n",
    "#             if y * y_pred <= 0:\n",
    "#                 val_errors.append(1)\n",
    "#             else:\n",
    "#                 val_errors.append(0)\n",
    "#         val_error = sum(val_errors) / len(val_errors)\n",
    "\n",
    "#         # Print the validation error for this combination of hyperparameters\n",
    "#         print(f'learning_rate={learning_rate}, num_epochs={num_epochs}, weights=None, val_error={val_error}')\n",
    "\n",
    "#         # Check if this is the best combination of hyperparameters so far\n",
    "#         if val_error < best_val_error:\n",
    "#             best_params = (learning_rate, num_epochs, None)\n",
    "#             best_val_error = val_error\n",
    "\n",
    "# print(f'Best hyperparameters and weights: learning_rate={best_params[0]}, num_epochs={best_params[1]}, weights={best_params[2]}, val_error={best_val_error}')\n"
   ]
  },
  {
   "cell_type": "markdown",
   "id": "52d6aee3",
   "metadata": {},
   "source": [
    "### Using the best hyperparameters obtained from the validation data we are checking it for the test set and plotting it"
   ]
  },
  {
   "cell_type": "code",
   "execution_count": 231,
   "id": "0bc26511",
   "metadata": {},
   "outputs": [
    {
     "name": "stdout",
     "output_type": "stream",
     "text": [
      "Epoch 1/100: error count = 120\n",
      "Epoch 2/100: error count = 0\n",
      "Converged\n",
      "Test error: 0.0\n"
     ]
    },
    {
     "data": {
      "image/png": "[encoded data removed]",
      "text/plain": [
       "<Figure size 432x288 with 1 Axes>"
      ]
     },
     "metadata": {
      "needs_background": "light"
     },
     "output_type": "display_data"
    }
   ],
   "source": [
    "# Train the model on the training set with the best hyperparameters and weights\n",
    "xx, yy, weights, bias, train_errors = perceptron(train_features, train_labels, learning_rate=0.001, num_epochs=100, weights=None)\n",
    "\n",
    "# Evaluate the model on the test set\n",
    "test_errors = []\n",
    "for i in range(len(test_features)):\n",
    "    x = test_features[i]\n",
    "    y = test_labels[i]\n",
    "    y_pred = cp.sign(cp.dot(x, weights) + bias)\n",
    "    if y * y_pred <= 0:\n",
    "        test_errors.append(1)\n",
    "    else:\n",
    "        test_errors.append(0)\n",
    "test_error = sum(test_errors) / len(test_errors)\n",
    "\n",
    "# Print the test error\n",
    "print(f'Test error: {test_error}')\n",
    "\n",
    "# Plot the decision boundary and test set\n",
    "plot_decision_boundary(xx, yy, test_features, test_labels)\n",
    "plt.show()\n"
   ]
  },
  {
   "cell_type": "markdown",
   "id": "1bd5d481",
   "metadata": {},
   "source": [
    "### Finding the best hyperparameters from the validation set when the weights are initialised to random"
   ]
  },
  {
   "cell_type": "code",
   "execution_count": 232,
   "id": "83ea8049",
   "metadata": {},
   "outputs": [
    {
     "name": "stdout",
     "output_type": "stream",
     "text": [
      "Epoch 1/100: error count = 59\n",
      "Epoch 2/100: error count = 27\n",
      "Epoch 3/100: error count = 18\n",
      "Epoch 4/100: error count = 6\n",
      "Epoch 5/100: error count = 3\n",
      "Epoch 6/100: error count = 3\n",
      "Epoch 7/100: error count = 1\n",
      "Epoch 8/100: error count = 1\n",
      "Epoch 9/100: error count = 1\n",
      "Epoch 10/100: error count = 1\n",
      "Epoch 11/100: error count = 1\n",
      "Epoch 12/100: error count = 0\n",
      "Converged\n",
      "learning_rate=0.001, num_epochs=100, weights=random, val_error=0.0\n",
      "Epoch 1/200: error count = 61\n",
      "Epoch 2/200: error count = 46\n",
      "Epoch 3/200: error count = 30\n",
      "Epoch 4/200: error count = 22\n",
      "Epoch 5/200: error count = 15\n",
      "Epoch 6/200: error count = 12\n",
      "Epoch 7/200: error count = 7\n",
      "Epoch 8/200: error count = 5\n",
      "Epoch 9/200: error count = 3\n",
      "Epoch 10/200: error count = 3\n",
      "Epoch 11/200: error count = 3\n",
      "Epoch 12/200: error count = 1\n",
      "Epoch 13/200: error count = 1\n",
      "Epoch 14/200: error count = 1\n",
      "Epoch 15/200: error count = 1\n",
      "Epoch 16/200: error count = 1\n",
      "Epoch 17/200: error count = 1\n",
      "Epoch 18/200: error count = 1\n",
      "Epoch 19/200: error count = 1\n",
      "Epoch 20/200: error count = 0\n",
      "Converged\n",
      "learning_rate=0.001, num_epochs=200, weights=random, val_error=0.0\n",
      "Epoch 1/300: error count = 60\n",
      "Epoch 2/300: error count = 1\n",
      "Epoch 3/300: error count = 0\n",
      "Converged\n",
      "learning_rate=0.001, num_epochs=300, weights=random, val_error=0.0\n",
      "Epoch 1/100: error count = 61\n",
      "Epoch 2/100: error count = 0\n",
      "Converged\n",
      "learning_rate=0.01, num_epochs=100, weights=random, val_error=0.0\n",
      "Epoch 1/200: error count = 65\n",
      "Epoch 2/200: error count = 0\n",
      "Converged\n",
      "learning_rate=0.01, num_epochs=200, weights=random, val_error=0.0\n",
      "Epoch 1/300: error count = 60\n",
      "Epoch 2/300: error count = 0\n",
      "Converged\n",
      "learning_rate=0.01, num_epochs=300, weights=random, val_error=0.0\n",
      "Epoch 1/100: error count = 60\n",
      "Epoch 2/100: error count = 60\n",
      "Epoch 3/100: error count = 0\n",
      "Converged\n",
      "learning_rate=0.1, num_epochs=100, weights=random, val_error=0.0\n",
      "Epoch 1/200: error count = 62\n",
      "Epoch 2/200: error count = 15\n",
      "Epoch 3/200: error count = 0\n",
      "Converged\n",
      "learning_rate=0.1, num_epochs=200, weights=random, val_error=0.0\n",
      "Epoch 1/300: error count = 60\n",
      "Epoch 2/300: error count = 60\n",
      "Epoch 3/300: error count = 0\n",
      "Converged\n",
      "learning_rate=0.1, num_epochs=300, weights=random, val_error=0.0\n",
      "Best hyperparameters and weights: learning_rate=0.001, num_epochs=100, weights=random, val_error=0.0\n"
     ]
    }
   ],
   "source": [
    "learning_rates = [0.001, 0.01, 0.1]\n",
    "num_epochs_list = [100, 200, 300]\n",
    "\n",
    "best_params = None\n",
    "best_val_error = float('inf')\n",
    "\n",
    "for learning_rate in learning_rates:\n",
    "    for num_epochs in num_epochs_list:\n",
    "        # Train the model on the training set\n",
    "        xx, yy, weights, bias, train_errors = perceptron(train_features, train_labels, learning_rate=learning_rate, num_epochs=num_epochs, weights='random')\n",
    "\n",
    "        # Evaluate the model on the validation set\n",
    "        val_errors = []\n",
    "        for i in range(len(val_features)):\n",
    "            x = val_features[i]\n",
    "            y = val_labels[i]\n",
    "            y_pred = cp.sign(cp.dot(x, weights) + bias)\n",
    "            if y * y_pred <= 0:\n",
    "                val_errors.append(1)\n",
    "            else:\n",
    "                val_errors.append(0)\n",
    "        val_error = sum(val_errors) / len(val_errors)\n",
    "\n",
    "        # Print the validation error for this combination of hyperparameters\n",
    "        print(f'learning_rate={learning_rate}, num_epochs={num_epochs}, weights=random, val_error={val_error}')\n",
    "\n",
    "        # Check if this is the best combination of hyperparameters so far\n",
    "        if val_error < best_val_error:\n",
    "            best_params = (learning_rate, num_epochs, 'random')\n",
    "            best_val_error = val_error\n",
    "\n",
    "print(f'Best hyperparameters and weights: learning_rate={best_params[0]}, num_epochs={best_params[1]}, weights={best_params[2]}, val_error={best_val_error}')\n"
   ]
  },
  {
   "cell_type": "markdown",
   "id": "31793176",
   "metadata": {},
   "source": [
    "### Plotting and evaluating the best hyperparameter obtained in the validation set with weights initialized to  random"
   ]
  },
  {
   "cell_type": "code",
   "execution_count": 234,
   "id": "8f2b7fe0",
   "metadata": {},
   "outputs": [
    {
     "name": "stdout",
     "output_type": "stream",
     "text": [
      "Epoch 1/100: error count = 60\n",
      "Epoch 2/100: error count = 60\n",
      "Epoch 3/100: error count = 60\n",
      "Epoch 4/100: error count = 60\n",
      "Epoch 5/100: error count = 43\n",
      "Epoch 6/100: error count = 4\n",
      "Epoch 7/100: error count = 2\n",
      "Epoch 8/100: error count = 0\n",
      "Converged\n",
      "Validation error with best hyperparameters and weights: 0.0\n"
     ]
    },
    {
     "data": {
      "image/png": "[encoded data removed]",
      "text/plain": [
       "<Figure size 432x288 with 1 Axes>"
      ]
     },
     "metadata": {
      "needs_background": "light"
     },
     "output_type": "display_data"
    }
   ],
   "source": [
    "# Train the model on the training set with the best hyperparameters and weights\n",
    "xx, yy, weights, bias, train_errors = perceptron(train_features, train_labels, learning_rate=0.001, num_epochs=100, weights='random')\n",
    "\n",
    "# Evaluate the model on the validation set\n",
    "val_errors = []\n",
    "for i in range(len(val_features)):\n",
    "    x = val_features[i]\n",
    "    y = val_labels[i]\n",
    "    y_pred = cp.sign(cp.dot(x, weights) + bias)\n",
    "    if y * y_pred <= 0:\n",
    "        val_errors.append(1)\n",
    "    else:\n",
    "        val_errors.append(0)\n",
    "val_error = sum(val_errors) / len(val_errors)\n",
    "\n",
    "# Print the validation error\n",
    "print(f'Validation error with best hyperparameters and weights: {val_error}')\n",
    "\n",
    "# Plot the decision boundary and validation set\n",
    "plot_decision_boundary(xx, yy, val_features, val_labels)\n",
    "plt.show()\n"
   ]
  },
  {
   "cell_type": "markdown",
   "id": "693265bb",
   "metadata": {},
   "source": [
    "### Using the best hyperparameters obtained from the validation set we are evaluating it on the test set for weights initialised to random"
   ]
  },
  {
   "cell_type": "code",
   "execution_count": 235,
   "id": "483e79d1",
   "metadata": {},
   "outputs": [
    {
     "name": "stdout",
     "output_type": "stream",
     "text": [
      "Epoch 1/100: error count = 60\n",
      "Epoch 2/100: error count = 54\n",
      "Epoch 3/100: error count = 0\n",
      "Converged\n",
      "Test error: 0.0\n"
     ]
    },
    {
     "data": {
      "image/png": "[encoded data removed]",
      "text/plain": [
       "<Figure size 432x288 with 1 Axes>"
      ]
     },
     "metadata": {
      "needs_background": "light"
     },
     "output_type": "display_data"
    }
   ],
   "source": [
    "# Train the model on the training set with the best hyperparameters and weights\n",
    "xx, yy, weights, bias, train_errors = perceptron(train_features, train_labels, learning_rate=0.001, num_epochs=100, weights='random')\n",
    "\n",
    "# Evaluate the model on the test set\n",
    "test_errors = []\n",
    "for i in range(len(test_features)):\n",
    "    x = test_features[i]\n",
    "    y = test_labels[i]\n",
    "    y_pred = cp.sign(cp.dot(x, weights) + bias)\n",
    "    if y * y_pred <= 0:\n",
    "        test_errors.append(1)\n",
    "    else:\n",
    "        test_errors.append(0)\n",
    "test_error = sum(test_errors) / len(test_errors)\n",
    "\n",
    "# Print the test error\n",
    "print(f'Test error: {test_error}')\n",
    "\n",
    "# Plot the decision boundary and test set\n",
    "plot_decision_boundary(xx, yy, test_features, test_labels)\n",
    "plt.show()\n"
   ]
  },
  {
   "cell_type": "markdown",
   "id": "a01c04e1",
   "metadata": {},
   "source": [
    "### Finding the best hyper parameter in the validation set when weights initialised from data"
   ]
  },
  {
   "cell_type": "code",
   "execution_count": 236,
   "id": "3c0f8c2b",
   "metadata": {},
   "outputs": [
    {
     "name": "stdout",
     "output_type": "stream",
     "text": [
      "Epoch 1/100: error count = 60\n",
      "Epoch 2/100: error count = 58\n",
      "Epoch 3/100: error count = 2\n",
      "Epoch 4/100: error count = 0\n",
      "Converged\n",
      "learning_rate=0.001, num_epochs=100, weights= from_data, val_error=0.0\n",
      "Epoch 1/200: error count = 60\n",
      "Epoch 2/200: error count = 58\n",
      "Epoch 3/200: error count = 2\n",
      "Epoch 4/200: error count = 0\n",
      "Converged\n",
      "learning_rate=0.001, num_epochs=200, weights= from_data, val_error=0.0\n",
      "Epoch 1/300: error count = 60\n",
      "Epoch 2/300: error count = 58\n",
      "Epoch 3/300: error count = 2\n",
      "Epoch 4/300: error count = 0\n",
      "Converged\n",
      "learning_rate=0.001, num_epochs=300, weights= from_data, val_error=0.0\n",
      "Epoch 1/100: error count = 60\n",
      "Epoch 2/100: error count = 59\n",
      "Epoch 3/100: error count = 0\n",
      "Converged\n",
      "learning_rate=0.01, num_epochs=100, weights= from_data, val_error=0.0\n",
      "Epoch 1/200: error count = 60\n",
      "Epoch 2/200: error count = 59\n",
      "Epoch 3/200: error count = 0\n",
      "Converged\n",
      "learning_rate=0.01, num_epochs=200, weights= from_data, val_error=0.0\n",
      "Epoch 1/300: error count = 60\n",
      "Epoch 2/300: error count = 59\n",
      "Epoch 3/300: error count = 0\n",
      "Converged\n",
      "learning_rate=0.01, num_epochs=300, weights= from_data, val_error=0.0\n",
      "Epoch 1/100: error count = 60\n",
      "Epoch 2/100: error count = 59\n",
      "Epoch 3/100: error count = 0\n",
      "Converged\n",
      "learning_rate=0.1, num_epochs=100, weights= from_data, val_error=0.0\n",
      "Epoch 1/200: error count = 60\n",
      "Epoch 2/200: error count = 59\n",
      "Epoch 3/200: error count = 0\n",
      "Converged\n",
      "learning_rate=0.1, num_epochs=200, weights= from_data, val_error=0.0\n",
      "Epoch 1/300: error count = 60\n",
      "Epoch 2/300: error count = 59\n",
      "Epoch 3/300: error count = 0\n",
      "Converged\n",
      "learning_rate=0.1, num_epochs=300, weights= from_data, val_error=0.0\n",
      "Best hyperparameters and weights: learning_rate=0.001, num_epochs=100, weights=from_data, val_error=0.0\n"
     ]
    }
   ],
   "source": [
    "learning_rates = [0.001, 0.01, 0.1]\n",
    "num_epochs_list = [100, 200, 300]\n",
    "\n",
    "best_params = None\n",
    "best_val_error = float('inf')\n",
    "\n",
    "for learning_rate in learning_rates:\n",
    "    for num_epochs in num_epochs_list:\n",
    "        # Train the model on the training set\n",
    "        xx, yy, weights, bias, train_errors = perceptron(train_features, train_labels, learning_rate=learning_rate, num_epochs=num_epochs, weights= 'from_data')\n",
    "\n",
    "        # Evaluate the model on the validation set\n",
    "        val_errors = []\n",
    "        for i in range(len(val_features)):\n",
    "            x = val_features[i]\n",
    "            y = val_labels[i]\n",
    "            y_pred = cp.sign(cp.dot(x, weights) + bias)\n",
    "            if y * y_pred <= 0:\n",
    "                val_errors.append(1)\n",
    "            else:\n",
    "                val_errors.append(0)\n",
    "        val_error = sum(val_errors) / len(val_errors)\n",
    "\n",
    "        # Print the validation error for this combination of hyperparameters\n",
    "        print(f'learning_rate={learning_rate}, num_epochs={num_epochs}, weights= from_data, val_error={val_error}')\n",
    "\n",
    "        # Check if this is the best combination of hyperparameters so far\n",
    "        if val_error < best_val_error:\n",
    "            best_params = (learning_rate, num_epochs,  'from_data')\n",
    "            best_val_error = val_error\n",
    "\n",
    "print(f'Best hyperparameters and weights: learning_rate={best_params[0]}, num_epochs={best_params[1]}, weights={best_params[2]}, val_error={best_val_error}')\n"
   ]
  },
  {
   "cell_type": "markdown",
   "id": "00274a7f",
   "metadata": {},
   "source": [
    "### Using the best hyperparameter obtained from the validation, plotting and evaluating it for the validation set when weights initialised to from data"
   ]
  },
  {
   "cell_type": "code",
   "execution_count": 237,
   "id": "7230ab1a",
   "metadata": {},
   "outputs": [
    {
     "name": "stdout",
     "output_type": "stream",
     "text": [
      "Epoch 1/100: error count = 60\n",
      "Epoch 2/100: error count = 58\n",
      "Epoch 3/100: error count = 2\n",
      "Epoch 4/100: error count = 0\n",
      "Converged\n",
      "Validation error: 0.0\n"
     ]
    },
    {
     "data": {
      "image/png": "[encoded data removed]",
      "text/plain": [
       "<Figure size 432x288 with 1 Axes>"
      ]
     },
     "metadata": {
      "needs_background": "light"
     },
     "output_type": "display_data"
    }
   ],
   "source": [
    "# Train the model with the best hyperparameters on the training set\n",
    "xx, yy, weights, bias, train_errors = perceptron(train_features, train_labels, learning_rate=0.001, num_epochs=100, weights='from_data')\n",
    "\n",
    "# Evaluate the model on the validation set\n",
    "val_errors = []\n",
    "for i in range(len(val_features)):\n",
    "    x = val_features[i]\n",
    "    y = val_labels[i]\n",
    "    y_pred = cp.sign(cp.dot(x, weights) + bias)\n",
    "    if y * y_pred <= 0:\n",
    "        val_errors.append(1)\n",
    "    else:\n",
    "        val_errors.append(0)\n",
    "val_error = sum(val_errors) / len(val_errors)\n",
    "\n",
    "print(f'Validation error: {val_error}')\n",
    "\n",
    "# Plot the decision boundary and test set\n",
    "plot_decision_boundary(xx, yy, val_features, val_labels)\n",
    "plt.show()\n"
   ]
  },
  {
   "cell_type": "markdown",
   "id": "8ad9c79c",
   "metadata": {},
   "source": [
    "### Using the best hyperparameters obtained from the val set we are plotting the test when weights are initialised to from data"
   ]
  },
  {
   "cell_type": "code",
   "execution_count": 238,
   "id": "83adca4f",
   "metadata": {},
   "outputs": [
    {
     "name": "stdout",
     "output_type": "stream",
     "text": [
      "Epoch 1/100: error count = 60\n",
      "Epoch 2/100: error count = 58\n",
      "Epoch 3/100: error count = 2\n",
      "Epoch 4/100: error count = 0\n",
      "Converged\n",
      "Test error: 0.0\n"
     ]
    },
    {
     "data": {
      "image/png": "[encoded data removed]",
      "text/plain": [
       "<Figure size 432x288 with 1 Axes>"
      ]
     },
     "metadata": {
      "needs_background": "light"
     },
     "output_type": "display_data"
    }
   ],
   "source": [
    "# Train the model on the training set with the best hyperparameters and weights\n",
    "xx, yy, weights, bias, train_errors = perceptron(train_features, train_labels, learning_rate=0.001, num_epochs=100, weights='from_data')\n",
    "\n",
    "# Evaluate the model on the test set\n",
    "test_errors = []\n",
    "for i in range(len(test_features)):\n",
    "    x = test_features[i]\n",
    "    y = test_labels[i]\n",
    "    y_pred = cp.sign(cp.dot(x, weights) + bias)\n",
    "    if y * y_pred <= 0:\n",
    "        test_errors.append(1)\n",
    "    else:\n",
    "        test_errors.append(0)\n",
    "test_error = sum(test_errors) / len(test_errors)\n",
    "\n",
    "# Print the test error\n",
    "print(f'Test error: {test_error}')\n",
    "\n",
    "# Plot the decision boundary and test set\n",
    "plot_decision_boundary(xx, yy, test_features, test_labels)\n",
    "plt.show()\n"
   ]
  }
 ],
 "metadata": {
  "kernelspec": {
   "display_name": "Python 3 (ipykernel)",
   "language": "python",
   "name": "python3"
  },
  "language_info": {
   "codemirror_mode": {
    "name": "ipython",
    "version": 3
   },
   "file_extension": ".py",
   "mimetype": "text/x-python",
   "name": "python",
   "nbconvert_exporter": "python",
   "pygments_lexer": "ipython3",
   "version": "3.9.12"
  }
 },
 "nbformat": 4,
 "nbformat_minor": 5
}
