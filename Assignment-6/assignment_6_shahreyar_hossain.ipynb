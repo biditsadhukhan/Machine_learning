{
 "cells": [
  {
   "cell_type": "code",
   "execution_count": 26,
   "id": "6faade46",
   "metadata": {},
   "outputs": [],
   "source": [
    "# Shahareyar Hossain\n",
    "# M.Sc. Bda, Sem:2\n",
    "# B2230034"
   ]
  },
  {
   "cell_type": "code",
   "execution_count": 1,
   "id": "8c9e8027",
   "metadata": {},
   "outputs": [],
   "source": [
    "import gzip\n",
    "import numpy as np\n",
    "import matplotlib.pyplot as plt\n",
    "import numpy  as np\n",
    "import random\n",
    "\n",
    "import pandas as pd"
   ]
  },
  {
   "cell_type": "code",
   "execution_count": 2,
   "id": "2f3e91fe",
   "metadata": {},
   "outputs": [
    {
     "name": "stdout",
     "output_type": "stream",
     "text": [
      "Train data (X) size: (60000, 28, 28), and labels (Y) size: (60000,)\n",
      "Test data (X) size: (10000, 28, 28), and labels (Y) size: (10000,)\n"
     ]
    },
    {
     "data": {
      "image/png": "[encoded data removed]",
      "text/plain": [
       "<Figure size 432x288 with 1 Axes>"
      ]
     },
     "metadata": {
      "needs_background": "light"
     },
     "output_type": "display_data"
    },
    {
     "name": "stdout",
     "output_type": "stream",
     "text": [
      "Train image 20317-th sample \n",
      "[[  0   0   0   0   0   0   0   0   0   0   0   0   0   0   0   0   0   0\n",
      "    0   0   0   0   0   0   0   0   0   0]\n",
      " [  0   0   0   0   0   0   0   0   0   0   0   0   0   0   0   0   0   0\n",
      "    0   0   0   0   0   0   0   0   0   0]\n",
      " [  0   0   0   0   0   0   0   0   0   0   0   0   0   0   0   0   0   0\n",
      "    0   0   0   0   0   0   0   0   0   0]\n",
      " [  0   0   0   0   0   0   0   0   0   0   0   0   0   0   0   0  51 169\n",
      "  253 253 225  38   0   0   0   0   0   0]\n",
      " [  0   0   0   0   0   0   0   0   0   0   0   0   0   0  57 170 245 252\n",
      "  252 252 252  79   0   0   0   0   0   0]\n",
      " [  0   0   0   0   0   0   0   0   0   0   0   0  10 171 240 253 252 252\n",
      "  173 158 130   8   0   0   0   0   0   0]\n",
      " [  0   0   0   0   0   0   0   0   0   0   0  77 217 252 252 253 161  39\n",
      "    6   0   0   0   0   0   0   0   0   0]\n",
      " [  0   0   0   0   0   0   0   0   0   0  78 236 252 252 217  53  31   0\n",
      "    0   0   0   0   0   0   0   0   0   0]\n",
      " [  0   0   0   0   0   0   0   0   0  78 235 252 246 122  31   0   0   0\n",
      "    0   0   0   0   0   0   0   0   0   0]\n",
      " [  0   0   0   0   0   0   0   0  56 236 252 224  71   0   0   0   0   0\n",
      "    0   0   0   0   0   0   0   0   0   0]\n",
      " [  0   0   0   0   0   0   0   0 164 252 246 120   0   0   0   0   0   0\n",
      "    0   8  27   9   0   0   0   0   0   0]\n",
      " [  0   0   0   0   0   0   0  62 236 252 122   0   0   0   0   0   6  63\n",
      "  146 174 252  88   5   0   0   0   0   0]\n",
      " [  0   0   0   0   0   0   0 226 252 217  31   0   0   0   0  64 183 252\n",
      "  252 252 252 252 162   0   0   0   0   0]\n",
      " [  0   0   0   0   0   0   0 228 253 186   0   0   0  70 190 255 253 253\n",
      "  253 221 222 253 226   0   0   0   0   0]\n",
      " [  0   0   0   0   0   0  46 237 218  37   0   0  12 191 252 253 252 156\n",
      "   33   9   9 177 225   0   0   0   0   0]\n",
      " [  0   0   0   0   0   0 107 252 244  47   0  15 180 252 252 209  32   3\n",
      "    0   0  49 244 225   0   0   0   0   0]\n",
      " [  0   0   0   0   0   0 107 252 209  25   0  41 252 252 252  21   0   0\n",
      "    0  22 187 252 225   0   0   0   0   0]\n",
      " [  0   0   0   0   0   0  23 232 252 175  18 146 252 248 115   0   0  61\n",
      "  110 214 252 241  96   0   0   0   0   0]\n",
      " [  0   0   0   0   0   0   0 226 252 252 203 231 252 241  54  54 180 245\n",
      "  252 252 252 114   0   0   0   0   0   0]\n",
      " [  0   0   0   0   0   0   0  71 204 252 252 252 252 252 252 253 252 252\n",
      "  252 220 114  25   0   0   0   0   0   0]\n",
      " [  0   0   0   0   0   0   0   0  30 128 245 252 252 252 252 226 225 225\n",
      "  113  20   0   0   0   0   0   0   0   0]\n",
      " [  0   0   0   0   0   0   0   0   0   0  79 199 252 252 181   0   0   0\n",
      "    0   0   0   0   0   0   0   0   0   0]\n",
      " [  0   0   0   0   0   0   0   0   0   0   0  41 252 252 252   0   0   0\n",
      "    0   0   0   0   0   0   0   0   0   0]\n",
      " [  0   0   0   0   0   0   0   0   0   0   0   0   0   0   0   0   0   0\n",
      "    0   0   0   0   0   0   0   0   0   0]\n",
      " [  0   0   0   0   0   0   0   0   0   0   0   0   0   0   0   0   0   0\n",
      "    0   0   0   0   0   0   0   0   0   0]\n",
      " [  0   0   0   0   0   0   0   0   0   0   0   0   0   0   0   0   0   0\n",
      "    0   0   0   0   0   0   0   0   0   0]\n",
      " [  0   0   0   0   0   0   0   0   0   0   0   0   0   0   0   0   0   0\n",
      "    0   0   0   0   0   0   0   0   0   0]\n",
      " [  0   0   0   0   0   0   0   0   0   0   0   0   0   0   0   0   0   0\n",
      "    0   0   0   0   0   0   0   0   0   0]]\n"
     ]
    }
   ],
   "source": [
    "def read_images(filename):\n",
    "    \"\"\"Read MNIST images\"\"\"\n",
    "    \n",
    "    with gzip.open(filename, 'r') as f:\n",
    "        # first 4 bytes is a magic number\n",
    "        magic_number = int.from_bytes(f.read(4), 'big')\n",
    "        # second 4 bytes is the number of images\n",
    "        image_count = int.from_bytes(f.read(4), 'big')\n",
    "        # third 4 bytes is the row count\n",
    "        row_count = int.from_bytes(f.read(4), 'big')\n",
    "        # fourth 4 bytes is the column count\n",
    "        column_count = int.from_bytes(f.read(4), 'big')\n",
    "        # rest is the image pixel data, each pixel is stored as an unsigned byte\n",
    "        # pixel values are 0 to 255\n",
    "        image_data = f.read()\n",
    "        images = np.frombuffer(image_data, dtype=np.uint8).reshape((image_count, row_count, column_count))\n",
    "        \n",
    "    return images\n",
    "\n",
    "def read_labels(filename):\n",
    "    \"\"\"Read MNIST labels\"\"\"\n",
    "    \n",
    "    with gzip.open(filename, 'r') as f:\n",
    "        # first 4 bytes is a magic number\n",
    "        magic_number = int.from_bytes(f.read(4), 'big')\n",
    "        # second 4 bytes is the number of labels\n",
    "        label_count = int.from_bytes(f.read(4), 'big')\n",
    "        # rest is the label data, each label is stored as unsigned byte\n",
    "        # label values are 0 to 9\n",
    "        label_data = f.read()\n",
    "        labels = np.frombuffer(label_data, dtype=np.uint8)\n",
    "        \n",
    "    return labels\n",
    "\n",
    "\n",
    "dataset_path = 'C:/Users/BIDIT/OneDrive/Documents/Machine Learning/Assignments/Assignment-6/'\n",
    "\n",
    "train_image_filename = ''.join([dataset_path, 'train-images-idx3-ubyte.gz'])\n",
    "train_label_filename = ''.join([dataset_path, 'train-labels-idx1-ubyte.gz'])\n",
    "\n",
    "test_image_filename = ''.join([dataset_path, 't10k-images-idx3-ubyte.gz'])\n",
    "test_label_filename = ''.join([dataset_path, 't10k-labels-idx1-ubyte.gz'])\n",
    "\n",
    "train_images = read_images(train_image_filename)\n",
    "train_labels = read_labels(train_label_filename)\n",
    "print('Train data (X) size: {}, and labels (Y) size: {}' .format(train_images.shape, train_labels.shape))\n",
    "\n",
    "test_images = read_images(test_image_filename)\n",
    "test_labels = read_labels(test_label_filename)\n",
    "print('Test data (X) size: {}, and labels (Y) size: {}' .format(test_images.shape, test_labels.shape))\n",
    "\n",
    "rand_ids = np.random.choice(train_images.shape[0])\n",
    "plt.imshow(train_images[rand_ids, :, :], cmap='gray')\n",
    "plt.title('class-'+str(train_labels[rand_ids]))\n",
    "plt.show()\n",
    "\n",
    "print('Train image {}-th sample ' .format(rand_ids))\n",
    "print(train_images[rand_ids, :, :])"
   ]
  },
  {
   "cell_type": "markdown",
   "id": "f94ec3be",
   "metadata": {},
   "source": [
    "## DATA PROCESSING"
   ]
  },
  {
   "cell_type": "code",
   "execution_count": 3,
   "id": "e4f9ed89",
   "metadata": {},
   "outputs": [
    {
     "name": "stdout",
     "output_type": "stream",
     "text": [
      "(60000, 784)\n"
     ]
    }
   ],
   "source": [
    "# As there are no parameters in the model, we dont use any validation set.\n",
    "\n",
    "train_flat = np.array(train_images.reshape(60000, 28*28), dtype = np.float64) # CONVERTING IN DESIRED FORM\n",
    "#train_flat\n",
    "np.random.seed(69)\n",
    "ran = np.random.choice(range(60000), 60000, replace = False) # GENERATING RANDOM INDICES FOR SHUFFLING\n",
    "#ran\n",
    "train_df = train_flat[ran] # SHUFFLING USING RANDOM INDICES : FANCY INDEXING\n",
    "train_labels = train_labels[ran]\n",
    "\n",
    "\n",
    "print(train_df.shape)"
   ]
  },
  {
   "cell_type": "markdown",
   "id": "28ed7fc6",
   "metadata": {},
   "source": [
    "## Model"
   ]
  },
  {
   "cell_type": "code",
   "execution_count": 4,
   "id": "ff833d8f",
   "metadata": {},
   "outputs": [],
   "source": [
    "def sigmoid(x):\n",
    "    return 1/(1+np.exp(-x))\n",
    "\n",
    "\n",
    "\n",
    "def fit(X,y,learning_rate,no_of_iter):\n",
    "    lr =learning_rate\n",
    "    n_iter = no_of_iter\n",
    "    n_samples,n_features = X.shape\n",
    "    weights = np.zeros(n_features)\n",
    "    bias = 0\n",
    "    \n",
    "    for i in range(n_iter):\n",
    "        linear_pred = np.dot(X,weights) + bias\n",
    "        predictions =sigmoid(linear_pred)\n",
    "        \n",
    "        dw = (1/n_samples)*np.dot(X.T, (predictions - y))\n",
    "        db = (1/n_samples)*np.sum(predictions - y)\n",
    "        \n",
    "        weights = weights -lr*dw\n",
    "        bias = bias - lr*db\n",
    "    #print(predictions)\n",
    "    return weights, bias     \n",
    "\n",
    "\n",
    "def predictions(X, weights, bias):\n",
    "    X_flat = X.reshape(X.shape[0], -1)\n",
    "    linear_pred = np.dot(X_flat,weights) + bias\n",
    "    y_pred = sigmoid(linear_pred)\n",
    "    \n",
    "    #class_pred = [0 if y <= 0.5 else 1 for y in y_pred ]\n",
    "    #return class_pred\n",
    "    return y_pred\n",
    "\n",
    "\n",
    "def accuracy(y_pred, y_test):\n",
    "    return np.sum(y_pred == y_test)/len(y_test)"
   ]
  },
  {
   "cell_type": "code",
   "execution_count": 5,
   "id": "9fe3faba",
   "metadata": {},
   "outputs": [],
   "source": [
    "# As there are 10 classes, we train 10 classifiers.\n",
    "# like: 1(=x) vs 0(=all except x) for x = 0 to 9.\n",
    "# appending predictions to a list\n",
    "Pred= []\n",
    "for _ in range(10):\n",
    "    w, b = fit(train_df/255, np.array([1 if lab == _ else 0 for lab in train_labels]),0.1,1000) # scaling the values btw 0&1\n",
    "    y_pred = predictions(test_images/255,w,b) ## scaling the values btw 0&1\n",
    "    Pred.append(y_pred)"
   ]
  },
  {
   "cell_type": "code",
   "execution_count": 6,
   "id": "5cd2bb23",
   "metadata": {},
   "outputs": [],
   "source": [
    "# Converting the list to a 2D array\n",
    "Predictions = np.array(Pred)"
   ]
  },
  {
   "cell_type": "code",
   "execution_count": 7,
   "id": "3adbd88d",
   "metadata": {},
   "outputs": [],
   "source": [
    "# The Max prob gives us the predicted class level\n",
    "predicted_labels = np.argmax(Predictions, axis = 0)"
   ]
  },
  {
   "cell_type": "code",
   "execution_count": 8,
   "id": "53155b34",
   "metadata": {},
   "outputs": [
    {
     "data": {
      "text/plain": [
       "array([7, 2, 1, ..., 4, 8, 6], dtype=int64)"
      ]
     },
     "execution_count": 8,
     "metadata": {},
     "output_type": "execute_result"
    }
   ],
   "source": [
    "# Predicted class labels\n",
    "predicted_labels"
   ]
  },
  {
   "cell_type": "code",
   "execution_count": 9,
   "id": "b2b002fe",
   "metadata": {},
   "outputs": [
    {
     "data": {
      "text/plain": [
       "0.9014"
      ]
     },
     "execution_count": 9,
     "metadata": {},
     "output_type": "execute_result"
    }
   ],
   "source": [
    "# Model Accuracy\n",
    "accuracy(predicted_labels, test_labels)"
   ]
  },
  {
   "cell_type": "markdown",
   "id": "eeda598b",
   "metadata": {},
   "source": [
    "## Confusion Matrix "
   ]
  },
  {
   "cell_type": "code",
   "execution_count": 10,
   "id": "62055303",
   "metadata": {},
   "outputs": [
    {
     "name": "stdout",
     "output_type": "stream",
     "text": [
      "Confusion Matrix\n",
      "Actual vs Predicted\n",
      "     0     1    2    3    4    5    6    7    8    9\n",
      "0  961     0    2    2    1    0    7    1    6    0\n",
      "1    0  1100    2    3    1    1    4    2   22    0\n",
      "2    8    12  885   20   14    0   17   16   51    9\n",
      "3    6     1   20  904    1   26    5   15   21   11\n",
      "4    1     3    6    1  899    1   10    1   11   49\n",
      "5   18     6    5   48   17  712   20   10   43   13\n",
      "6   12     3    4    3    8   15  906    1    6    0\n",
      "7    3    18   28    5    9    0    2  925    2   36\n",
      "8   11    10    8   21    8   23   13   15  855   10\n",
      "9   11     8    8   15   45   11    0   33   11  867\n",
      "\n",
      "\n",
      "Accuracy is:\n",
      "0.9014\n"
     ]
    }
   ],
   "source": [
    "# Confusion Matrix\n",
    "\n",
    "con_mat = np.array(np.zeros(100),dtype= np.int32).reshape(10,10)\n",
    "for i,j in zip(test_labels, predicted_labels):\n",
    "    con_mat[i,j] += 1\n",
    "con_mat_df = pd.DataFrame(con_mat)\n",
    "print('Confusion Matrix\\nActual vs Predicted');\n",
    "print(con_mat_df);\n",
    "print('\\n')\n",
    "\n",
    "# Accuracy\n",
    "print('Accuracy is:')\n",
    "print(np.trace(con_mat_df)/10000)\n"
   ]
  },
  {
   "cell_type": "code",
   "execution_count": null,
   "id": "916fd85e",
   "metadata": {},
   "outputs": [],
   "source": []
  },
  {
   "cell_type": "code",
   "execution_count": null,
   "id": "d5230c11",
   "metadata": {},
   "outputs": [],
   "source": []
  }
 ],
 "metadata": {
  "kernelspec": {
   "display_name": "Python 3 (ipykernel)",
   "language": "python",
   "name": "python3"
  },
  "language_info": {
   "codemirror_mode": {
    "name": "ipython",
    "version": 3
   },
   "file_extension": ".py",
   "mimetype": "text/x-python",
   "name": "python",
   "nbconvert_exporter": "python",
   "pygments_lexer": "ipython3",
   "version": "3.9.12"
  }
 },
 "nbformat": 4,
 "nbformat_minor": 5
}
