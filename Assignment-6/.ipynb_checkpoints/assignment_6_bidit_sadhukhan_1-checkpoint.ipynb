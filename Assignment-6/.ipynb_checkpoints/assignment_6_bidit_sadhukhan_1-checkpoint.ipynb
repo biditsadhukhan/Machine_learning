{
 "cells": [
  {
   "cell_type": "markdown",
   "id": "3ea13cea",
   "metadata": {},
   "source": [
    "## Name- Bidit Sadhukhan\n",
    "### B2230022 "
   ]
  },
  {
   "cell_type": "markdown",
   "id": "92d5e25d",
   "metadata": {},
   "source": [
    "**Importing the libraries**"
   ]
  },
  {
   "cell_type": "code",
   "execution_count": 1,
   "id": "8c9e8027",
   "metadata": {},
   "outputs": [],
   "source": [
    "import gzip\n",
    "import time\n",
    "import numpy as np\n",
    "import matplotlib.pyplot as plt\n",
    "import numpy  as np\n",
    "import random\n",
    "import cupy as cp\n",
    "import pandas as pd"
   ]
  },
  {
   "cell_type": "markdown",
   "id": "80454aa6",
   "metadata": {},
   "source": [
    "**Reading the data files**"
   ]
  },
  {
   "cell_type": "code",
   "execution_count": 2,
   "id": "9087a45c",
   "metadata": {},
   "outputs": [
    {
     "name": "stdout",
     "output_type": "stream",
     "text": [
      "Train data (X) size: (60000, 28, 28), and labels (Y) size: (60000,)\n",
      "Test data (X) size: (10000, 28, 28), and labels (Y) size: (10000,)\n"
     ]
    },
    {
     "data": {
      "image/png": "[encoded data removed]",
      "text/plain": [
       "<Figure size 432x288 with 1 Axes>"
      ]
     },
     "metadata": {
      "needs_background": "light"
     },
     "output_type": "display_data"
    },
    {
     "name": "stdout",
     "output_type": "stream",
     "text": [
      "[[  0   0   0   0   0   0   0   0   0   0   0   0   0   0   0   0   0   0\n",
      "    0   0   0   0   0   0   0   0   0   0]\n",
      " [  0   0   0   0   0   0   0   0   0   0   0   0   0   0   0   0   0   0\n",
      "    0   0   0   0   0   0   0   0   0   0]\n",
      " [  0   0   0   0   0   0   0   0   0   0   0   0 147 253 146   0   0   0\n",
      "    0   0   0   0   0   0   0   0   0   0]\n",
      " [  0   0   0   0   0   0   0   0   0   0   0  38 234 252 223   0   0   0\n",
      "    0   0   0   0   0   0   0   0   0   0]\n",
      " [  0   0   0   0   0   0   0   0   0   0   0 144 252 252 114   0   0   0\n",
      "    0   0   0   0   0   0   0   0   0   0]\n",
      " [  0   0   0   0   0   0   0   0   0   0   0 253 252 252  84   0   0   0\n",
      "    0   0   0   0   0   0   0   0   0   0]\n",
      " [  0   0   0   0   0   0   0   0   0   0   0 253 252 252  84   0   0   0\n",
      "    0   0   0   0   0   0   0   0   0   0]\n",
      " [  0   0   0   0   0   0   0   0   0   0   0 255 253 196   0   0   0   0\n",
      "    0   0   0   0   0   0   0   0   0   0]\n",
      " [  0   0   0   0   0   0   0   0   0   0   0 253 252 148   0   0   0   0\n",
      "    0   0   0   0   0   0   0   0   0   0]\n",
      " [  0   0   0   0   0   0   0   0   0   0 111 253 252  55   0   0   0   0\n",
      "    0   0   0   0   0   0   0   0   0   0]\n",
      " [  0   0   0   0   0   0   0   0   0   0 140 253 252  55   0   0   0   0\n",
      "    0   0   0   0   0   0   0   0   0   0]\n",
      " [  0   0   0   0   0   0   0   0   0   0 140 253 252  55   0   0   0   0\n",
      "    0   0   0   0   0   0   0   0   0   0]\n",
      " [  0   0   0   0   0   0   0   0   0   0 141 255 253  56   0   0   0 147\n",
      "  253 253 253  63   0   0   0   0   0   0]\n",
      " [  0   0   0   0   0   0   0   0   0  10 178 253 252  55   0  48 226 249\n",
      "  252 252 252 241  24   0   0   0   0   0]\n",
      " [  0   0   0   0   0   0   0   0   0  29 252 253 252  87  23 227 253 252\n",
      "  252 252 252 228  21   0   0   0   0   0]\n",
      " [  0   0   0   0   0   0   0   0   0  26 239 253 252 195 123 252 253 252\n",
      "  252 252 252  47   0   0   0   0   0   0]\n",
      " [  0   0   0   0   0   0   0   0   0   0 140 253 252 227 136 252 253 252\n",
      "  252 252 252   0   0   0   0   0   0   0]\n",
      " [  0   0   0   0   0   0   0   0   0   0 141 255 253 253 253 253 255 253\n",
      "  253 253 112   0   0   0   0   0   0   0]\n",
      " [  0   0   0   0   0   0   0   0   0   0  94 253 252 252 252 252 253 252\n",
      "  252 102  12   0   0   0   0   0   0   0]\n",
      " [  0   0   0   0   0   0   0   0   0   0   0 253 252 252 252 252 253 233\n",
      "  164  19   0   0   0   0   0   0   0   0]\n",
      " [  0   0   0   0   0   0   0   0   0   0   0  84 234 252 252 252 225  71\n",
      "    0   0   0   0   0   0   0   0   0   0]\n",
      " [  0   0   0   0   0   0   0   0   0   0   0   0 146 252 157 112   0   0\n",
      "    0   0   0   0   0   0   0   0   0   0]\n",
      " [  0   0   0   0   0   0   0   0   0   0   0   0   0   0   0   0   0   0\n",
      "    0   0   0   0   0   0   0   0   0   0]\n",
      " [  0   0   0   0   0   0   0   0   0   0   0   0   0   0   0   0   0   0\n",
      "    0   0   0   0   0   0   0   0   0   0]\n",
      " [  0   0   0   0   0   0   0   0   0   0   0   0   0   0   0   0   0   0\n",
      "    0   0   0   0   0   0   0   0   0   0]\n",
      " [  0   0   0   0   0   0   0   0   0   0   0   0   0   0   0   0   0   0\n",
      "    0   0   0   0   0   0   0   0   0   0]\n",
      " [  0   0   0   0   0   0   0   0   0   0   0   0   0   0   0   0   0   0\n",
      "    0   0   0   0   0   0   0   0   0   0]\n",
      " [  0   0   0   0   0   0   0   0   0   0   0   0   0   0   0   0   0   0\n",
      "    0   0   0   0   0   0   0   0   0   0]]\n"
     ]
    }
   ],
   "source": [
    "def read_images(filename):\n",
    "    \"\"\"Read MNIST images\"\"\"\n",
    "    \n",
    "    with gzip.open(filename, 'rb') as f:\n",
    "        # first 4 bytes is a magic number\n",
    "        magic_number = int.from_bytes(f.read(4), 'big')\n",
    "        # second 4 bytes is the number of images\n",
    "        image_count = int.from_bytes(f.read(4), 'big')\n",
    "        # third 4 bytes is the row count\n",
    "        row_count = int.from_bytes(f.read(4), 'big')\n",
    "        # fourth 4 bytes is the column count\n",
    "        column_count = int.from_bytes(f.read(4), 'big')\n",
    "        # rest is the image pixel data, each pixel is stored as an unsigned byte\n",
    "        # pixel values are 0 to 255\n",
    "        image_data = f.read()\n",
    "        images = cp.asarray(bytearray(image_data), dtype=cp.uint8).reshape((image_count, row_count, column_count))\n",
    "        \n",
    "    return images\n",
    "\n",
    "def read_labels(filename):\n",
    "    \"\"\"Read MNIST labels\"\"\"\n",
    "    \n",
    "    with gzip.open(filename, 'rb') as f:\n",
    "        # first 4 bytes is a magic number\n",
    "        magic_number = int.from_bytes(f.read(4), 'big')\n",
    "        # second 4 bytes is the number of labels\n",
    "        label_count = int.from_bytes(f.read(4), 'big')\n",
    "        # rest is the label data, each label is stored as unsigned byte\n",
    "        # label values are 0 to 9\n",
    "        label_data = f.read()\n",
    "        labels = cp.asarray(bytearray(label_data), dtype=cp.uint8)\n",
    "        \n",
    "    return labels\n",
    "\n",
    "\n",
    "dataset_path = 'C:/Users/BIDIT/OneDrive/Documents/Machine Learning/Assignments/Assignment-6/'\n",
    "\n",
    "train_image_filename = ''.join([dataset_path, 'train-images-idx3-ubyte.gz'])\n",
    "train_label_filename = ''.join([dataset_path, 'train-labels-idx1-ubyte.gz'])\n",
    "\n",
    "test_image_filename = ''.join([dataset_path, 't10k-images-idx3-ubyte.gz'])\n",
    "test_label_filename = ''.join([dataset_path, 't10k-labels-idx1-ubyte.gz'])\n",
    "\n",
    "train_images = read_images(train_image_filename)\n",
    "train_labels = read_labels(train_label_filename)\n",
    "print('Train data (X) size: {}, and labels (Y) size: {}'.format(train_images.shape, train_labels.shape))\n",
    "\n",
    "test_images = read_images(test_image_filename)\n",
    "test_labels = read_labels(test_label_filename)\n",
    "print('Test data (X) size: {}, and labels (Y) size: {}'.format(test_images.shape, test_labels.shape))\n",
    "\n",
    "\n",
    "random_seed=cp.random.randint(0,400)\n",
    "cp.random.seed(random_seed.get())\n",
    "rand_ids = cp.random.choice(train_images.shape[0], size=1).item()\n",
    "plt.imshow(train_images[rand_ids, :, :].get(), cmap='gray')\n",
    "plt.title('Class-' + str(train_labels[rand_ids].get()))\n",
    "plt.suptitle('Train image {}-th sample'.format(rand_ids))\n",
    "plt.show()\n",
    "\n",
    "\n",
    "print(train_images[rand_ids, :, :].get())"
   ]
  },
  {
   "cell_type": "markdown",
   "id": "f94ec3be",
   "metadata": {},
   "source": [
    "**Processing the data**"
   ]
  },
  {
   "cell_type": "code",
   "execution_count": 3,
   "id": "6802c79f",
   "metadata": {},
   "outputs": [
    {
     "name": "stdout",
     "output_type": "stream",
     "text": [
      "Sample points selected: [26106 56261 12278 ... 12998 32965 37120]\n",
      "(60000, 784)\n",
      "Labels of the selected images: [4 1 7 ... 3 8 2]\n"
     ]
    },
    {
     "data": {
      "image/png": "[encoded data removed]",
      "text/plain": [
       "<Figure size 432x288 with 1 Axes>"
      ]
     },
     "metadata": {
      "needs_background": "light"
     },
     "output_type": "display_data"
    }
   ],
   "source": [
    "# Convert train_images to a flattened CuPy array of shape (60000, 784)\n",
    "flattened_train_images = cp.asarray(train_images.reshape(train_images.shape[0], -1), dtype=cp.float64)\n",
    "\n",
    "# Generate a random permutation of indices without replacement\n",
    "random_indices = cp.random.permutation(60000)\n",
    "print('Sample points selected:',cp.array(random_indices))\n",
    "\n",
    "\n",
    "# Shuffle flattened_train_images and train_labels using the generated random indices\n",
    "shuffled_train_images, shuffled_train_labels = flattened_train_images[random_indices], train_labels[random_indices]\n",
    "\n",
    "# Print the shape of the shuffled_train_images\n",
    "print(shuffled_train_images.shape)\n",
    "\n",
    "\n",
    "# Get the first flattened image and its corresponding label\n",
    "selected_index = 0\n",
    "selected_image = shuffled_train_images[selected_index]\n",
    "selected_label = shuffled_train_labels[selected_index]\n",
    "print('Labels of the selected images:',shuffled_train_labels)\n",
    "# Reshape the selected image to its original shape (28, 28)\n",
    "reshaped_image = selected_image.reshape(28, 28)\n",
    "\n",
    "# Plot the image with the class label as the title\n",
    "plt.imshow(reshaped_image.get(), cmap='gray')\n",
    "plt.title('Class Label: {}'.format(selected_label.get()))\n",
    "plt.suptitle('Selected Sample={}'.format(random_indices[0]))\n",
    "plt.show()"
   ]
  },
  {
   "cell_type": "markdown",
   "id": "28ed7fc6",
   "metadata": {},
   "source": [
    "**Model to fit the data**"
   ]
  },
  {
   "cell_type": "code",
   "execution_count": 4,
   "id": "9e7e0a17",
   "metadata": {},
   "outputs": [],
   "source": [
    "def sigmoid(x):\n",
    "    \"\"\"Sigmoid activation function.\"\"\"\n",
    "    return 1 / (1 + cp.exp(-x))\n",
    "\n",
    "\n",
    "def logistic_regression_fit(X, y, learning_rate, num_iterations):\n",
    "    \"\"\"\n",
    "    Fit the logistic regression model to the training data.\n",
    "\n",
    "    Parameters:\n",
    "        X (cupy.ndarray): Training data features.\n",
    "        y (cupy.ndarray): Training data labels.\n",
    "        learning_rate (float): Learning rate for gradient descent.\n",
    "        num_iterations (int): Number of iterations for training.\n",
    "\n",
    "    Returns:\n",
    "        weights (cupy.ndarray): Learned weights of the model.\n",
    "        bias (float): Learned bias of the model.\n",
    "    \"\"\"\n",
    "    lr = learning_rate\n",
    "    n_iter = num_iterations\n",
    "    n_samples, n_features = X.shape\n",
    "    weights = cp.zeros(n_features)\n",
    "    bias = 0\n",
    "\n",
    "    start_time = time.time()  # Start timer\n",
    "\n",
    "    for i in range(n_iter):\n",
    "        linear_predictions = cp.dot(X, weights) + bias\n",
    "        predictions = sigmoid(linear_predictions)\n",
    "\n",
    "        dw = (1 / n_samples) * cp.dot(X.T, (predictions - y))\n",
    "        db = (1 / n_samples) * cp.sum(predictions - y)\n",
    "\n",
    "        weights = weights - lr * dw\n",
    "        bias = bias - lr * db\n",
    "\n",
    "        elapsed_time = time.time() - start_time\n",
    "        print(f\"Iteration {i+1}/{n_iter} | Elapsed time: {elapsed_time:.2f} seconds\", end=\"\\r\")\n",
    "    print()  # Print a new line after training completion\n",
    "    return weights, bias\n",
    "\n",
    "\n",
    "def logistic_regression_predict(X, weights, bias):\n",
    "    \"\"\"\n",
    "    Generate predictions using the learned logistic regression model.\n",
    "\n",
    "    Parameters:\n",
    "        X (cupy.ndarray): Input data features.\n",
    "        weights (cupy.ndarray): Learned weights of the model.\n",
    "        bias (float): Learned bias of the model.\n",
    "\n",
    "    Returns:\n",
    "        y_pred (cupy.ndarray): Predicted probabilities.\n",
    "    \"\"\"\n",
    "    X_flat = X.reshape(X.shape[0], -1)\n",
    "    linear_predictions = cp.dot(X_flat, weights) + bias\n",
    "    y_pred = sigmoid(linear_predictions)\n",
    "\n",
    "    return y_pred\n",
    "\n",
    "\n",
    "def compute_accuracy(y_pred, y_true):\n",
    "    \"\"\"\n",
    "    Compute the accuracy of the predicted labels.\n",
    "\n",
    "    Parameters:\n",
    "        y_pred (cupy.ndarray): Predicted labels.\n",
    "        y_true (cupy.ndarray): True labels.\n",
    "\n",
    "    Returns:\n",
    "        accuracy (float): Accuracy of the predictions.\n",
    "    \"\"\"\n",
    "    return cp.sum(y_pred == y_true) / len(y_true)\n"
   ]
  },
  {
   "cell_type": "markdown",
   "id": "3a275924",
   "metadata": {},
   "source": [
    "**Training the classifiers using a one vs all approach**"
   ]
  },
  {
   "cell_type": "code",
   "execution_count": 5,
   "id": "da04e2f9",
   "metadata": {},
   "outputs": [
    {
     "name": "stdout",
     "output_type": "stream",
     "text": [
      "Iteration 1000/1000 | Elapsed time: 4.87 seconds\n",
      "Iteration 1000/1000 | Elapsed time: 4.02 seconds\n",
      "Iteration 1000/1000 | Elapsed time: 4.23 seconds\n",
      "Iteration 1000/1000 | Elapsed time: 4.26 seconds\n",
      "Iteration 1000/1000 | Elapsed time: 4.24 seconds\n",
      "Iteration 1000/1000 | Elapsed time: 4.24 seconds\n",
      "Iteration 1000/1000 | Elapsed time: 4.25 seconds\n",
      "Iteration 1000/1000 | Elapsed time: 4.26 seconds\n",
      "Iteration 1000/1000 | Elapsed time: 4.26 seconds\n",
      "Iteration 1000/1000 | Elapsed time: 4.25 seconds\n",
      "[array([1.50525185e-02, 8.45534920e-02, 1.86185707e-03, ...,\n",
      "       7.79685694e-06, 3.46538575e-03, 1.12646873e-02]), array([9.32967536e-05, 5.40146771e-04, 9.53920174e-01, ...,\n",
      "       4.95116952e-05, 5.45901368e-03, 5.71108004e-07]), array([1.87560256e-02, 8.95999150e-01, 5.44852726e-02, ...,\n",
      "       1.06433735e-04, 8.35773615e-04, 1.58299853e-02]), array([6.65511221e-02, 1.04848300e-01, 3.54860886e-02, ...,\n",
      "       2.30706206e-04, 4.44394139e-03, 8.18446683e-07]), array([1.11080210e-03, 1.83410347e-06, 1.14576293e-02, ...,\n",
      "       7.47506818e-01, 1.59333990e-02, 2.76222716e-04]), array([4.90003689e-03, 1.58451839e-01, 2.03125151e-02, ...,\n",
      "       2.92828086e-02, 2.43774465e-01, 1.80039391e-04]), array([1.35103252e-04, 2.51241715e-01, 3.88543273e-02, ...,\n",
      "       6.09758773e-04, 8.60411097e-03, 9.94471274e-01]), array([9.94243614e-01, 2.01978955e-06, 4.31543366e-02, ...,\n",
      "       8.85808676e-03, 1.21375846e-03, 1.42171760e-06]), array([9.87196324e-03, 3.44456596e-02, 3.11629769e-02, ...,\n",
      "       4.57755781e-02, 3.87627587e-01, 3.05201104e-05]), array([1.90060229e-02, 4.05085039e-05, 1.89833187e-02, ...,\n",
      "       5.04210634e-02, 4.94408914e-04, 6.68867244e-05])]\n"
     ]
    }
   ],
   "source": [
    "# Train 10 classifiers using a one-vs-all approach\n",
    "# Each classifier is trained to distinguish between one class (x) and the rest (0)\n",
    "# Predictions for each classifier are appended to a list\n",
    "\n",
    "predictions_list = []\n",
    "\n",
    "# Convert labels to binary format for all classes\n",
    "binary_labels = cp.zeros((len(shuffled_train_labels), 10))\n",
    "for class_label in range(10):\n",
    "    binary_labels[:, class_label] = cp.where(shuffled_train_labels == class_label, 1, 0)\n",
    "\n",
    "# Train the logistic regression models for each class\n",
    "for class_label in range(10):\n",
    "    # Get the binary labels for the current class\n",
    "    binary_labels_current_class = binary_labels[:, class_label]\n",
    "\n",
    "    # Train the logistic regression model\n",
    "    weights, bias = logistic_regression_fit(shuffled_train_images / 255, binary_labels_current_class, 0.1, 1000)  # Scaling the values between 0 and 1\n",
    "\n",
    "    # Make predictions on the test data\n",
    "    y_predict = logistic_regression_predict(test_images / 255, weights, bias)  # Scaling the values between 0 and 1\n",
    "\n",
    "    predictions_list.append(y_predict)\n",
    "\n",
    "print(predictions_list)\n"
   ]
  },
  {
   "cell_type": "code",
   "execution_count": 6,
   "id": "5cd2bb23",
   "metadata": {},
   "outputs": [
    {
     "name": "stdout",
     "output_type": "stream",
     "text": [
      "[[1.50525185e-02 8.45534920e-02 1.86185707e-03 ... 7.79685694e-06\n",
      "  3.46538575e-03 1.12646873e-02]\n",
      " [9.32967536e-05 5.40146771e-04 9.53920174e-01 ... 4.95116952e-05\n",
      "  5.45901368e-03 5.71108004e-07]\n",
      " [1.87560256e-02 8.95999150e-01 5.44852726e-02 ... 1.06433735e-04\n",
      "  8.35773615e-04 1.58299853e-02]\n",
      " ...\n",
      " [9.94243614e-01 2.01978955e-06 4.31543366e-02 ... 8.85808676e-03\n",
      "  1.21375846e-03 1.42171760e-06]\n",
      " [9.87196324e-03 3.44456596e-02 3.11629769e-02 ... 4.57755781e-02\n",
      "  3.87627587e-01 3.05201104e-05]\n",
      " [1.90060229e-02 4.05085039e-05 1.89833187e-02 ... 5.04210634e-02\n",
      "  4.94408914e-04 6.68867244e-05]]\n"
     ]
    }
   ],
   "source": [
    "# Convert the list to a 2D array\n",
    "predictions_array = cp.array(predictions_list)\n",
    "\n",
    "# Print the predictions array\n",
    "print(predictions_array)\n"
   ]
  },
  {
   "cell_type": "markdown",
   "id": "ec143ed9",
   "metadata": {},
   "source": [
    "**Prediction of the class label**"
   ]
  },
  {
   "cell_type": "code",
   "execution_count": 7,
   "id": "3adbd88d",
   "metadata": {},
   "outputs": [
    {
     "name": "stdout",
     "output_type": "stream",
     "text": [
      "[7 2 1 ... 4 8 6]\n"
     ]
    }
   ],
   "source": [
    "# Find the predicted class labels based on the maximum probability\n",
    "predicted_classes = cp.argmax(predictions_array, axis=0)\n",
    "\n",
    "# Print the predicted class labels\n",
    "print(predicted_classes)\n"
   ]
  },
  {
   "cell_type": "markdown",
   "id": "ba08f1cf",
   "metadata": {},
   "source": [
    "**Model Accuracy**"
   ]
  },
  {
   "cell_type": "code",
   "execution_count": 8,
   "id": "b2b002fe",
   "metadata": {},
   "outputs": [
    {
     "name": "stdout",
     "output_type": "stream",
     "text": [
      "Model Accuracy: 0.9014\n"
     ]
    }
   ],
   "source": [
    "# Compute the accuracy of the model\n",
    "acc = compute_accuracy(predicted_classes, test_labels)\n",
    "\n",
    "# Print the accuracy\n",
    "print(f\"Model Accuracy: {acc}\")\n"
   ]
  },
  {
   "cell_type": "markdown",
   "id": "eeda598b",
   "metadata": {},
   "source": [
    "## Confusion Matrix "
   ]
  },
  {
   "cell_type": "code",
   "execution_count": 9,
   "id": "befd389c",
   "metadata": {},
   "outputs": [
    {
     "name": "stdout",
     "output_type": "stream",
     "text": [
      "Confusion Matrix\n",
      "Actual vs Predicted\n",
      "     0     1    2    3    4    5    6    7    8    9\n",
      "0  961     0    2    2    1    0    7    1    6    0\n",
      "1    0  1100    2    3    1    1    4    2   22    0\n",
      "2    8    12  885   20   14    0   17   16   51    9\n",
      "3    6     1   20  904    1   26    5   15   21   11\n",
      "4    1     3    6    1  899    1   10    1   11   49\n",
      "5   18     6    5   48   17  712   20   10   43   13\n",
      "6   12     3    4    3    8   15  906    1    6    0\n",
      "7    3    18   28    5    9    0    2  925    2   36\n",
      "8   11    10    8   21    8   23   13   15  855   10\n",
      "9   11     8    8   15   45   11    0   33   11  867\n",
      "\n",
      "Accuracy is:\n",
      "0.9014\n"
     ]
    }
   ],
   "source": [
    "# Convert the test_labels and predicted_labels to Cupy arrays\n",
    "test_labels_cp = cp.asarray(test_labels)\n",
    "predicted_labels_cp = cp.asarray(predicted_classes)\n",
    "\n",
    "# Compute the confusion matrix\n",
    "con_mat_cp = cp.bincount(test_labels_cp * 10 + predicted_labels_cp, minlength=100).reshape(10, 10)\n",
    "\n",
    "# Print the confusion matrix\n",
    "print('Confusion Matrix\\nActual vs Predicted')\n",
    "con_mat_df = pd.DataFrame(con_mat_cp.get())\n",
    "print(con_mat_df)\n",
    "print()\n",
    "\n",
    "# Compute accuracy\n",
    "accuracy = cp.trace(con_mat_cp) / len(test_labels)\n",
    "print('Accuracy is:')\n",
    "print(accuracy)\n"
   ]
  }
 ],
 "metadata": {
  "kernelspec": {
   "display_name": "Python 3 (ipykernel)",
   "language": "python",
   "name": "python3"
  },
  "language_info": {
   "codemirror_mode": {
    "name": "ipython",
    "version": 3
   },
   "file_extension": ".py",
   "mimetype": "text/x-python",
   "name": "python",
   "nbconvert_exporter": "python",
   "pygments_lexer": "ipython3",
   "version": "3.9.12"
  }
 },
 "nbformat": 4,
 "nbformat_minor": 5
}
