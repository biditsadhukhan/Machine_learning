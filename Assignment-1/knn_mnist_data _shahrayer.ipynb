{
 "cells": [
  {
   "cell_type": "code",
   "execution_count": 1,
   "id": "e44d1475",
   "metadata": {},
   "outputs": [],
   "source": [
    "\"\"\"Shahareyar Hossain\n",
    "-----------------------------------------------------------------------------\n",
    "MNIST digit data reading helper\n",
    "-----------------------------------------------------------------------------\n",
    "AUTHOR: Soumitra Samanta (soumitra.samanta@gm.rkmvu.ac.in)\n",
    "-----------------------------------------------------------------------------\n",
    "\"\"\"\n",
    "\n",
    "import gzip\n",
    "import numpy as np\n",
    "import matplotlib.pyplot as plt\n",
    "import numpy  as np\n",
    "import random\n",
    "\n",
    "import pandas as pd\n"
   ]
  },
  {
   "cell_type": "markdown",
   "id": "d46e981e",
   "metadata": {},
   "source": [
    "# Read MNIST data:\n",
    "There are many [ways](https://stackoverflow.com/questions/40427435/extract-images-from-idx3-ubyte-file-or-gzip-via-python) you can read the MNIST data. Here is a [way](https://stackoverflow.com/a/62781370) to read all the information."
   ]
  },
  {
   "cell_type": "code",
   "execution_count": 2,
   "id": "01d81291",
   "metadata": {},
   "outputs": [
    {
     "name": "stdout",
     "output_type": "stream",
     "text": [
      "Train data (X) size: (60000, 28, 28), and labels (Y) size: (60000,)\n",
      "Test data (X) size: (10000, 28, 28), and labels (Y) size: (10000,)\n"
     ]
    },
    {
     "data": {
      "image/png": "[encoded data removed]",
      "text/plain": [
       "<Figure size 432x288 with 1 Axes>"
      ]
     },
     "metadata": {
      "needs_background": "light"
     },
     "output_type": "display_data"
    },
    {
     "name": "stdout",
     "output_type": "stream",
     "text": [
      "Train image 30327-th sample \n",
      "[[  0   0   0   0   0   0   0   0   0   0   0   0   0   0   0   0   0   0\n",
      "    0   0   0   0   0   0   0   0   0   0]\n",
      " [  0   0   0   0   0   0   0   0   0   0   0   0   0   0   0   0   0   0\n",
      "    0   0   0   0   0   0   0   0   0   0]\n",
      " [  0   0   0   0   0   0   0   0   0   0   0   0   0   0   0   0   0   0\n",
      "    0   0   0   0   0   0   0   0   0   0]\n",
      " [  0   0   0   0   0   0   0   0   0   0   0   0   0   0   0   0   0   0\n",
      "    0   0   0   0   0   0   0   0   0   0]\n",
      " [  0   0   0   0   0   0   0   0   0   0   0   0   0   0   0   0   0   0\n",
      "    0   0   0   0   0   0   0   0   0   0]\n",
      " [  0   0   0   0   0   0   0   0   0   0   0   0   0   0   0   0   0   0\n",
      "    0   0   0   0   0   0   0   0   0   0]\n",
      " [  0   0   0   0   0   0   0   0 126 165  36   0   0   0   0 123 253  83\n",
      "    0   0   0   0   0   0   0   0   0   0]\n",
      " [  0   0   0   0   0   0   0   8 197 252 211   0   0   0   0 253 252 126\n",
      "    0   0   0   0   0   0   0   0   0   0]\n",
      " [  0   0   0   0   0   0   0 119 252 252 202   0   0   0   0 253 252 126\n",
      "    0   0   0   0   0   0   0   0   0   0]\n",
      " [  0   0   0   0   0   0   0 127 252 252 106   0   0   0   0 253 252 126\n",
      "    0   0   0   0   0   0   0   0   0   0]\n",
      " [  0   0   0   0   0   0   0 127 252 252 106   0   0   0   0 253 252 126\n",
      "    0   0   0   0   0   0   0   0   0   0]\n",
      " [  0   0   0   0   0   0   0 128 253 253   0   0   0   0  18 254 253 127\n",
      "    0   0   0   0   0   0   0   0   0   0]\n",
      " [  0   0   0   0   0   0   0 127 252 252   0   0   0   0  27 253 252 126\n",
      "    0   0   0   0   0   0   0   0   0   0]\n",
      " [  0   0   0   0   0   0   0 119 252 252   0   0   0   0   0 253 252 126\n",
      "    0   0   0   0   0   0   0   0   0   0]\n",
      " [  0   0   0   0   0   0   0  92 252 252  64  16   0   0  27 253 252 210\n",
      "  169 169 126 113   0   0   0   0   0   0]\n",
      " [  0   0   0   0   0   0   0  30 217 252 253 221 211 211 228 253 252 252\n",
      "  252 252 209 239  17   0   0   0   0   0]\n",
      " [  0   0   0   0   0   0   0   0  71 212 254 253 253 253 253 255 253 253\n",
      "  253 253 230  97   0   0   0   0   0   0]\n",
      " [  0   0   0   0   0   0   0   0   0  27 253 252 252 252 252 253 252 252\n",
      "  196  80  27   0   0   0   0   0   0   0]\n",
      " [  0   0   0   0   0   0   0   0   0   0  21  21  74  56  65 245 252 233\n",
      "    7   0   0   0   0   0   0   0   0   0]\n",
      " [  0   0   0   0   0   0   0   0   0   0   0   0   0   0   0  78 252 231\n",
      "    0   0   0   0   0   0   0   0   0   0]\n",
      " [  0   0   0   0   0   0   0   0   0   0   0   0   0   0   0  25 226 231\n",
      "    0   0   0   0   0   0   0   0   0   0]\n",
      " [  0   0   0   0   0   0   0   0   0   0   0   0   0   0   0   8 201 253\n",
      "   84   0   0   0   0   0   0   0   0   0]\n",
      " [  0   0   0   0   0   0   0   0   0   0   0   0   0   0   0  11 205 252\n",
      "  163   0   0   0   0   0   0   0   0   0]\n",
      " [  0   0   0   0   0   0   0   0   0   0   0   0   0   0   0   0 190 252\n",
      "  101   0   0   0   0   0   0   0   0   0]\n",
      " [  0   0   0   0   0   0   0   0   0   0   0   0   0   0   0   0 190 252\n",
      "  205  11   0   0   0   0   0   0   0   0]\n",
      " [  0   0   0   0   0   0   0   0   0   0   0   0   0   0   0   0 190 252\n",
      "  252  42   0   0   0   0   0   0   0   0]\n",
      " [  0   0   0   0   0   0   0   0   0   0   0   0   0   0   0   0   0   0\n",
      "    0   0   0   0   0   0   0   0   0   0]\n",
      " [  0   0   0   0   0   0   0   0   0   0   0   0   0   0   0   0   0   0\n",
      "    0   0   0   0   0   0   0   0   0   0]]\n"
     ]
    }
   ],
   "source": [
    "def read_images(filename):\n",
    "    \"\"\"Read MNIST images\"\"\"\n",
    "    \n",
    "    with gzip.open(filename, 'r') as f:\n",
    "        # first 4 bytes is a magic number\n",
    "        magic_number = int.from_bytes(f.read(4), 'big')\n",
    "        # second 4 bytes is the number of images\n",
    "        image_count = int.from_bytes(f.read(4), 'big')\n",
    "        # third 4 bytes is the row count\n",
    "        row_count = int.from_bytes(f.read(4), 'big')\n",
    "        # fourth 4 bytes is the column count\n",
    "        column_count = int.from_bytes(f.read(4), 'big')\n",
    "        # rest is the image pixel data, each pixel is stored as an unsigned byte\n",
    "        # pixel values are 0 to 255\n",
    "        image_data = f.read()\n",
    "        images = np.frombuffer(image_data, dtype=np.uint8).reshape((image_count, row_count, column_count))\n",
    "        \n",
    "    return images\n",
    "\n",
    "def read_labels(filename):\n",
    "    \"\"\"Read MNIST labels\"\"\"\n",
    "    \n",
    "    with gzip.open(filename, 'r') as f:\n",
    "        # first 4 bytes is a magic number\n",
    "        magic_number = int.from_bytes(f.read(4), 'big')\n",
    "        # second 4 bytes is the number of labels\n",
    "        label_count = int.from_bytes(f.read(4), 'big')\n",
    "        # rest is the label data, each label is stored as unsigned byte\n",
    "        # label values are 0 to 9\n",
    "        label_data = f.read()\n",
    "        labels = np.frombuffer(label_data, dtype=np.uint8)\n",
    "        \n",
    "    return labels\n",
    "\n",
    "\n",
    "#dataset_path = r\"C:/Users/Lenovo User/Documents/Machine_Learning/assignment_1/\"\n",
    "\n",
    "#train_image_filename = ''.join([dataset_path, 'train-images-idx3-ubyte.gz'])\n",
    "#train_label_filename = ''.join([dataset_path, 'train-labels-idx1-ubyte.gz'])\n",
    "\n",
    "#test_image_filename = ''.join([dataset_path, 't10k-images-idx3-ubyte.gz'])\n",
    "#test_label_filename = ''.join([dataset_path, 't10k-labels-idx1-ubyte.gz'])\n",
    "\n",
    "train_images = read_images(\"train-images-idx3-ubyte.gz\")\n",
    "train_labels = read_labels(\"train-labels-idx1-ubyte.gz\")\n",
    "print('Train data (X) size: {}, and labels (Y) size: {}' .format(train_images.shape, train_labels.shape))\n",
    "\n",
    "test_images = read_images(\"t10k-images-idx3-ubyte.gz\")\n",
    "test_labels = read_labels(\"t10k-labels-idx1-ubyte.gz\")\n",
    "print('Test data (X) size: {}, and labels (Y) size: {}' .format(test_images.shape, test_labels.shape))\n",
    "\n",
    "rand_ids = np.random.choice(train_images.shape[0])\n",
    "plt.imshow(train_images[rand_ids, :, :], cmap='gray')\n",
    "plt.title('class-'+str(train_labels[rand_ids]))\n",
    "plt.show()\n",
    "\n",
    "print('Train image {}-th sample ' .format(rand_ids))\n",
    "print(train_images[rand_ids, :, :])\n",
    "\n"
   ]
  },
  {
   "cell_type": "markdown",
   "id": "a84dd0ab",
   "metadata": {},
   "source": [
    "# Extract 20% data from thhe training data as a validation set. <font color='red'>Please do not use some standard function from scikit-learn or others!</font>"
   ]
  },
  {
   "cell_type": "code",
   "execution_count": 23,
   "id": "841c439e",
   "metadata": {},
   "outputs": [
    {
     "name": "stdout",
     "output_type": "stream",
     "text": [
      "float64\n",
      "(12000, 784)\n"
     ]
    }
   ],
   "source": [
    "# Your validation set extraction script/code \n",
    "\n",
    "train_flat = np.array(train_images.reshape(60000, 28*28), dtype = np.float64) # CONVERTING IN DESIRED FORM\n",
    "#train_flat\n",
    "np.random.seed(69)\n",
    "ran = np.random.choice(range(60000), 60000, replace = False) # GENERATING RANDOM INDICES FOR SHUFFLING\n",
    "#ran\n",
    "train_df = train_flat[ran] # SHUFFLING USING RANDOM INDICES : FANCY INDEXING\n",
    "#train_df.dtype='float32'\n",
    "val_img = train_df[:12000] # EXTRACTING VALIDATING SET OF IMAGES\n",
    "#val_img\n",
    "train_img = train_df[12000:] # EXTRACTING TRAINING SET OF IMAGES\n",
    "#train_img\n",
    "ran_labels = train_labels[ran]\n",
    "#ran_labels\n",
    "val_lab = ran_labels[:12000]\n",
    "#val_lab\n",
    "train_lab = ran_labels[12000:]\n",
    "#train_lab\n",
    "test_img = np.array(test_images.reshape(10000, 28*28), dtype = np.float64)\n",
    "#test_img.dtype='float32'\n",
    "print(test_img.dtype)\n",
    "print(val_img.shape)"
   ]
  },
  {
   "cell_type": "markdown",
   "id": "806771b6",
   "metadata": {},
   "source": [
    "# Implement k-NN classification rule/algorithm, we have discussed in our class. <font color='red'>Please do not use some standard function from scikit-learn or others!</font>"
   ]
  },
  {
   "cell_type": "code",
   "execution_count": 17,
   "id": "2c919357",
   "metadata": {},
   "outputs": [],
   "source": [
    "# Distance functions\n",
    "\n",
    "def euclidean_distance(arr):\n",
    "#     return np.sqrt(np.sum((train_img - arr)**2, axis = 1))\n",
    "    return np.linalg.norm(train_img - arr, axis = 1)\n",
    "\n",
    "def manhattan_distance(arr):\n",
    "    return np.sum(np.abs(train_img - arr), axis = 1)\n",
    "\n",
    "def cheb_distance(arr):\n",
    "    return np.max(np.abs(train_img - arr), axis = 1)\n",
    "\n",
    "def accuracy(a, b):\n",
    "    c = np.array(a) == np.array(b)\n",
    "    return np.sum(c)/len(a)\n",
    "\n",
    "#==============================================================================================================================\n",
    "# Prediction\n",
    "\n",
    "def predictions(data, fun):\n",
    "    record = {}\n",
    "\n",
    "    for k in range(1, 26, 2):\n",
    "        record[k] = []\n",
    "\n",
    "    for x in data:\n",
    "        tem = fun(x)\n",
    "        tem_df = pd.DataFrame(tem)\n",
    "        tem_df[\"label\"] = train_lab\n",
    "        tem_sort = tem_df.sort_values(by = [0])\n",
    "        for k in range(1, 26, 2):\n",
    "            tem_k = tem_sort.iloc[0:k]\n",
    "            y = tem_k.value_counts(\"label\").index[0]\n",
    "            record[k].append(y)\n",
    "    print(\"Col indexes are values of k, values along col are predictions\")\n",
    "    return pd.DataFrame(record)\n",
    "\n",
    "#===============================================================================================================================\n",
    "\n",
    "def prediction_k(data, fun, k):\n",
    "    record = []\n",
    "    for x in data :\n",
    "        tem = fun(x)\n",
    "        tem_df = pd.DataFrame(tem)\n",
    "        tem_df['label'] = train_lab\n",
    "        tem_sort = tem_df.sort_values(by = [0])\n",
    "        tem_k = tem_sort.iloc[0:k]\n",
    "        y = tem_k.value_counts('label').index[0]\n",
    "        record.append(y)\n",
    "    return record"
   ]
  },
  {
   "cell_type": "code",
   "execution_count": 5,
   "id": "4a871d72",
   "metadata": {},
   "outputs": [
    {
     "name": "stdout",
     "output_type": "stream",
     "text": [
      "Col indexes are values of k, values along col are predictions\n",
      "       1   3   5   7   9   11  13  15  17  19  21  23  25\n",
      "0       1   1   1   1   1   1   1   1   1   1   1   1   1\n",
      "1       6   6   6   6   6   6   6   6   6   6   6   6   6\n",
      "2       9   9   9   9   9   9   9   9   9   9   9   9   9\n",
      "3       6   6   6   6   6   6   6   6   6   6   6   6   6\n",
      "4       6   6   6   6   6   6   6   6   6   6   6   6   6\n",
      "...    ..  ..  ..  ..  ..  ..  ..  ..  ..  ..  ..  ..  ..\n",
      "11995   0   0   0   0   0   0   0   0   0   0   0   0   0\n",
      "11996   6   6   6   6   6   6   6   6   6   6   6   6   6\n",
      "11997   8   8   8   8   8   8   8   8   8   8   8   8   8\n",
      "11998   1   1   1   1   1   1   1   1   1   1   1   1   1\n",
      "11999   4   4   4   4   4   4   4   4   4   4   4   4   4\n",
      "\n",
      "[12000 rows x 13 columns]\n",
      "CPU times: user 17min 43s, sys: 14min, total: 31min 43s\n",
      "Wall time: 31min 54s\n"
     ]
    },
    {
     "data": {
      "text/plain": [
       "<matplotlib.collections.PathCollection at 0x7f6420d31050>"
      ]
     },
     "execution_count": 5,
     "metadata": {},
     "output_type": "execute_result"
    },
    {
     "data": {
      "image/png": "[encoded data removed]",
      "text/plain": [
       "<Figure size 432x288 with 1 Axes>"
      ]
     },
     "metadata": {
      "needs_background": "light"
     },
     "output_type": "display_data"
    }
   ],
   "source": [
    "# EUCLIDEAN DISTANCE\n",
    "\n",
    "%%time\n",
    "eu = predictions(val_img, euclidean_distance)\n",
    "print(eu)\n",
    "acc_eu = eu.apply(accuracy, b = val_lab).sort_values(ascending=False)\n",
    "acc_eu\n",
    "# Highest k\n",
    "eu_k = acc_eu.index[0]; eu_k\n",
    "# Highest Accuracy\n",
    "eu_val = acc_eu.values[0]; eu_val\n",
    "plt.scatter(acc_eu.index, acc_eu.values) \n"
   ]
  },
  {
   "cell_type": "code",
   "execution_count": 13,
   "id": "da65416a",
   "metadata": {},
   "outputs": [
    {
     "name": "stdout",
     "output_type": "stream",
     "text": [
      "1\n",
      "0.97375\n"
     ]
    }
   ],
   "source": [
    "print(eu_k);\n",
    "print(eu_val);"
   ]
  },
  {
   "cell_type": "code",
   "execution_count": 6,
   "id": "c9ee865c",
   "metadata": {},
   "outputs": [
    {
     "name": "stdout",
     "output_type": "stream",
     "text": [
      "Col indexes are values of k, values along col are predictions\n",
      "CPU times: user 17min 46s, sys: 14min 4s, total: 31min 50s\n",
      "Wall time: 32min 1s\n"
     ]
    },
    {
     "data": {
      "text/plain": [
       "<matplotlib.collections.PathCollection at 0x7f640feaf290>"
      ]
     },
     "execution_count": 6,
     "metadata": {},
     "output_type": "execute_result"
    },
    {
     "data": {
      "image/png": "[encoded data removed]",
      "text/plain": [
       "<Figure size 432x288 with 1 Axes>"
      ]
     },
     "metadata": {
      "needs_background": "light"
     },
     "output_type": "display_data"
    }
   ],
   "source": [
    "# MANHATTAN\n",
    "\n",
    "%%time\n",
    "man = predictions(val_img, manhattan_distance)\n",
    "acc_man = man.apply(accuracy, b = val_lab).sort_values(ascending=False)\n",
    "acc_man\n",
    "# Highest k\n",
    "man_k = acc_man.index[0]; man_k\n",
    "# Highest Accuracy\n",
    "man_val = acc_man.values[0]; man_val\n",
    "plt.scatter(acc_man.index, acc_man.values)"
   ]
  },
  {
   "cell_type": "code",
   "execution_count": 15,
   "id": "9c24da65",
   "metadata": {},
   "outputs": [
    {
     "name": "stdout",
     "output_type": "stream",
     "text": [
      "1\n",
      "0.9668333333333333\n"
     ]
    }
   ],
   "source": [
    "print(man_k);\n",
    "print(man_val);"
   ]
  },
  {
   "cell_type": "code",
   "execution_count": 7,
   "id": "73e6f027",
   "metadata": {},
   "outputs": [
    {
     "name": "stdout",
     "output_type": "stream",
     "text": [
      "Col indexes are values of k, values along col are predictions\n",
      "CPU times: user 17min 45s, sys: 14min 6s, total: 31min 52s\n",
      "Wall time: 32min 2s\n"
     ]
    },
    {
     "data": {
      "text/plain": [
       "<matplotlib.collections.PathCollection at 0x7f640fd949d0>"
      ]
     },
     "execution_count": 7,
     "metadata": {},
     "output_type": "execute_result"
    },
    {
     "data": {
      "image/png": "[encoded data removed]",
      "text/plain": [
       "<Figure size 432x288 with 1 Axes>"
      ]
     },
     "metadata": {
      "needs_background": "light"
     },
     "output_type": "display_data"
    }
   ],
   "source": [
    "# CHEBYCHEV\n",
    "\n",
    "%%time\n",
    "cheb = predictions(val_img, cheb_distance)\n",
    "acc_cheb = cheb.apply(accuracy, b = val_lab).sort_values(ascending=False)\n",
    "acc_cheb\n",
    "# Highest k\n",
    "cheb_k = acc_cheb.index[0]; cheb_k\n",
    "# Highest Accuracy\n",
    "cheb_val = acc_cheb.values[0]; cheb_val\n",
    "plt.scatter(acc_cheb.index, acc_cheb.values)"
   ]
  },
  {
   "cell_type": "code",
   "execution_count": 16,
   "id": "ca95952e",
   "metadata": {},
   "outputs": [
    {
     "name": "stdout",
     "output_type": "stream",
     "text": [
      "0.8139166666666666\n",
      "1\n"
     ]
    }
   ],
   "source": [
    "print(cheb_val)\n",
    "print(cheb_k)"
   ]
  },
  {
   "cell_type": "code",
   "execution_count": 24,
   "id": "824f415d",
   "metadata": {},
   "outputs": [],
   "source": [
    "# TESTING\n",
    "# FOR EUCLIDEAN WE GET MAX ACCURACY CORRESPONDING TO K = 1\n",
    "\n",
    "eu_test = prediction_k(test_img, euclidean_distance, 1)"
   ]
  },
  {
   "cell_type": "code",
   "execution_count": 29,
   "id": "0cba1a81",
   "metadata": {},
   "outputs": [
    {
     "name": "stdout",
     "output_type": "stream",
     "text": [
      "0.9672\n"
     ]
    }
   ],
   "source": [
    "eu_acc = accuracy(eu_test, test_labels)\n",
    "print(eu_acc)"
   ]
  },
  {
   "cell_type": "code",
   "execution_count": 30,
   "id": "55edbcf5",
   "metadata": {},
   "outputs": [
    {
     "name": "stdout",
     "output_type": "stream",
     "text": [
      "0.9604\n"
     ]
    }
   ],
   "source": [
    "# Testing\n",
    "# For Manhattan we get max accuracy corresponding to k = 1\n",
    "\n",
    "man_test = prediction_k(test_img, manhattan_distance, 1)\n",
    "man_acc = accuracy(man_test, test_labels)\n",
    "print(man_acc)"
   ]
  },
  {
   "cell_type": "code",
   "execution_count": 31,
   "id": "06664b18",
   "metadata": {},
   "outputs": [
    {
     "name": "stdout",
     "output_type": "stream",
     "text": [
      "0.8098\n"
     ]
    }
   ],
   "source": [
    "# Testing\n",
    "# For Chebyshev we get max accuracy corresponding to k = 1\n",
    "\n",
    "cheb_test = prediction_k(test_img, cheb_distance, 1)\n",
    "cheb_acc = accuracy(cheb_test, test_labels)\n",
    "print(cheb_acc)"
   ]
  },
  {
   "cell_type": "code",
   "execution_count": 44,
   "id": "4b36339e",
   "metadata": {},
   "outputs": [
    {
     "data": {
      "text/plain": [
       "<mpl_toolkits.mplot3d.art3d.Path3DCollection at 0x7f63a8078b90>"
      ]
     },
     "execution_count": 44,
     "metadata": {},
     "output_type": "execute_result"
    },
    {
     "data": {
      "image/png": "[encoded data removed]",
      "text/plain": [
       "<Figure size 432x288 with 1 Axes>"
      ]
     },
     "metadata": {
      "needs_background": "light"
     },
     "output_type": "display_data"
    }
   ],
   "source": [
    "# p-value VS k-value VS Accuracy\n",
    "\n",
    "from mpl_toolkits import mplot3d\n",
    "\n",
    "fig = plt.figure()\n",
    "\n",
    "ax = plt.axes(projection = '3d')\n",
    "\n",
    "\n",
    "x = ([1]*13)+([2]*13)+([3]*13)\n",
    "y = [x for x in range(1,26,2)]*3\n",
    "\n",
    "z = []\n",
    "z.extend(acc_man.values)\n",
    "z.extend(acc_eu.values)\n",
    "z.extend(acc_cheb.values)\n",
    "\n",
    "ax.scatter(x,y,z, 'green')\n",
    "#ax.view_init(-140,60)"
   ]
  },
  {
   "cell_type": "code",
   "execution_count": 95,
   "id": "fd0bf4b8",
   "metadata": {},
   "outputs": [
    {
     "name": "stdout",
     "output_type": "stream",
     "text": [
      "     0     1    2    3    4    5    6    7    8    9\n",
      "0  972     1    1    0    0    1    4    1    0    0\n",
      "1    0  1130    2    0    1    1    1    0    0    0\n",
      "2    7     7  988    6    1    0    3   17    3    0\n",
      "3    0     1    2  971    1   16    0    8    8    3\n",
      "4    2     8    0    0  940    0    2    5    1   24\n",
      "5    3     1    0   11    2  860    6    1    5    3\n",
      "6    3     3    0    0    3    5  944    0    0    0\n",
      "7    0    14    5    2    4    0    0  993    0   10\n",
      "8    5     1    4   15    6   17    3    4  912    7\n",
      "9    2     6    1    6   10    4    1   14    3  962\n",
      "0.9672\n"
     ]
    }
   ],
   "source": [
    "# Confusion Matrix for Euclidean\n",
    "\n",
    "con_euc_mat = np.array(np.zeros(100),dtype= np.int32).reshape(10,10)\n",
    "for i,j in zip(test_labels, eu_test):\n",
    "    con_euc_mat[i,j] += 1\n",
    "con_euc_mat_df = pd.DataFrame(con_euc_mat)\n",
    "print(con_euc_mat_df);\n",
    "\n",
    "# Accuracy\n",
    "\n",
    "print(np.trace(con_euc_mat_df)/10000)\n"
   ]
  },
  {
   "cell_type": "code",
   "execution_count": 97,
   "id": "9db6d9bc",
   "metadata": {},
   "outputs": [
    {
     "name": "stdout",
     "output_type": "stream",
     "text": [
      "     0     1    2    3    4    5    6    7    8    9\n",
      "0  972     2    1    0    0    1    3    1    0    0\n",
      "1    0  1130    2    0    1    1    1    0    0    0\n",
      "2    9     9  984    6    1    0    3   18    2    0\n",
      "3    0     3    4  966    1   18    0    9    5    4\n",
      "4    2    10    0    0  937    0    3    5    1   24\n",
      "5    3     2    0   17    3  846   10    1    4    6\n",
      "6    4     3    0    0    3    6  942    0    0    0\n",
      "7    0    20    4    2    5    0    0  986    0   11\n",
      "8   10     6    7   22    5   21    4    4  885   10\n",
      "9    1     7    1    7   14    4    1   15    3  956\n",
      "0.9604\n"
     ]
    }
   ],
   "source": [
    "# Confusion Matrix for Manhattan\n",
    "\n",
    "con_manhatt_mat = np.array(np.zeros(100),dtype= np.int32).reshape(10,10)\n",
    "for i,j in zip(test_labels, man_test):\n",
    "    con_manhatt_mat[i,j] += 1\n",
    "con_manhatt_mat_df = pd.DataFrame(con_manhatt_mat)\n",
    "print(con_manhatt_mat_df)\n",
    "\n",
    "# Accuracy\n",
    "\n",
    "print(np.trace(con_manhatt_mat_df)/10000)"
   ]
  },
  {
   "cell_type": "code",
   "execution_count": 98,
   "id": "7b92e5c1",
   "metadata": {},
   "outputs": [
    {
     "name": "stdout",
     "output_type": "stream",
     "text": [
      "     0     1    2    3    4    5    6    7    8    9\n",
      "0  918     2   13    7    4    8    7    5   10    6\n",
      "1    2  1116    1    1    0    0    2    0   13    0\n",
      "2   63    21  703   62   14   17   49   17   76   10\n",
      "3   35    11   35  704    2   49   17   20  127   10\n",
      "4   35     7   19    9  745    6   17   18   67   59\n",
      "5   61     9   20   56   16  554   22   16  118   20\n",
      "6   45     6   11    7    7    9  845    6   19    3\n",
      "7   14    11   15   10   12    6    5  873   48   34\n",
      "8   31    14   23   47    9   30   13   14  771   22\n",
      "9   18     7    4   12   13    8    6   23   49  869\n",
      "0.8098\n"
     ]
    }
   ],
   "source": [
    "# Confusion Matrix for Chebyshebs\n",
    "\n",
    "con_cheb_mat = np.array(np.zeros(100),dtype= np.int32).reshape(10,10)\n",
    "for i,j in zip(test_labels, cheb_test):\n",
    "    con_cheb_mat[i,j] += 1\n",
    "con_cheb_mat_df = pd.DataFrame(con_cheb_mat)\n",
    "print(con_cheb_mat_df)\n",
    "\n",
    "# Accuracy\n",
    "\n",
    "print(np.trace(con_cheb_mat_df)/10000)"
   ]
  },
  {
   "cell_type": "code",
   "execution_count": 69,
   "id": "3581074c",
   "metadata": {},
   "outputs": [],
   "source": []
  },
  {
   "cell_type": "code",
   "execution_count": null,
   "id": "57a4c9ae",
   "metadata": {},
   "outputs": [],
   "source": []
  },
  {
   "cell_type": "code",
   "execution_count": null,
   "id": "6a31e2b0",
   "metadata": {},
   "outputs": [],
   "source": []
  },
  {
   "cell_type": "code",
   "execution_count": null,
   "id": "5e47633b",
   "metadata": {},
   "outputs": [],
   "source": []
  },
  {
   "cell_type": "code",
   "execution_count": null,
   "id": "67575fd1",
   "metadata": {},
   "outputs": [],
   "source": []
  }
 ],
 "metadata": {
  "kernelspec": {
   "display_name": "Python 3 (ipykernel)",
   "language": "python",
   "name": "python3"
  },
  "language_info": {
   "codemirror_mode": {
    "name": "ipython",
    "version": 3
   },
   "file_extension": ".py",
   "mimetype": "text/x-python",
   "name": "python",
   "nbconvert_exporter": "python",
   "pygments_lexer": "ipython3",
   "version": "3.9.12"
  }
 },
 "nbformat": 4,
 "nbformat_minor": 5
}
