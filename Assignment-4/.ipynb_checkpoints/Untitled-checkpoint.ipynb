{
 "cells": [
  {
   "cell_type": "code",
   "execution_count": 4,
   "id": "78ee4e3f",
   "metadata": {},
   "outputs": [],
   "source": [
    "import cupy"
   ]
  },
  {
   "cell_type": "code",
   "execution_count": 5,
   "id": "b3e83204",
   "metadata": {},
   "outputs": [],
   "source": [
    "# Define the sigmoid activation function\n",
    "def sigmoid(z):\n",
    "    return 1 / (1 + cp.exp(-z))\n",
    "\n",
    "# Define the loss function\n",
    "def compute_loss(y_pred, y_true):\n",
    "    return -cp.mean(y_true * cp.log(y_pred) + (1 - y_true) * cp.log(1 - y_pred))\n",
    "\n",
    "# Define the training function\n",
    "def train(X, y, learning_rate=0.01, epochs=1000):\n",
    "    # Initialize the weights and bias\n",
    "    n_features = X.shape[1]\n",
    "    w = cp.zeros(n_features)\n",
    "    b = 0\n",
    "    \n",
    "    # Gradient descent loop\n",
    "    for i in range(epochs):\n",
    "        # Forward pass\n",
    "        z = cp.dot(X, w) + b\n",
    "        y_pred = sigmoid(z)\n",
    "        loss = compute_loss(y_pred, y)\n",
    "        \n",
    "        # Backward pass\n",
    "        dw = (1 / X.shape[0]) * cp.dot(X.T, (y_pred - y))\n",
    "        db = (1 / X.shape[0]) * cp.sum(y_pred - y)\n",
    "        \n",
    "        # Update weights and bias\n",
    "        w -= learning_rate * dw\n",
    "        b -= learning_rate * db\n",
    "        \n",
    "        # Print progress every 100 epochs\n",
    "        if i % 100 == 0:\n",
    "            print(f\"Epoch {i}: loss = {loss.get()}\")  # Note: need to call .get() to transfer data from GPU to CPU\n",
    "            \n",
    "    # Return the final weights and bias\n",
    "    return w.get(), b\n"
   ]
  },
  {
   "cell_type": "code",
   "execution_count": 7,
   "id": "437ab96e",
   "metadata": {},
   "outputs": [
    {
     "data": {
      "image/png": "[encoded data removed]",
      "text/plain": [
       "<Figure size 432x288 with 1 Axes>"
      ]
     },
     "metadata": {
      "needs_background": "light"
     },
     "output_type": "display_data"
    }
   ],
   "source": [
    "import cupy as cp\n",
    "import matplotlib.pyplot as plt\n",
    "\n",
    "# Set the random seed for reproducibility\n",
    "cp.random.seed(123)\n",
    "\n",
    "# Simulate data\n",
    "n = 100\n",
    "x1 = cp.random.normal(loc=0, scale=1, size=n)\n",
    "x2 = cp.random.normal(loc=5, scale=2, size=n)\n",
    "y = cp.concatenate((cp.zeros(n), cp.ones(n)))\n",
    "X = cp.vstack((cp.hstack((x1, x2)), cp.hstack((x2, x1)))).T\n",
    "\n",
    "# Define the logistic function\n",
    "def logistic(z):\n",
    "    return 1 / (1 + cp.exp(-z))\n",
    "\n",
    "# Define the cost function\n",
    "def cost(theta, X, y):\n",
    "    z = X @ theta\n",
    "    h = logistic(z)\n",
    "    return -cp.mean(y * cp.log(h) + (1 - y) * cp.log(1 - h))\n",
    "\n",
    "# Initialize the parameters\n",
    "theta = cp.zeros(2)\n",
    "\n",
    "# Set the learning rate and number of iterations\n",
    "alpha = 0.01\n",
    "num_iters = 1000\n",
    "\n",
    "# Initialize the cost history\n",
    "cost_history = cp.zeros(num_iters)\n",
    "\n",
    "# Gradient descent loop\n",
    "for i in range(num_iters):\n",
    "    z = X @ theta\n",
    "    h = logistic(z)\n",
    "    grad = X.T @ (h - y) / len(y)\n",
    "    theta = theta - alpha * grad\n",
    "    cost_history[i] = cost(theta, X, y)\n",
    "\n",
    "# Plot the cost history\n",
    "plt.plot(cp.asnumpy(cost_history))\n",
    "plt.xlabel('Iteration')\n",
    "plt.ylabel('Cost')\n",
    "plt.title('Cost History')\n",
    "plt.show()\n"
   ]
  }
 ],
 "metadata": {
  "kernelspec": {
   "display_name": "Python 3 (ipykernel)",
   "language": "python",
   "name": "python3"
  },
  "language_info": {
   "codemirror_mode": {
    "name": "ipython",
    "version": 3
   },
   "file_extension": ".py",
   "mimetype": "text/x-python",
   "name": "python",
   "nbconvert_exporter": "python",
   "pygments_lexer": "ipython3",
   "version": "3.9.12"
  }
 },
 "nbformat": 4,
 "nbformat_minor": 5
}
