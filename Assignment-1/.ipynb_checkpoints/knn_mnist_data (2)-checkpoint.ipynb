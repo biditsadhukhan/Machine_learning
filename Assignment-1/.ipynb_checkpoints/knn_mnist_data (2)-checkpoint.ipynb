{
 "cells": [
  {
   "cell_type": "code",
   "execution_count": 2,
   "id": "9b5bf43e",
   "metadata": {},
   "outputs": [],
   "source": [
    "\"\"\"\n",
    "-----------------------------------------------------------------------------\n",
    "MNIST digit data reading helper\n",
    "-----------------------------------------------------------------------------\n",
    "AUTHOR: Soumitra Samanta (soumitra.samanta@gm.rkmvu.ac.in)\n",
    "-----------------------------------------------------------------------------\n",
    "\"\"\"\n",
    "\n",
    "import gzip\n",
    "import numpy as np\n",
    "import matplotlib.pyplot as plt\n"
   ]
  },
  {
   "cell_type": "markdown",
   "id": "55c9e6c7",
   "metadata": {},
   "source": [
    "# Read MNIST data:\n",
    "There are many [ways](https://stackoverflow.com/questions/40427435/extract-images-from-idx3-ubyte-file-or-gzip-via-python) you can read the MNIST data. Here is a [way](https://stackoverflow.com/a/62781370) to read all the information."
   ]
  },
  {
   "cell_type": "code",
   "execution_count": 5,
   "id": "47ce6c3c",
   "metadata": {},
   "outputs": [
    {
     "name": "stdout",
     "output_type": "stream",
     "text": [
      "Train data (X) size: (60000, 28, 28), and labels (Y) size: (60000,)\n",
      "Test data (X) size: (10000, 28, 28), and labels (Y) size: (10000,)\n"
     ]
    },
    {
     "data": {
      "image/png": "[encoded data removed]",
      "text/plain": [
       "<Figure size 432x288 with 1 Axes>"
      ]
     },
     "metadata": {
      "needs_background": "light"
     },
     "output_type": "display_data"
    },
    {
     "name": "stdout",
     "output_type": "stream",
     "text": [
      "Train image 9704-th sample \n",
      "[[  0   0   0   0   0   0   0   0   0   0   0   0   0   0   0   0   0   0\n",
      "    0   0   0   0   0   0   0   0   0   0]\n",
      " [  0   0   0   0   0   0   0   0   0   0   0   0   0   0   0   0   0   0\n",
      "    0   0   0   0   0   0   0   0   0   0]\n",
      " [  0   0   0   0   0   0   0   0   0   0   0   0   0   0   0   0   0   0\n",
      "    0   0   0   0   0   0   0   0   0   0]\n",
      " [  0   0   0   0   0   0   0   0   0   0   0   0   0   0   0   0   0   0\n",
      "    0   0   0   0   0   0   0   0   0   0]\n",
      " [  0   0   0   0   0   0   0   0   0   0   0   0   0   0   0   0   0   0\n",
      "    0   0   0   0   0   0   0   0   0   0]\n",
      " [  0   0   0   0   0   0   0   0   0   0  10 117 132   6   0   0   0   0\n",
      "   32 225 253  36   0   0   0   0   0   0]\n",
      " [  0   0   0   0   0   0   0   0   0  54 232 252 252  11   0   0   0   0\n",
      "  129 252 204  15   0   0   0   0   0   0]\n",
      " [  0   0   0   0   0   0   0   0   9 201 252 238 107   5   0   0   0  31\n",
      "  225 252 167   0   0   0   0   0   0   0]\n",
      " [  0   0   0   0   0   0   0   0  84 252 236  69   0   0   0   0   0  49\n",
      "  252 252  88   0   0   0   0   0   0   0]\n",
      " [  0   0   0   0   0   0   0  35 232 252 167   0   0   0   0   0   0  49\n",
      "  252 252  48   0   0   0   0   0   0   0]\n",
      " [  0   0   0   0   0   0   0  84 252 231  62   0   0   0   0   0   0  49\n",
      "  252 252  48   0   0   0   0   0   0   0]\n",
      " [  0   0   0   0   0   0  13 197 252 139   0   0   0   0   0   0   0  89\n",
      "  252 193   9   0   0   0   0   0   0   0]\n",
      " [  0   0   0   0   0   0 140 252 252  60   0   0   0   0   0   0   0 169\n",
      "  252 133   0   0   0   0   0   0   0   0]\n",
      " [  0   0   0   0   0   0 106 252 252 112   0   0   0   0   0  75 171 244\n",
      "  252 112   0   0   0   0   0   0   0   0]\n",
      " [  0   0   0   0   0   0  37 252 252 123   0   0  53 121 185 247 252 252\n",
      "  252 180   0   0   0   0   0   0   0   0]\n",
      " [  0   0   0   0   0   0  37 253 253 253 155 237 253 253 255 253 253 253\n",
      "  253 118   0   0   0   0   0   0   0   0]\n",
      " [  0   0   0   0   0   0  33 233 252 252 252 252 252 252 229 159 186 252\n",
      "  252  60   0   0   0   0   0   0   0   0]\n",
      " [  0   0   0   0   0   0   0  19 125 216 216 216 107  96   0   0 112 252\n",
      "  243  51   0   0   0   0   0   0   0   0]\n",
      " [  0   0   0   0   0   0   0   0   0   0   0   0   0   0   0   0 157 252\n",
      "  192   0   0   0   0   0   0   0   0   0]\n",
      " [  0   0   0   0   0   0   0   0   0   0   0   0   0   0   0   6 179 252\n",
      "  106   0   0   0   0   0   0   0   0   0]\n",
      " [  0   0   0   0   0   0   0   0   0   0   0   0   0   0   0  25 252 252\n",
      "   72   0   0   0   0   0   0   0   0   0]\n",
      " [  0   0   0   0   0   0   0   0   0   0   0   0   0   0   0 123 252 252\n",
      "   72   0   0   0   0   0   0   0   0   0]\n",
      " [  0   0   0   0   0   0   0   0   0   0   0   0   0   0   0 145 252 252\n",
      "   72   0   0   0   0   0   0   0   0   0]\n",
      " [  0   0   0   0   0   0   0   0   0   0   0   0   0   0   0 145 252 252\n",
      "   72   0   0   0   0   0   0   0   0   0]\n",
      " [  0   0   0   0   0   0   0   0   0   0   0   0   0   0   0  88 252 206\n",
      "    4   0   0   0   0   0   0   0   0   0]\n",
      " [  0   0   0   0   0   0   0   0   0   0   0   0   0   0   0   0   0   0\n",
      "    0   0   0   0   0   0   0   0   0   0]\n",
      " [  0   0   0   0   0   0   0   0   0   0   0   0   0   0   0   0   0   0\n",
      "    0   0   0   0   0   0   0   0   0   0]\n",
      " [  0   0   0   0   0   0   0   0   0   0   0   0   0   0   0   0   0   0\n",
      "    0   0   0   0   0   0   0   0   0   0]]\n"
     ]
    }
   ],
   "source": [
    "def read_images(filename):\n",
    "    \"\"\"Read MNIST images\"\"\"\n",
    "    \n",
    "    with gzip.open(filename, 'r') as f:\n",
    "        # first 4 bytes is a magic number\n",
    "        magic_number = int.from_bytes(f.read(4), 'big')\n",
    "        # second 4 bytes is the number of images\n",
    "        image_count = int.from_bytes(f.read(4), 'big')\n",
    "        # third 4 bytes is the row count\n",
    "        row_count = int.from_bytes(f.read(4), 'big')\n",
    "        # fourth 4 bytes is the column count\n",
    "        column_count = int.from_bytes(f.read(4), 'big')\n",
    "        # rest is the image pixel data, each pixel is stored as an unsigned byte\n",
    "        # pixel values are 0 to 255\n",
    "        image_data = f.read()\n",
    "        images = np.frombuffer(image_data, dtype=np.uint8).reshape((image_count, row_count, column_count))\n",
    "        \n",
    "    return images\n",
    "\n",
    "def read_labels(filename):\n",
    "    \"\"\"Read MNIST labels\"\"\"\n",
    "    \n",
    "    with gzip.open(filename, 'r') as f:\n",
    "        # first 4 bytes is a magic number\n",
    "        magic_number = int.from_bytes(f.read(4), 'big')\n",
    "        # second 4 bytes is the number of labels\n",
    "        label_count = int.from_bytes(f.read(4), 'big')\n",
    "        # rest is the label data, each label is stored as unsigned byte\n",
    "        # label values are 0 to 9\n",
    "        label_data = f.read()\n",
    "        labels = np.frombuffer(label_data, dtype=np.uint8)\n",
    "        \n",
    "    return labels\n",
    "\n",
    "\n",
    "dataset_path = 'C:/Users/BIDIT/OneDrive/Documents/Machine Learning/Assignment-1/'\n",
    "\n",
    "train_image_filename = ''.join([dataset_path, 'train-images-idx3-ubyte.gz'])\n",
    "train_label_filename = ''.join([dataset_path, 'train-labels-idx1-ubyte.gz'])\n",
    "\n",
    "test_image_filename = ''.join([dataset_path, 't10k-images-idx3-ubyte.gz'])\n",
    "test_label_filename = ''.join([dataset_path, 't10k-labels-idx1-ubyte.gz'])\n",
    "\n",
    "train_images = read_images(train_image_filename)\n",
    "train_labels = read_labels(train_label_filename)\n",
    "print('Train data (X) size: {}, and labels (Y) size: {}' .format(train_images.shape, train_labels.shape))\n",
    "\n",
    "test_images = read_images(test_image_filename)\n",
    "test_labels = read_labels(test_label_filename)\n",
    "print('Test data (X) size: {}, and labels (Y) size: {}' .format(test_images.shape, test_labels.shape))\n",
    "\n",
    "rand_ids = np.random.choice(train_images.shape[0])\n",
    "plt.imshow(train_images[rand_ids, :, :], cmap='gray')\n",
    "plt.title('class-'+str(train_labels[rand_ids]))\n",
    "plt.show()\n",
    "\n",
    "print('Train image {}-th sample ' .format(rand_ids))\n",
    "print(train_images[rand_ids, :, :])\n",
    "\n"
   ]
  },
  {
   "cell_type": "markdown",
   "id": "54daa6a9",
   "metadata": {},
   "source": [
    "# Extract 20% data from thhe training data as a validation set. <font color='red'>Please do not use some standard function from scikit-learn or others!</font>"
   ]
  },
  {
   "cell_type": "code",
   "execution_count": 46,
   "id": "09a49711",
   "metadata": {},
   "outputs": [
    {
     "name": "stdout",
     "output_type": "stream",
     "text": [
      "Train data (X) size: (48000, 28, 28), and labels (Y) size: (48000,)\n",
      "Validation data (X) size: (12000, 28, 28), and labels (Y) size: (12000,)\n"
     ]
    },
    {
     "data": {
      "image/png": "[encoded data removed]",
      "text/plain": [
       "<Figure size 432x288 with 1 Axes>"
      ]
     },
     "metadata": {
      "needs_background": "light"
     },
     "output_type": "display_data"
    },
    {
     "data": {
      "image/png": "[encoded data removed]",
      "text/plain": [
       "<Figure size 432x288 with 1 Axes>"
      ]
     },
     "metadata": {
      "needs_background": "light"
     },
     "output_type": "display_data"
    }
   ],
   "source": [
    "# Your validation set extraction script/code \n",
    "\n",
    "# randomised the train dataset and train data labels\n",
    "temp = list(zip(train_images, train_labels))\n",
    "np.random.shuffle(temp)\n",
    "train_images, train_labels = zip(*temp)\n",
    "\n",
    "train2_image,validation_image = np.split(train_images,[int(0.80 * len(train_images))])\n",
    "train2_label,validation_label= np.split(train_labels,[int(0.80 * len(train_images))])\n",
    "print('Train data (X) size: {}, and labels (Y) size: {}' .format(train2_image.shape, train2_label.shape))\n",
    "print('Validation data (X) size: {}, and labels (Y) size: {}' .format(validation_image.shape, validation_label.shape))\n",
    "\n",
    "\n",
    "#showing the training dataset and the training label \n",
    "plt.title('class-'+str(train2_label[7000]))\n",
    "plt.imshow(train2_image[7000], cmap = 'gray')\n",
    "plt.show()\n",
    "\n",
    "\n",
    "# showing the validation dataset and the validation label\n",
    "plt.title('class-'+str(validation_label[10]))\n",
    "plt.imshow(validation_image[10], cmap = 'gray')\n",
    "plt.show()"
   ]
  },
  {
   "cell_type": "code",
   "execution_count": 78,
   "id": "87ddbb8a",
   "metadata": {},
   "outputs": [],
   "source": [
    "# Flattening the numpy array and converting it to float\n",
    "\n",
    "train3_image=train2_image.reshape(train2_image.shape[0],-1)\n",
    "train3_image.dtype='float'\n",
    "train4_image=train2_image.reshape(48000,28*28)  # trying different way\n",
    "validation2_image=validation_image.reshape(validation_image.shape[0],-1)\n",
    "validation2_image.dtype='float'\n",
    "validation3_image=validation_image.reshape(12000,28*28)\n",
    "test2_images=test_images.reshape(test_images.shape[0],-1)\n",
    "test2_images.dtype='float'"
   ]
  },
  {
   "cell_type": "markdown",
   "id": "d7570a8f",
   "metadata": {},
   "source": [
    "# Implement k-NN classification rule/algorithm, we have discussed in our class. <font color='red'>Please do not use some standard function from scikit-learn or others!</font>"
   ]
  },
  {
   "cell_type": "code",
   "execution_count": 67,
   "id": "1cf13277",
   "metadata": {},
   "outputs": [],
   "source": [
    "#finding the distance\n",
    "# def distance(x,y,p):\n",
    "#     if p==1:\n",
    "#         s=np.sum(np.abs(x-y))\n",
    "#         return s\n",
    "#     elif p==2:\n",
    "#         s= np.sqrt(np.sum(np.square(x-y)))\n",
    "#         return s\n",
    "#     else:\n",
    "#         s=np.max(np.abs(x-y))\n",
    "#         return s\n",
    "\n"
   ]
  },
  {
   "cell_type": "code",
   "execution_count": 68,
   "id": "44c99be0",
   "metadata": {},
   "outputs": [],
   "source": [
    "def distance(x, y, p):\n",
    "    if p == 1:\n",
    "        return np.sum(np.abs(x - y))\n",
    "    elif p == 2:\n",
    "        return np.sqrt(np.sum((x - y)**2))\n",
    "    else:\n",
    "        return np.max(np.abs(x - y))"
   ]
  },
  {
   "cell_type": "code",
   "execution_count": 69,
   "id": "3a5e3e9a",
   "metadata": {},
   "outputs": [],
   "source": [
    "#  k nearest neighbors \n",
    "def knnm(training_image, training_label, testing_image, k, p):\n",
    "    # initializing an array to store the distances between each training sample and the test sample\n",
    "    distances = np.zeros((len(training_image)))\n",
    "    # Looping through all the training samples\n",
    "    for index in range(len(training_image)):\n",
    "        # Compute the distance between the training sample and the test sample using the custom distance function\n",
    "        distances[index] = distance(training_image[index], test_image, p)\n",
    "    # Sort the distances in ascending order and get the indices of the k-nearest neighbors\n",
    "    k_nearest_indices = np.argsort(distances)[:k]\n",
    "    # Get the labels for the k-nearest neighbors\n",
    "    k_nearest_labels = y_train[k_nearest_indices]\n",
    "    # Count the occurrences of each label among the k-nearest neighbors\n",
    "    label_counts = np.bincount(k_nearest_labels, minlength=10)\n",
    "    # Return the label with the highest count for the test sample\n",
    "    return np.argmax(label_counts)"
   ]
  },
  {
   "cell_type": "code",
   "execution_count": 93,
   "id": "e6cbc594",
   "metadata": {},
   "outputs": [
    {
     "name": "stdout",
     "output_type": "stream",
     "text": [
      "(48000, 784)\n",
      "(784,)\n"
     ]
    }
   ],
   "source": [
    "#Test the KNN algorithm on a single test point \n",
    "test_point = validation3_image[2]\n",
    "# predicted_label = knn(train3_image, train2_label, test_point, 5,2 )\n",
    "# print('Predicted label:', predicted_label)\n",
    "# print(validation_label[0])\n",
    "print(train4_image.shape)\n",
    "print(test_point.shape)"
   ]
  },
  {
   "cell_type": "code",
   "execution_count": null,
   "id": "e879d584",
   "metadata": {},
   "outputs": [],
   "source": [
    "def knn(X_train, y_train, X_test, k, p):\n",
    "    # Calculate the distances between the test point and all training points\n",
    "    distances = np.array([distance(X_train[i], X_test, p) for i in range(X_train.shape[0])])\n",
    "    # Find the k nearest neighbors and their corresponding labels\n",
    "    k_nearest_labels = y_train[np.argsort(distances)[:k]]\n",
    "    # Count the occurrences of each label among the k nearest neighbors\n",
    "    label_counts = np.bincount(k_nearest_labels)\n",
    "    # Return the label with the highest count\n",
    "    return np.argmax(label_counts)"
   ]
  },
  {
   "cell_type": "code",
   "execution_count": 91,
   "id": "ae282d0f",
   "metadata": {},
   "outputs": [
    {
     "ename": "ValueError",
     "evalue": "operands could not be broadcast together with shapes (98,) (784,) ",
     "output_type": "error",
     "traceback": [
      "\u001b[1;31m---------------------------------------------------------------------------\u001b[0m",
      "\u001b[1;31mValueError\u001b[0m                                Traceback (most recent call last)",
      "Input \u001b[1;32mIn [91]\u001b[0m, in \u001b[0;36m<cell line: 2>\u001b[1;34m()\u001b[0m\n\u001b[0;32m      1\u001b[0m distances \u001b[38;5;241m=\u001b[39m np\u001b[38;5;241m.\u001b[39mzeros((\u001b[38;5;28mlen\u001b[39m(train3_image)))\n\u001b[0;32m      2\u001b[0m \u001b[38;5;28;01mfor\u001b[39;00m index \u001b[38;5;129;01min\u001b[39;00m \u001b[38;5;28mrange\u001b[39m(\u001b[38;5;28mlen\u001b[39m(train3_image)):\n\u001b[0;32m      3\u001b[0m         \u001b[38;5;66;03m# Compute the distance between the training sample and the test sample using the custom distance function\u001b[39;00m\n\u001b[1;32m----> 4\u001b[0m         distances[index] \u001b[38;5;241m=\u001b[39m \u001b[43mdistance\u001b[49m\u001b[43m(\u001b[49m\u001b[43mtrain3_image\u001b[49m\u001b[43m[\u001b[49m\u001b[43mindex\u001b[49m\u001b[43m]\u001b[49m\u001b[43m,\u001b[49m\u001b[43m \u001b[49m\u001b[43mtest_point\u001b[49m\u001b[43m,\u001b[49m\u001b[43m \u001b[49m\u001b[38;5;241;43m1\u001b[39;49m\u001b[43m)\u001b[49m\n",
      "Input \u001b[1;32mIn [68]\u001b[0m, in \u001b[0;36mdistance\u001b[1;34m(x1, x2, p)\u001b[0m\n\u001b[0;32m      1\u001b[0m \u001b[38;5;28;01mdef\u001b[39;00m \u001b[38;5;21mdistance\u001b[39m(x1, x2, p):\n\u001b[0;32m      2\u001b[0m     \u001b[38;5;28;01mif\u001b[39;00m p \u001b[38;5;241m==\u001b[39m \u001b[38;5;241m1\u001b[39m:\n\u001b[1;32m----> 3\u001b[0m         \u001b[38;5;28;01mreturn\u001b[39;00m np\u001b[38;5;241m.\u001b[39msum(np\u001b[38;5;241m.\u001b[39mabs(\u001b[43mx1\u001b[49m\u001b[43m \u001b[49m\u001b[38;5;241;43m-\u001b[39;49m\u001b[43m \u001b[49m\u001b[43mx2\u001b[49m))\n\u001b[0;32m      4\u001b[0m     \u001b[38;5;28;01melif\u001b[39;00m p \u001b[38;5;241m==\u001b[39m \u001b[38;5;241m2\u001b[39m:\n\u001b[0;32m      5\u001b[0m         \u001b[38;5;28;01mreturn\u001b[39;00m np\u001b[38;5;241m.\u001b[39msqrt(np\u001b[38;5;241m.\u001b[39msum((x1 \u001b[38;5;241m-\u001b[39m x2)\u001b[38;5;241m*\u001b[39m\u001b[38;5;241m*\u001b[39m\u001b[38;5;241m2\u001b[39m))\n",
      "\u001b[1;31mValueError\u001b[0m: operands could not be broadcast together with shapes (98,) (784,) "
     ]
    }
   ],
   "source": [
    "distances = np.zeros((len(train3_image)))\n",
    "for index in range(len(train3_image)):\n",
    "        # Compute the distance between the training sample and the test sample using the custom distance function\n",
    "        distances[index] = distance(train3_image[index], test_point, 1)"
   ]
  },
  {
   "cell_type": "code",
   "execution_count": 51,
   "id": "939686e0",
   "metadata": {},
   "outputs": [
    {
     "ename": "SyntaxError",
     "evalue": "unexpected EOF while parsing (3524366915.py, line 29)",
     "output_type": "error",
     "traceback": [
      "\u001b[1;36m  Input \u001b[1;32mIn [51]\u001b[1;36m\u001b[0m\n\u001b[1;33m    \u001b[0m\n\u001b[1;37m    ^\u001b[0m\n\u001b[1;31mSyntaxError\u001b[0m\u001b[1;31m:\u001b[0m unexpected EOF while parsing\n"
     ]
    }
   ],
   "source": [
    "# Your k-NN algorithm script/code \n",
    "\n",
    "\n",
    "def knn_neighbors(train_set, \n",
    "                  labels, \n",
    "                  test_instance, \n",
    "                  k, \n",
    "                  distance):\n",
    "    distances = []\n",
    "    for index in range(len(train_set)):\n",
    "        dist = euclidean_distance(test_instance, train_set[index])\n",
    "        distances.append((train_set[index], dist, labels[index]))\n",
    "    distances.sort(key=lambda x: x[1])\n",
    "    neighbors = distances[:k]\n",
    "    return neighbors\n",
    "for i in range(5):\n",
    "    neighbors = get_neighbors(train2_image, \n",
    "                              train2_label, \n",
    "                              validation_image[i], \n",
    "                              3, \n",
    "                              distance=euclidean_distance)\n",
    "print(\"Index:         \",i,'\\n',\n",
    "      \"Validation set Data:  \",validation_image[i],'\\n', \n",
    "      \"Validation set Label: \",validation_label[i],'\\n',\n",
    "      \"neighbours \"\n",
    "      \n",
    "\n",
    "\n",
    "    "
   ]
  }
 ],
 "metadata": {
  "kernelspec": {
   "display_name": "Python 3 (ipykernel)",
   "language": "python",
   "name": "python3"
  },
  "language_info": {
   "codemirror_mode": {
    "name": "ipython",
    "version": 3
   },
   "file_extension": ".py",
   "mimetype": "text/x-python",
   "name": "python",
   "nbconvert_exporter": "python",
   "pygments_lexer": "ipython3",
   "version": "3.9.12"
  }
 },
 "nbformat": 4,
 "nbformat_minor": 5
}
