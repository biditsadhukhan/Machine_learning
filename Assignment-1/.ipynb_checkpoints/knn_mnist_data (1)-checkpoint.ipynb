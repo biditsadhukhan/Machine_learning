{
 "cells": [
  {
   "cell_type": "code",
   "execution_count": 1,
   "id": "9b5bf43e",
   "metadata": {},
   "outputs": [],
   "source": [
    "\"\"\"\n",
    "-----------------------------------------------------------------------------\n",
    "MNIST digit data reading helper\n",
    "-----------------------------------------------------------------------------\n",
    "AUTHOR: Soumitra Samanta (soumitra.samanta@gm.rkmvu.ac.in)\n",
    "-----------------------------------------------------------------------------\n",
    "\"\"\"\n",
    "\n",
    "import gzip\n",
    "import numpy as np\n",
    "import matplotlib.pyplot as plt\n"
   ]
  },
  {
   "cell_type": "markdown",
   "id": "55c9e6c7",
   "metadata": {},
   "source": [
    "# Read MNIST data:\n",
    "There are many [ways](https://stackoverflow.com/questions/40427435/extract-images-from-idx3-ubyte-file-or-gzip-via-python) you can read the MNIST data. Here is a [way](https://stackoverflow.com/a/62781370) to read all the information."
   ]
  },
  {
   "cell_type": "code",
   "execution_count": 2,
   "id": "47ce6c3c",
   "metadata": {},
   "outputs": [
    {
     "name": "stdout",
     "output_type": "stream",
     "text": [
      "/home/sysadm/Documents/Bidit Machine learning/Assignment 1/train-images-idx3-ubyte.gz\n",
      "Train data (X) size: (60000, 28, 28), and labels (Y) size: (60000,)\n",
      "Test data (X) size: (10000, 28, 28), and labels (Y) size: (10000,)\n"
     ]
    },
    {
     "data": {
      "image/png": "[encoded data removed]",
      "text/plain": [
       "<Figure size 432x288 with 1 Axes>"
      ]
     },
     "metadata": {
      "needs_background": "light"
     },
     "output_type": "display_data"
    },
    {
     "name": "stdout",
     "output_type": "stream",
     "text": [
      "Train image 7876-th sample \n",
      "[[  0   0   0   0   0   0   0   0   0   0   0   0   0   0   0   0   0   0\n",
      "    0   0   0   0   0   0   0   0   0   0]\n",
      " [  0   0   0   0   0   0   0   0   0   0   0   0   0   0   0   0   0   0\n",
      "    0   0   0   0   0   0   0   0   0   0]\n",
      " [  0   0   0   0   0   0   0   0   0   0   0   0   0   0   0   0   0   0\n",
      "    0   0   0   0   0   0   0   0   0   0]\n",
      " [  0   0   0   0   0   0   0   0   0   0   0   0   0   0   0   0   0   0\n",
      "    0   0   0   0   0   0   0   0   0   0]\n",
      " [  0   0   0   0   0   0   0   0   0   0   0 114 159   0   0   0   0   0\n",
      "    0   0   0   0   0   0   0   0   0   0]\n",
      " [  0   0   0   0   0   0   0   0   0   0   0 145 232  31   0   0   0   0\n",
      "    0   0   0   0   0   0   0   0   0   0]\n",
      " [  0   0   0   0   0   0   0   0   0   0   0 145 254 100   0   0   0   0\n",
      "    0   0   0   0   0   0   0   0   0   0]\n",
      " [  0   0   0   0   0   0   0   0   0   0   0  74 254 151   0   0   0   0\n",
      "    0   0   0   0   0   0   0   0   0   0]\n",
      " [  0   0   0   0   0   0   0   0   0   0   0  36 241 242  26   0   0   0\n",
      "    0   0   0   0   0   0   0   0   0   0]\n",
      " [  0   0   0   0   0   0   0   0   0   0   0   0 160 254  99   0   0   0\n",
      "    0   0   0   0   0   0   0   0   0   0]\n",
      " [  0   0   0   0   0   0   0   0   0   0   0   0 128 254 163   0   0   0\n",
      "    0   0   0   0   0   0   0   0   0   0]\n",
      " [  0   0   0   0   0   0   0   0   0   0   0   0 115 254 176   0   0   0\n",
      "    0   0   0   0   0   0   0   0   0   0]\n",
      " [  0   0   0   0   0   0   0   0   0   0   0   0  21 230 254  40   0   0\n",
      "    0   0   0   0   0   0   0   0   0   0]\n",
      " [  0   0   0   0   0   0   0   0   0   0   0   0   0 167 254 124   0   0\n",
      "    0   0   0   0   0   0   0   0   0   0]\n",
      " [  0   0   0   0   0   0   0   0   0   0   0   0   0 110 254 182   0   0\n",
      "    0   0   0   0   0   0   0   0   0   0]\n",
      " [  0   0   0   0   0   0   0   0   0   0   0   0   0  25 254 223  10   0\n",
      "    0   0   0   0   0   0   0   0   0   0]\n",
      " [  0   0   0   0   0   0   0   0   0   0   0   0   0   3 179 254 109   0\n",
      "    0   0   0   0   0   0   0   0   0   0]\n",
      " [  0   0   0   0   0   0   0   0   0   0   0   0   0   0  92 255 199   0\n",
      "    0   0   0   0   0   0   0   0   0   0]\n",
      " [  0   0   0   0   0   0   0   0   0   0   0   0   0   0  92 254 219  13\n",
      "    0   0   0   0   0   0   0   0   0   0]\n",
      " [  0   0   0   0   0   0   0   0   0   0   0   0   0   0   0 197 254  95\n",
      "    0   0   0   0   0   0   0   0   0   0]\n",
      " [  0   0   0   0   0   0   0   0   0   0   0   0   0   0   0  80 254 178\n",
      "    0   0   0   0   0   0   0   0   0   0]\n",
      " [  0   0   0   0   0   0   0   0   0   0   0   0   0   0   0  37 245 235\n",
      "   41   0   0   0   0   0   0   0   0   0]\n",
      " [  0   0   0   0   0   0   0   0   0   0   0   0   0   0   0   0 158 254\n",
      "  144   0   0   0   0   0   0   0   0   0]\n",
      " [  0   0   0   0   0   0   0   0   0   0   0   0   0   0   0   0  55 254\n",
      "  113   0   0   0   0   0   0   0   0   0]\n",
      " [  0   0   0   0   0   0   0   0   0   0   0   0   0   0   0   0   0   0\n",
      "    0   0   0   0   0   0   0   0   0   0]\n",
      " [  0   0   0   0   0   0   0   0   0   0   0   0   0   0   0   0   0   0\n",
      "    0   0   0   0   0   0   0   0   0   0]\n",
      " [  0   0   0   0   0   0   0   0   0   0   0   0   0   0   0   0   0   0\n",
      "    0   0   0   0   0   0   0   0   0   0]\n",
      " [  0   0   0   0   0   0   0   0   0   0   0   0   0   0   0   0   0   0\n",
      "    0   0   0   0   0   0   0   0   0   0]]\n"
     ]
    }
   ],
   "source": [
    "def read_images(filename):\n",
    "    \"\"\"Read MNIST images\"\"\"\n",
    "    \n",
    "    with gzip.open(filename, 'r') as f:\n",
    "        # first 4 bytes is a magic number\n",
    "        magic_number = int.from_bytes(f.read(4), 'big')\n",
    "        # second 4 bytes is the number of images\n",
    "        image_count = int.from_bytes(f.read(4), 'big')\n",
    "        # third 4 bytes is the row count\n",
    "        row_count = int.from_bytes(f.read(4), 'big')\n",
    "        # fourth 4 bytes is the column count\n",
    "        column_count = int.from_bytes(f.read(4), 'big')\n",
    "        # rest is the image pixel data, each pixel is stored as an unsigned byte\n",
    "        # pixel values are 0 to 255\n",
    "        image_data = f.read()\n",
    "        images = np.frombuffer(image_data, dtype=np.uint8).reshape((image_count, row_count, column_count))\n",
    "        \n",
    "    return images\n",
    "\n",
    "def read_labels(filename):\n",
    "    \"\"\"Read MNIST labels\"\"\"\n",
    "    \n",
    "    with gzip.open(filename, 'r') as f:\n",
    "        # first 4 bytes is a magic number\n",
    "        magic_number = int.from_bytes(f.read(4), 'big')\n",
    "        # second 4 bytes is the number of labels\n",
    "        label_count = int.from_bytes(f.read(4), 'big')\n",
    "        # rest is the label data, each label is stored as unsigned byte\n",
    "        # label values are 0 to 9\n",
    "        label_data = f.read()\n",
    "        labels = np.frombuffer(label_data, dtype=np.uint8)\n",
    "        \n",
    "    return labels\n",
    "\n",
    "\n",
    "dataset_path ='/home/sysadm/Documents/Bidit Machine learning/Assignment 1/'\n",
    "\n",
    "train_image_filename = ''.join([dataset_path, 'train-images-idx3-ubyte.gz'])\n",
    "print(train_image_filename)\n",
    "train_label_filename = ''.join([dataset_path, 'train-labels-idx1-ubyte.gz'])\n",
    "\n",
    "test_image_filename = ''.join([dataset_path, 't10k-images-idx3-ubyte.gz'])\n",
    "test_label_filename = ''.join([dataset_path, 't10k-labels-idx1-ubyte.gz'])\n",
    "\n",
    "train_images = read_images(train_image_filename)\n",
    "train_labels = read_labels(train_label_filename)\n",
    "print('Train data (X) size: {}, and labels (Y) size: {}' .format(train_images.shape, train_labels.shape))\n",
    "\n",
    "test_images = read_images(test_image_filename)\n",
    "test_labels = read_labels(test_label_filename)\n",
    "print('Test data (X) size: {}, and labels (Y) size: {}' .format(test_images.shape, test_labels.shape))\n",
    "\n",
    "rand_ids = np.random.choice(train_images.shape[0])\n",
    "plt.imshow(train_images[rand_ids, :, :], cmap='gray')\n",
    "plt.title('class-'+str(train_labels[rand_ids]))\n",
    "plt.show()\n",
    "\n",
    "print('Train image {}-th sample ' .format(rand_ids))\n",
    "print(train_images[rand_ids, :, :])\n",
    "\n"
   ]
  },
  {
   "cell_type": "markdown",
   "id": "54daa6a9",
   "metadata": {},
   "source": [
    "# Extract 20% data from the training data as a validation set. <font color='red'>Please do not use some standard function from scikit-learn or others!</font>"
   ]
  },
  {
   "cell_type": "code",
   "execution_count": 3,
   "id": "09a49711",
   "metadata": {},
   "outputs": [
    {
     "name": "stdout",
     "output_type": "stream",
     "text": [
      "Train data (X) size: (48000, 28, 28), and labels (Y) size: (48000,)\n",
      "Validation data (X) size: (12000, 28, 28), and labels (Y) size: (12000,)\n"
     ]
    }
   ],
   "source": [
    "# Your validation set extraction script/code \n",
    "train2_image,validation_image = np.split(train_images,[int(0.80 * len(train_images))])\n",
    "train2_label,validation_label= np.split(train_labels,[int(0.80 * len(train_images))])\n",
    "print('Train data (X) size: {}, and labels (Y) size: {}' .format(train2_image.shape, train2_label.shape))\n",
    "print('Validation data (X) size: {}, and labels (Y) size: {}' .format(validation_image.shape, validation_label.shape))"
   ]
  },
  {
   "cell_type": "markdown",
   "id": "d7570a8f",
   "metadata": {},
   "source": [
    "# Implement k-NN classification rule/algorithm, we have discussed in our class. <font color='red'>Please do not use some standard function from scikit-learn or others!</font>"
   ]
  },
  {
   "cell_type": "code",
   "execution_count": 15,
   "id": "939686e0",
   "metadata": {},
   "outputs": [
    {
     "name": "stdout",
     "output_type": "stream",
     "text": [
      "Index:          4 \n",
      " Validation set Data:   [[  0   0   0   0   0   0   0   0   0   0   0   0   0   0   0   0   0   0\n",
      "    0   0   0   0   0   0   0   0   0   0]\n",
      " [  0   0   0   0   0   0   0   0   0   0   0   0   0   0   0   0   0   0\n",
      "    0   0   0   0   0   0   0   0   0   0]\n",
      " [  0   0   0   0   0   0   0   0   0   0   0   0   0   0   0   0   0   0\n",
      "    0   0   0   0   0   0   0   0   0   0]\n",
      " [  0   0   0   0   0   0   0   0   0   0   0   0   0   0   0   0   0   0\n",
      "    0   0   0   0   0   0   0   0   0   0]\n",
      " [  0   0   0   0   0   0   0   0   0  44  98  98 146 176 236 254 181   0\n",
      "    0   0   0   0   0   0   0   0   0   0]\n",
      " [  0   0   0   0   0   0   0   0  37 236 253 253 253 254 253 253 253   0\n",
      "    0   0   0   0   0   0   0   0   0   0]\n",
      " [  0   0   0   0   0   0   0   0  79 254 253 253 253 254 253 253 217   0\n",
      "    0   0   0   0   0   0   0   0   0   0]\n",
      " [  0   0   0   0   0   0   0   0  30 254 253 253 205  98  85  19   8   0\n",
      "    0   0   0   0   0   0   0   0   0   0]\n",
      " [  0   0   0   0   0   0   0   0   0 123 254 249  42   0   0   0   0   0\n",
      "    0   0   0   0   0   0   0   0   0   0]\n",
      " [  0   0   0   0   0   0   0   0   0  98 253 134   0   0   0   0   0   0\n",
      "    0   0   0   0   0   0   0   0   0   0]\n",
      " [  0   0   0   0   0   0   0   0   0  98 253  75   0   0   0   0   0   0\n",
      "    0   0   0   0   0   0   0   0   0   0]\n",
      " [  0   0   0   0   0   0   0   0   0 170 253  63   0   0   0   0   0   0\n",
      "    0   0   0   0   0   0   0   0   0   0]\n",
      " [  0   0   0   0   0   0   0   0   0 176 254 230 254 255 193 242 181 146\n",
      "   29   0   0   0   0   0   0   0   0   0]\n",
      " [  0   0   0   0   0   0   0   0   0 175 253 253 253 254 253 253 253 254\n",
      "  202  18   0   0   0   0   0   0   0   0]\n",
      " [  0   0   0   0   0   0   0   0   0 133 253 239 194 231 194 244 235 254\n",
      "  253 196   5   0   0   0   0   0   0   0]\n",
      " [  0   0   0   0   0   0   0   0   0   8  68  15   0  12   0  16  13 157\n",
      "  253 253 116   0   0   0   0   0   0   0]\n",
      " [  0   0   0   0   0   0   0   0   0   0   0   0   0   0   0   0   0   0\n",
      "   49 239 181   0   0   0   0   0   0   0]\n",
      " [  0   0   0   0   0   0   0   0   0   0   0   0   0   0   0   0   0   0\n",
      "    0 110 250 109   0   0   0   0   0   0]\n",
      " [  0   0   0   0   0   0   0   0   0   0   0   0   0   0   0   0   0   0\n",
      "    0   0 127 234   0   0   0   0   0   0]\n",
      " [  0   0   0   0   0   0   0   0 168 229 156  91  79  73   0   0   0   0\n",
      "    0   0  30 234   0   0   0   0   0   0]\n",
      " [  0   0   0   0   0   0   0   0 127 255 254 254 254 255 254 254 181 170\n",
      "   98  98 194 235   0   0   0   0   0   0]\n",
      " [  0   0   0   0   0   0   0   0  18 218 253 253 253 254 253 253 253 254\n",
      "  253 253 253 234   0   0   0   0   0   0]\n",
      " [  0   0   0   0   0   0   0   0   0   3  39  39  63 147 240 253 253 254\n",
      "  253 253 253 192   0   0   0   0   0   0]\n",
      " [  0   0   0   0   0   0   0   0   0   0   0   0   0   0  15  62  97 104\n",
      "  187 253 253  60   0   0   0   0   0   0]\n",
      " [  0   0   0   0   0   0   0   0   0   0   0   0   0   0   0   0   0   0\n",
      "    0   0   0   0   0   0   0   0   0   0]\n",
      " [  0   0   0   0   0   0   0   0   0   0   0   0   0   0   0   0   0   0\n",
      "    0   0   0   0   0   0   0   0   0   0]\n",
      " [  0   0   0   0   0   0   0   0   0   0   0   0   0   0   0   0   0   0\n",
      "    0   0   0   0   0   0   0   0   0   0]\n",
      " [  0   0   0   0   0   0   0   0   0   0   0   0   0   0   0   0   0   0\n",
      "    0   0   0   0   0   0   0   0   0   0]] \n",
      " Validation set Label:  5 \n",
      "\n"
     ]
    }
   ],
   "source": [
    "# Your k-NN algorithm script/code \n",
    "def euclidean_distance(x1, x2):\n",
    "    \"\"\" Calculates the Eucledian distance between two instances\"\"\" \n",
    "    return np.linalg.norm(np.subtract(x1, x2))\n",
    "\n",
    "def knn_neighbors(train_set, \n",
    "                  labels, \n",
    "                  test_instance, \n",
    "                  k, \n",
    "                  distance):\n",
    "    distances = []\n",
    "    for index in range(len(train_set)):\n",
    "        dist = euclidean_distance(test_instance, train_set[index])\n",
    "        distances.append((train_set[index], dist, labels[index]))\n",
    "    distances.sort(key=lambda x: x[1])\n",
    "    neighbors = distances[:k]\n",
    "    return neighbors\n",
    "for i in range(5):\n",
    "    neighbors = get_neighbors(train2_image, \n",
    "                              train2_label, \n",
    "                              validation_image[i], \n",
    "                              3, \n",
    "                              distance=euclidean_distance)\n",
    "print(\"Index:         \",i,'\\n',\n",
    "      \"Validation set Data:  \",validation_image[i],'\\n', \n",
    "      \"Validation set Label: \",validation_label[i],'\\n') \n",
    "      \n",
    "\n",
    "\n",
    "    "
   ]
  }
 ],
 "metadata": {
  "kernelspec": {
   "display_name": "Python 3 (ipykernel)",
   "language": "python",
   "name": "python3"
  },
  "language_info": {
   "codemirror_mode": {
    "name": "ipython",
    "version": 3
   },
   "file_extension": ".py",
   "mimetype": "text/x-python",
   "name": "python",
   "nbconvert_exporter": "python",
   "pygments_lexer": "ipython3",
   "version": "3.9.12"
  }
 },
 "nbformat": 4,
 "nbformat_minor": 5
}
