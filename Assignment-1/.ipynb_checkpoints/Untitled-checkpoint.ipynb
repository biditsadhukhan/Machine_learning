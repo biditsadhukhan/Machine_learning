{
 "cells": [
  {
   "cell_type": "code",
   "execution_count": null,
   "id": "3d9ab843",
   "metadata": {},
   "outputs": [],
   "source": [
    "import urllib.request\n",
    "import os\n",
    "\n",
    "def download_mnist():\n",
    "    base_url = \"http://yann.lecun.com/exdb/mnist/\"\n",
    "    files = [\"train-images-idx3-ubyte.gz\", \"train-labels-idx1-ubyte.gz\", \"t10k-images-idx3-ubyte.gz\", \"t10k-labels-idx1-ubyte.gz\"]\n",
    "    if not os.path.exists(\"data\"):\n",
    "        os.mkdir(\"data\")\n",
    "    for file in files:\n",
    "        if not os.path.exists(\"data/\" + file):\n",
    "            print(\"Downloading \" + file + \"...\")\n",
    "            urllib.request.urlretrieve(base_url + file, \"data/\" + file)\n",
    "            print(\"Downloaded \" + file)\n"
   ]
  },
  {
   "cell_type": "code",
   "execution_count": null,
   "id": "3fe292dc",
   "metadata": {},
   "outputs": [],
   "source": [
    "import gzip\n",
    "import numpy as np\n",
    "\n",
    "def load_mnist_images(filename):\n",
    "    with gzip.open(filename, 'rb') as f:\n",
    "        data = np.frombuffer(f.read(), np.uint8, offset=16)\n",
    "    data = data.reshape(-1, 28 * 28)\n",
    "    data = data.astype(np.float32) / 255.0\n",
    "    return data\n",
    "\n",
    "def load_mnist_labels(filename):\n",
    "    with gzip.open(filename, 'rb') as f:\n",
    "        data = np.frombuffer(f.read(), np.uint8, offset=8)\n",
    "    return data\n"
   ]
  },
  {
   "cell_type": "code",
   "execution_count": null,
   "id": "3747fb6f",
   "metadata": {},
   "outputs": [],
   "source": [
    "import numpy as np\n",
    "\n",
    "def knn(train_images, train_labels, test_image, k):\n",
    "    distances = np.sqrt(np.sum((train_images - test_image) ** 2, axis=1))\n",
    "    nearest_neighbors = np.argsort(distances)[:k]\n",
    "    nearest_labels = train_labels[nearest_neighbors]\n",
    "    counts = np.bincount(nearest_labels)\n",
    "    return np.argmax(counts)\n",
    "\n",
    "def test_knn(train_images, train_labels, test_images, test_labels, k):\n",
    "    correct = 0\n",
    "    for i in range(len(test_images)):\n",
    "        predicted_label = knn(train_images, train_labels, test_images[i], k)\n",
    "        if predicted_label == test_labels[i]:\n",
    "            correct += 1\n",
    "    accuracy = float(correct) / len(test_images)\n",
    "    print(\"Accuracy: %.2f%%\" % (accuracy * 100))\n",
    "\n",
    "train_images = load_mnist_images(\"train-images-idx3-ubyte.gz\")\n",
    "train_labels = load_mnist_labels(\"train-labels-idx1-ubyte.gz\")\n",
    "test_images = load_mnist_images(\"t10k-images-idx3-ubyte.gz\")\n",
    "test_labels = load_mnist_labels(\"t10k-labels-idx1-ubyte.gz\")\n",
    "\n",
    "for k in range(1, 11):\n",
    "    print(\"K = %d:\" % k)\n",
    "    test_knn(train_images, train_labels, test_images, test_labels, k)\n"
   ]
  }
 ],
 "metadata": {
  "kernelspec": {
   "display_name": "Python 3 (ipykernel)",
   "language": "python",
   "name": "python3"
  },
  "language_info": {
   "codemirror_mode": {
    "name": "ipython",
    "version": 3
   },
   "file_extension": ".py",
   "mimetype": "text/x-python",
   "name": "python",
   "nbconvert_exporter": "python",
   "pygments_lexer": "ipython3",
   "version": "3.9.12"
  }
 },
 "nbformat": 4,
 "nbformat_minor": 5
}
