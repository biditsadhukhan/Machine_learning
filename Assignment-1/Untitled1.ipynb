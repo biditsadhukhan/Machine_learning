{
 "cells": [
  {
   "cell_type": "code",
   "execution_count": 3,
   "id": "4b154650",
   "metadata": {},
   "outputs": [
    {
     "ename": "ValueError",
     "evalue": "cannot reshape array of size 9912406 into shape (2055376946,370034809926666)",
     "output_type": "error",
     "traceback": [
      "\u001b[1;31m---------------------------------------------------------------------------\u001b[0m",
      "\u001b[1;31mValueError\u001b[0m                                Traceback (most recent call last)",
      "Input \u001b[1;32mIn [3]\u001b[0m, in \u001b[0;36m<cell line: 43>\u001b[1;34m()\u001b[0m\n\u001b[0;32m     40\u001b[0m     \u001b[38;5;28;01mreturn\u001b[39;00m np\u001b[38;5;241m.\u001b[39mmean(y_pred \u001b[38;5;241m==\u001b[39m y_true) \u001b[38;5;241m*\u001b[39m \u001b[38;5;241m100\u001b[39m\n\u001b[0;32m     42\u001b[0m \u001b[38;5;66;03m# load the data\u001b[39;00m\n\u001b[1;32m---> 43\u001b[0m X_train, y_train, X_test, y_test \u001b[38;5;241m=\u001b[39m \u001b[43mload_data\u001b[49m\u001b[43m(\u001b[49m\u001b[43m)\u001b[49m\n\u001b[0;32m     45\u001b[0m \u001b[38;5;66;03m# compute accuracy for varying values of k and p\u001b[39;00m\n\u001b[0;32m     46\u001b[0m ks \u001b[38;5;241m=\u001b[39m [\u001b[38;5;241m1\u001b[39m, \u001b[38;5;241m3\u001b[39m, \u001b[38;5;241m5\u001b[39m, \u001b[38;5;241m7\u001b[39m, \u001b[38;5;241m9\u001b[39m, \u001b[38;5;241m11\u001b[39m, \u001b[38;5;241m13\u001b[39m, \u001b[38;5;241m15\u001b[39m, \u001b[38;5;241m17\u001b[39m, \u001b[38;5;241m19\u001b[39m]\n",
      "Input \u001b[1;32mIn [3]\u001b[0m, in \u001b[0;36mload_data\u001b[1;34m()\u001b[0m\n\u001b[0;32m      6\u001b[0m \u001b[38;5;28;01mwith\u001b[39;00m \u001b[38;5;28mopen\u001b[39m(\u001b[38;5;124m'\u001b[39m\u001b[38;5;124mtrain-images-idx3-ubyte.gz\u001b[39m\u001b[38;5;124m'\u001b[39m, \u001b[38;5;124m'\u001b[39m\u001b[38;5;124mrb\u001b[39m\u001b[38;5;124m'\u001b[39m) \u001b[38;5;28;01mas\u001b[39;00m f:\n\u001b[0;32m      7\u001b[0m     magic, num, rows, cols \u001b[38;5;241m=\u001b[39m struct\u001b[38;5;241m.\u001b[39munpack(\u001b[38;5;124m\"\u001b[39m\u001b[38;5;124m>IIII\u001b[39m\u001b[38;5;124m\"\u001b[39m, f\u001b[38;5;241m.\u001b[39mread(\u001b[38;5;241m16\u001b[39m))\n\u001b[1;32m----> 8\u001b[0m     X_train \u001b[38;5;241m=\u001b[39m \u001b[43mnp\u001b[49m\u001b[38;5;241;43m.\u001b[39;49m\u001b[43mfromfile\u001b[49m\u001b[43m(\u001b[49m\u001b[43mf\u001b[49m\u001b[43m,\u001b[49m\u001b[43m \u001b[49m\u001b[43mdtype\u001b[49m\u001b[38;5;241;43m=\u001b[39;49m\u001b[43mnp\u001b[49m\u001b[38;5;241;43m.\u001b[39;49m\u001b[43muint8\u001b[49m\u001b[43m)\u001b[49m\u001b[38;5;241;43m.\u001b[39;49m\u001b[43mreshape\u001b[49m\u001b[43m(\u001b[49m\u001b[43mnum\u001b[49m\u001b[43m,\u001b[49m\u001b[43m \u001b[49m\u001b[43mrows\u001b[49m\u001b[43m \u001b[49m\u001b[38;5;241;43m*\u001b[39;49m\u001b[43m \u001b[49m\u001b[43mcols\u001b[49m\u001b[43m)\u001b[49m\n\u001b[0;32m     10\u001b[0m \u001b[38;5;28;01mwith\u001b[39;00m \u001b[38;5;28mopen\u001b[39m(\u001b[38;5;124m'\u001b[39m\u001b[38;5;124mtrain-labels-idx1-ubyte.gz\u001b[39m\u001b[38;5;124m'\u001b[39m, \u001b[38;5;124m'\u001b[39m\u001b[38;5;124mrb\u001b[39m\u001b[38;5;124m'\u001b[39m) \u001b[38;5;28;01mas\u001b[39;00m f:\n\u001b[0;32m     11\u001b[0m     magic, num \u001b[38;5;241m=\u001b[39m struct\u001b[38;5;241m.\u001b[39munpack(\u001b[38;5;124m\"\u001b[39m\u001b[38;5;124m>II\u001b[39m\u001b[38;5;124m\"\u001b[39m, f\u001b[38;5;241m.\u001b[39mread(\u001b[38;5;241m8\u001b[39m))\n",
      "\u001b[1;31mValueError\u001b[0m: cannot reshape array of size 9912406 into shape (2055376946,370034809926666)"
     ]
    }
   ],
   "source": [
    "import numpy as np\n",
    "import struct\n",
    "import matplotlib.pyplot as plt\n",
    "\n",
    "def load_data():\n",
    "    with open('train-images-idx3-ubyte.gz', 'rb') as f:\n",
    "        magic, num, rows, cols = struct.unpack(\">IIII\", f.read(16))\n",
    "        X_train = np.fromfile(f, dtype=np.uint8).reshape(num, rows * cols)\n",
    "\n",
    "    with open('train-labels-idx1-ubyte.gz', 'rb') as f:\n",
    "        magic, num = struct.unpack(\">II\", f.read(8))\n",
    "        y_train = np.fromfile(f, dtype=np.uint8)\n",
    "\n",
    "    with open('t10k-images-idx3-ubyte.gz', 'rb') as f:\n",
    "        magic, num, rows, cols = struct.unpack(\">IIII\", f.read(16))\n",
    "        X_test = np.fromfile(f, dtype=np.uint8).reshape(num, rows * cols)\n",
    "\n",
    "    with open('t10k-labels-idx1-ubyte.gz', 'rb') as f:\n",
    "        magic, num = struct.unpack(\">II\", f.read(8))\n",
    "        y_test = np.fromfile(f, dtype=np.uint8)\n",
    "\n",
    "    return X_train, y_train, X_test, y_test\n",
    "\n",
    "def distance(X, Y, p=2):\n",
    "    if p == 1:\n",
    "        return np.sum(np.abs(X - Y), axis=1)\n",
    "    elif p == 2:\n",
    "        return np.sqrt(np.sum(np.square(X - Y), axis=1))\n",
    "    else:\n",
    "        return np.max(np.abs(X - Y), axis=1)\n",
    "\n",
    "def knn_predict(X_train, y_train, X_test, k=3, p=2):\n",
    "    distances = distance(X_train, X_test[:, np.newaxis, :], p=p)\n",
    "    nearest_neighbors = np.argpartition(distances, k, axis=1)[:, :k]\n",
    "    labels = y_train[nearest_neighbors]\n",
    "    y_pred = np.argmax(np.apply_along_axis(lambda x: np.bincount(x, minlength=10), axis=1, arr=labels), axis=1)\n",
    "    return y_pred\n",
    "\n",
    "def accuracy(y_pred, y_true):\n",
    "    return np.mean(y_pred == y_true) * 100\n",
    "\n",
    "# load the data\n",
    "X_train, y_train, X_test, y_test = load_data()\n",
    "\n",
    "# compute accuracy for varying values of k and p\n",
    "ks = [1, 3, 5, 7, 9, 11, 13, 15, 17, 19]\n",
    "ps = [1, 2, 3]\n",
    "\n",
    "accuracies = np.array([[accuracy(knn_predict(X_train, y_train, X_test, k=k, p=p), y_test) for p in ps] for k in ks])\n",
    "\n",
    "# plot the accuracy as a function of k and p\n",
    "fig = plt.figure()\n",
    "ax = fig.add_subplot(111, projection='3d')\n",
    "for j, p in enumerate(ps):\n",
    "    ax.plot(ks, [p] * len(ks), accuracies[:, j], label='p={}'.format(p))\n",
    "ax.set_xlabel('k')\n",
    "ax.set_ylabel('p')\n",
    "ax.set_zlabel('Accuracy (%)')\n",
    "plt.legend()\n",
    "plt.show()\n"
   ]
  }
 ],
 "metadata": {
  "kernelspec": {
   "display_name": "Python 3 (ipykernel)",
   "language": "python",
   "name": "python3"
  },
  "language_info": {
   "codemirror_mode": {
    "name": "ipython",
    "version": 3
   },
   "file_extension": ".py",
   "mimetype": "text/x-python",
   "name": "python",
   "nbconvert_exporter": "python",
   "pygments_lexer": "ipython3",
   "version": "3.9.12"
  }
 },
 "nbformat": 4,
 "nbformat_minor": 5
}
