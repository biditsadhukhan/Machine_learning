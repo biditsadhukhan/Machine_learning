{
 "cells": [
  {
   "cell_type": "markdown",
   "metadata": {
    "id": "MvOTjFdvV5du"
   },
   "source": [
    "# Importing Libraries"
   ]
  },
  {
   "cell_type": "code",
   "execution_count": 1,
   "metadata": {
    "executionInfo": {
     "elapsed": 4588,
     "status": "ok",
     "timestamp": 1662581791875,
     "user": {
      "displayName": "Ratul Chakraborty",
      "userId": "17345604770083247753"
     },
     "user_tz": -330
    },
    "id": "nPheK1e3VYTB"
   },
   "outputs": [],
   "source": [
    "import os\n",
    "\n",
    "import numpy as np\n",
    "import pandas as pd\n",
    "\n",
    "from sklearn.model_selection import train_test_split\n",
    "from sklearn.metrics import r2_score\n",
    "\n",
    "import tensorflow as tf\n",
    "from tensorflow import keras\n",
    "from keras.callbacks import EarlyStopping, ReduceLROnPlateau\n",
    "from tensorflow.keras.optimizers import Adam , Adagrad, SGD, RMSprop\n",
    "from keras.layers import Dense, Dropout, BatchNormalization, LSTM, Activation\n",
    "from tensorflow.keras.models import Sequential\n",
    "\n",
    "import matplotlib.pyplot as plt\n",
    "import seaborn as sns"
   ]
  },
  {
   "cell_type": "markdown",
   "metadata": {},
   "source": [
    "# Data Processing"
   ]
  },
  {
   "cell_type": "code",
   "execution_count": 2,
   "metadata": {
    "colab": {
     "base_uri": "https://localhost:8080/",
     "height": 455
    },
    "executionInfo": {
     "elapsed": 26,
     "status": "ok",
     "timestamp": 1662581791877,
     "user": {
      "displayName": "Ratul Chakraborty",
      "userId": "17345604770083247753"
     },
     "user_tz": -330
    },
    "id": "S32d6EL4Vdyv",
    "outputId": "548cb2f0-721b-4700-dcd1-0ce3ac8b2a50"
   },
   "outputs": [
    {
     "data": {
      "text/html": [
       "\n",
       "  <div id=\"df-b473ab72-e808-40bf-9c6d-0a955c813b61\">\n",
       "    <div class=\"colab-df-container\">\n",
       "      <div>\n",
       "<style scoped>\n",
       "    .dataframe tbody tr th:only-of-type {\n",
       "        vertical-align: middle;\n",
       "    }\n",
       "\n",
       "    .dataframe tbody tr th {\n",
       "        vertical-align: top;\n",
       "    }\n",
       "\n",
       "    .dataframe thead th {\n",
       "        text-align: right;\n",
       "    }\n",
       "</style>\n",
       "<table border=\"1\" class=\"dataframe\">\n",
       "  <thead>\n",
       "    <tr style=\"text-align: right;\">\n",
       "      <th></th>\n",
       "      <th>Consumption</th>\n",
       "      <th>avg_max</th>\n",
       "      <th>avg_min</th>\n",
       "      <th>avg_rain</th>\n",
       "    </tr>\n",
       "    <tr>\n",
       "      <th>Date</th>\n",
       "      <th></th>\n",
       "      <th></th>\n",
       "      <th></th>\n",
       "      <th></th>\n",
       "    </tr>\n",
       "  </thead>\n",
       "  <tbody>\n",
       "    <tr>\n",
       "      <th>2018-01-01</th>\n",
       "      <td>87.3</td>\n",
       "      <td>23.775773</td>\n",
       "      <td>11.385371</td>\n",
       "      <td>0.0</td>\n",
       "    </tr>\n",
       "    <tr>\n",
       "      <th>2018-01-02</th>\n",
       "      <td>87.9</td>\n",
       "      <td>23.422979</td>\n",
       "      <td>11.027654</td>\n",
       "      <td>0.0</td>\n",
       "    </tr>\n",
       "    <tr>\n",
       "      <th>2018-01-03</th>\n",
       "      <td>92.1</td>\n",
       "      <td>21.428075</td>\n",
       "      <td>10.351028</td>\n",
       "      <td>0.0</td>\n",
       "    </tr>\n",
       "    <tr>\n",
       "      <th>2018-01-04</th>\n",
       "      <td>96.6</td>\n",
       "      <td>20.518272</td>\n",
       "      <td>9.465577</td>\n",
       "      <td>0.0</td>\n",
       "    </tr>\n",
       "    <tr>\n",
       "      <th>2018-01-05</th>\n",
       "      <td>98.5</td>\n",
       "      <td>21.488783</td>\n",
       "      <td>8.556001</td>\n",
       "      <td>0.0</td>\n",
       "    </tr>\n",
       "    <tr>\n",
       "      <th>...</th>\n",
       "      <td>...</td>\n",
       "      <td>...</td>\n",
       "      <td>...</td>\n",
       "      <td>...</td>\n",
       "    </tr>\n",
       "    <tr>\n",
       "      <th>2020-12-27</th>\n",
       "      <td>110.0</td>\n",
       "      <td>23.572216</td>\n",
       "      <td>10.109815</td>\n",
       "      <td>0.0</td>\n",
       "    </tr>\n",
       "    <tr>\n",
       "      <th>2020-12-28</th>\n",
       "      <td>111.1</td>\n",
       "      <td>23.569913</td>\n",
       "      <td>9.930083</td>\n",
       "      <td>0.0</td>\n",
       "    </tr>\n",
       "    <tr>\n",
       "      <th>2020-12-29</th>\n",
       "      <td>116.1</td>\n",
       "      <td>23.504397</td>\n",
       "      <td>10.118490</td>\n",
       "      <td>0.0</td>\n",
       "    </tr>\n",
       "    <tr>\n",
       "      <th>2020-12-30</th>\n",
       "      <td>115.9</td>\n",
       "      <td>24.180420</td>\n",
       "      <td>10.423822</td>\n",
       "      <td>0.0</td>\n",
       "    </tr>\n",
       "    <tr>\n",
       "      <th>2020-12-31</th>\n",
       "      <td>116.9</td>\n",
       "      <td>24.183765</td>\n",
       "      <td>10.296123</td>\n",
       "      <td>0.0</td>\n",
       "    </tr>\n",
       "  </tbody>\n",
       "</table>\n",
       "<p>1005 rows × 4 columns</p>\n",
       "</div>\n",
       "      <button class=\"colab-df-convert\" onclick=\"convertToInteractive('df-b473ab72-e808-40bf-9c6d-0a955c813b61')\"\n",
       "              title=\"Convert this dataframe to an interactive table.\"\n",
       "              style=\"display:none;\">\n",
       "        \n",
       "  <svg xmlns=\"http://www.w3.org/2000/svg\" height=\"24px\"viewBox=\"0 0 24 24\"\n",
       "       width=\"24px\">\n",
       "    <path d=\"M0 0h24v24H0V0z\" fill=\"none\"/>\n",
       "    <path d=\"M18.56 5.44l.94 2.06.94-2.06 2.06-.94-2.06-.94-.94-2.06-.94 2.06-2.06.94zm-11 1L8.5 8.5l.94-2.06 2.06-.94-2.06-.94L8.5 2.5l-.94 2.06-2.06.94zm10 10l.94 2.06.94-2.06 2.06-.94-2.06-.94-.94-2.06-.94 2.06-2.06.94z\"/><path d=\"M17.41 7.96l-1.37-1.37c-.4-.4-.92-.59-1.43-.59-.52 0-1.04.2-1.43.59L10.3 9.45l-7.72 7.72c-.78.78-.78 2.05 0 2.83L4 21.41c.39.39.9.59 1.41.59.51 0 1.02-.2 1.41-.59l7.78-7.78 2.81-2.81c.8-.78.8-2.07 0-2.86zM5.41 20L4 18.59l7.72-7.72 1.47 1.35L5.41 20z\"/>\n",
       "  </svg>\n",
       "      </button>\n",
       "      \n",
       "  <style>\n",
       "    .colab-df-container {\n",
       "      display:flex;\n",
       "      flex-wrap:wrap;\n",
       "      gap: 12px;\n",
       "    }\n",
       "\n",
       "    .colab-df-convert {\n",
       "      background-color: #E8F0FE;\n",
       "      border: none;\n",
       "      border-radius: 50%;\n",
       "      cursor: pointer;\n",
       "      display: none;\n",
       "      fill: #1967D2;\n",
       "      height: 32px;\n",
       "      padding: 0 0 0 0;\n",
       "      width: 32px;\n",
       "    }\n",
       "\n",
       "    .colab-df-convert:hover {\n",
       "      background-color: #E2EBFA;\n",
       "      box-shadow: 0px 1px 2px rgba(60, 64, 67, 0.3), 0px 1px 3px 1px rgba(60, 64, 67, 0.15);\n",
       "      fill: #174EA6;\n",
       "    }\n",
       "\n",
       "    [theme=dark] .colab-df-convert {\n",
       "      background-color: #3B4455;\n",
       "      fill: #D2E3FC;\n",
       "    }\n",
       "\n",
       "    [theme=dark] .colab-df-convert:hover {\n",
       "      background-color: #434B5C;\n",
       "      box-shadow: 0px 1px 3px 1px rgba(0, 0, 0, 0.15);\n",
       "      filter: drop-shadow(0px 1px 2px rgba(0, 0, 0, 0.3));\n",
       "      fill: #FFFFFF;\n",
       "    }\n",
       "  </style>\n",
       "\n",
       "      <script>\n",
       "        const buttonEl =\n",
       "          document.querySelector('#df-b473ab72-e808-40bf-9c6d-0a955c813b61 button.colab-df-convert');\n",
       "        buttonEl.style.display =\n",
       "          google.colab.kernel.accessAllowed ? 'block' : 'none';\n",
       "\n",
       "        async function convertToInteractive(key) {\n",
       "          const element = document.querySelector('#df-b473ab72-e808-40bf-9c6d-0a955c813b61');\n",
       "          const dataTable =\n",
       "            await google.colab.kernel.invokeFunction('convertToInteractive',\n",
       "                                                     [key], {});\n",
       "          if (!dataTable) return;\n",
       "\n",
       "          const docLinkHtml = 'Like what you see? Visit the ' +\n",
       "            '<a target=\"_blank\" href=https://colab.research.google.com/notebooks/data_table.ipynb>data table notebook</a>'\n",
       "            + ' to learn more about interactive tables.';\n",
       "          element.innerHTML = '';\n",
       "          dataTable['output_type'] = 'display_data';\n",
       "          await google.colab.output.renderOutput(dataTable, element);\n",
       "          const docLink = document.createElement('div');\n",
       "          docLink.innerHTML = docLinkHtml;\n",
       "          element.appendChild(docLink);\n",
       "        }\n",
       "      </script>\n",
       "    </div>\n",
       "  </div>\n",
       "  "
      ],
      "text/plain": [
       "            Consumption    avg_max    avg_min  avg_rain\n",
       "Date                                                   \n",
       "2018-01-01         87.3  23.775773  11.385371       0.0\n",
       "2018-01-02         87.9  23.422979  11.027654       0.0\n",
       "2018-01-03         92.1  21.428075  10.351028       0.0\n",
       "2018-01-04         96.6  20.518272   9.465577       0.0\n",
       "2018-01-05         98.5  21.488783   8.556001       0.0\n",
       "...                 ...        ...        ...       ...\n",
       "2020-12-27        110.0  23.572216  10.109815       0.0\n",
       "2020-12-28        111.1  23.569913   9.930083       0.0\n",
       "2020-12-29        116.1  23.504397  10.118490       0.0\n",
       "2020-12-30        115.9  24.180420  10.423822       0.0\n",
       "2020-12-31        116.9  24.183765  10.296123       0.0\n",
       "\n",
       "[1005 rows x 4 columns]"
      ]
     },
     "execution_count": 2,
     "metadata": {},
     "output_type": "execute_result"
    }
   ],
   "source": [
    "data = pd.read_csv(\"Consumption_Climate_Average_West_Bengal_2018_2019_2020.csv\")\n",
    "data[\"Date\"] = pd.to_datetime(data[\"Date\"])\n",
    "data.set_index(\"Date\", inplace = True)\n",
    "data.drop(\"avg_temp\", axis = 1, inplace = True)\n",
    "data"
   ]
  },
  {
   "cell_type": "code",
   "execution_count": 3,
   "metadata": {
    "colab": {
     "base_uri": "https://localhost:8080/"
    },
    "executionInfo": {
     "elapsed": 22,
     "status": "ok",
     "timestamp": 1662581791879,
     "user": {
      "displayName": "Ratul Chakraborty",
      "userId": "17345604770083247753"
     },
     "user_tz": -330
    },
    "id": "HS9o7KwkkQ7D",
    "outputId": "42d4b49c-d898-4a19-8231-fe541d07159c"
   },
   "outputs": [
    {
     "name": "stdout",
     "output_type": "stream",
     "text": [
      "(640, 3)\n",
      "(640,)\n",
      "(214, 3)\n",
      "(214,)\n",
      "(151, 3)\n",
      "(151,)\n"
     ]
    }
   ],
   "source": [
    "X = data.iloc[:, 1:]\n",
    "y = data.iloc[:, 0]\n",
    "\n",
    "X_train, X_test, y_train, y_test = train_test_split(X, y, test_size= 0.15, shuffle = False)\n",
    "\n",
    "X_train, X_val, y_train, y_val = train_test_split(X_train, y_train, test_size= 0.25, random_state= 69)\n",
    "\n",
    "print(X_train.shape)\n",
    "print(y_train.shape)\n",
    "print(X_val.shape)\n",
    "print(y_val.shape)\n",
    "print(X_test.shape)\n",
    "print(y_test.shape)"
   ]
  },
  {
   "cell_type": "code",
   "execution_count": 4,
   "metadata": {
    "colab": {
     "base_uri": "https://localhost:8080/"
    },
    "executionInfo": {
     "elapsed": 521,
     "status": "ok",
     "timestamp": 1662581792383,
     "user": {
      "displayName": "Ratul Chakraborty",
      "userId": "17345604770083247753"
     },
     "user_tz": -330
    },
    "id": "DCMUofOm9RNc",
    "outputId": "342983f8-588d-48cc-b022-4e5c6e10254f"
   },
   "outputs": [
    {
     "name": "stdout",
     "output_type": "stream",
     "text": [
      "(640, 1, 3)\n",
      "(151, 1, 3)\n",
      "(1005, 1, 3)\n",
      "(214, 1, 3)\n"
     ]
    }
   ],
   "source": [
    "# reshape input to be [samples, time steps, features] which is required for LSTM\n",
    "X_train_reshaped =np.array(X_train).reshape(X_train.shape[0], 1, X_train.shape[1])\n",
    "X_test_reshaped = np.array(X_test).reshape(X_test.shape[0], 1, X_test.shape[1])\n",
    "X_reshaped = np.array(X).reshape(X.shape[0], 1, X.shape[1])\n",
    "X_val_reshaped = np.array(X_val).reshape(X_val.shape[0], 1, X_val.shape[1])\n",
    "\n",
    "\n",
    "print(X_train_reshaped.shape)\n",
    "print(X_test_reshaped.shape)\n",
    "print(X_reshaped.shape)\n",
    "print(X_val_reshaped.shape)"
   ]
  },
  {
   "cell_type": "markdown",
   "metadata": {},
   "source": [
    "# LSTM"
   ]
  },
  {
   "cell_type": "code",
   "execution_count": 5,
   "metadata": {
    "executionInfo": {
     "elapsed": 10,
     "status": "ok",
     "timestamp": 1662581792385,
     "user": {
      "displayName": "Ratul Chakraborty",
      "userId": "17345604770083247753"
     },
     "user_tz": -330
    },
    "id": "x_klVftI9RIq"
   },
   "outputs": [],
   "source": [
    "keras.backend.clear_session()"
   ]
  },
  {
   "cell_type": "code",
   "execution_count": 6,
   "metadata": {
    "colab": {
     "base_uri": "https://localhost:8080/"
    },
    "executionInfo": {
     "elapsed": 52671,
     "status": "ok",
     "timestamp": 1662581845048,
     "user": {
      "displayName": "Ratul Chakraborty",
      "userId": "17345604770083247753"
     },
     "user_tz": -330
    },
    "id": "COEjIsIpWMgv",
    "outputId": "12501993-be88-426a-bc3d-eb2d1d54740e"
   },
   "outputs": [
    {
     "name": "stdout",
     "output_type": "stream",
     "text": [
      "Epoch 1/500\n",
      "20/20 [==============================] - 20s 240ms/step - loss: 20163.8477 - val_loss: 19598.1855\n",
      "Epoch 2/500\n",
      "20/20 [==============================] - 0s 19ms/step - loss: 20081.2383 - val_loss: 19373.8203\n",
      "Epoch 3/500\n",
      "20/20 [==============================] - 0s 24ms/step - loss: 19607.5254 - val_loss: 18663.2031\n",
      "Epoch 4/500\n",
      "20/20 [==============================] - 0s 23ms/step - loss: 18686.9336 - val_loss: 17503.9395\n",
      "Epoch 5/500\n",
      "20/20 [==============================] - 1s 27ms/step - loss: 17198.6758 - val_loss: 15670.8965\n",
      "Epoch 6/500\n",
      "20/20 [==============================] - 0s 23ms/step - loss: 14986.6768 - val_loss: 13135.4932\n",
      "Epoch 7/500\n",
      "20/20 [==============================] - 0s 23ms/step - loss: 12114.0967 - val_loss: 10027.1572\n",
      "Epoch 8/500\n",
      "20/20 [==============================] - 1s 25ms/step - loss: 8805.6387 - val_loss: 6696.8447\n",
      "Epoch 9/500\n",
      "20/20 [==============================] - 0s 14ms/step - loss: 5526.2573 - val_loss: 3725.6665\n",
      "Epoch 10/500\n",
      "20/20 [==============================] - 0s 13ms/step - loss: 2854.3894 - val_loss: 1735.9757\n",
      "Epoch 11/500\n",
      "20/20 [==============================] - 0s 16ms/step - loss: 1328.6000 - val_loss: 859.6993\n",
      "Epoch 12/500\n",
      "20/20 [==============================] - 0s 17ms/step - loss: 788.5427 - val_loss: 692.5489\n",
      "Epoch 13/500\n",
      "20/20 [==============================] - 0s 19ms/step - loss: 699.9003 - val_loss: 695.1984\n",
      "Epoch 14/500\n",
      "20/20 [==============================] - 0s 21ms/step - loss: 696.3143 - val_loss: 695.6606\n",
      "Epoch 15/500\n",
      "20/20 [==============================] - 0s 19ms/step - loss: 696.2881 - val_loss: 694.8928\n",
      "Epoch 16/500\n",
      "20/20 [==============================] - 0s 16ms/step - loss: 696.2855 - val_loss: 693.3855\n",
      "Epoch 17/500\n",
      "20/20 [==============================] - 0s 19ms/step - loss: 696.0504 - val_loss: 693.6131\n",
      "Epoch 18/500\n",
      "20/20 [==============================] - 0s 14ms/step - loss: 696.1942 - val_loss: 693.7194\n",
      "Epoch 19/500\n",
      "20/20 [==============================] - 0s 13ms/step - loss: 695.5189 - val_loss: 690.2432\n",
      "Epoch 20/500\n",
      "20/20 [==============================] - 0s 18ms/step - loss: 692.3560 - val_loss: 678.3076\n",
      "Epoch 21/500\n",
      "20/20 [==============================] - 0s 20ms/step - loss: 611.8521 - val_loss: 440.4716\n",
      "Epoch 22/500\n",
      "20/20 [==============================] - 0s 19ms/step - loss: 420.5974 - val_loss: 321.7199\n",
      "Epoch 23/500\n",
      "20/20 [==============================] - 0s 19ms/step - loss: 308.0040 - val_loss: 267.0389\n",
      "Epoch 24/500\n",
      "20/20 [==============================] - 0s 22ms/step - loss: 267.4685 - val_loss: 214.3290\n",
      "Epoch 25/500\n",
      "20/20 [==============================] - 0s 18ms/step - loss: 251.3180 - val_loss: 190.2149\n",
      "Epoch 26/500\n",
      "20/20 [==============================] - 0s 18ms/step - loss: 212.1038 - val_loss: 205.2949\n",
      "Epoch 27/500\n",
      "20/20 [==============================] - 0s 16ms/step - loss: 213.3996 - val_loss: 189.2607\n",
      "Epoch 28/500\n",
      "20/20 [==============================] - 0s 17ms/step - loss: 193.7981 - val_loss: 167.2063\n",
      "Epoch 29/500\n",
      "20/20 [==============================] - 0s 20ms/step - loss: 191.5919 - val_loss: 173.2274\n",
      "Epoch 30/500\n",
      "20/20 [==============================] - 0s 16ms/step - loss: 189.3852 - val_loss: 169.7443\n",
      "Epoch 31/500\n",
      "20/20 [==============================] - 0s 16ms/step - loss: 176.8781 - val_loss: 176.3479\n",
      "Epoch 32/500\n",
      "20/20 [==============================] - 0s 15ms/step - loss: 201.5108 - val_loss: 205.4611\n",
      "Epoch 33/500\n",
      "20/20 [==============================] - 0s 12ms/step - loss: 195.2051 - val_loss: 189.7262\n",
      "Epoch 34/500\n",
      "20/20 [==============================] - 0s 15ms/step - loss: 181.3076 - val_loss: 172.8398\n",
      "Epoch 35/500\n",
      "20/20 [==============================] - 0s 14ms/step - loss: 180.1597 - val_loss: 162.9539\n",
      "Epoch 36/500\n",
      "20/20 [==============================] - 0s 13ms/step - loss: 203.9332 - val_loss: 205.4113\n",
      "Epoch 37/500\n",
      "20/20 [==============================] - 0s 11ms/step - loss: 183.3739 - val_loss: 166.0972\n",
      "Epoch 38/500\n",
      "20/20 [==============================] - 0s 10ms/step - loss: 160.9860 - val_loss: 156.9158\n",
      "Epoch 39/500\n",
      "20/20 [==============================] - 0s 10ms/step - loss: 163.6485 - val_loss: 190.4369\n",
      "Epoch 40/500\n",
      "20/20 [==============================] - 0s 11ms/step - loss: 206.5196 - val_loss: 166.8090\n",
      "Epoch 41/500\n",
      "20/20 [==============================] - 0s 10ms/step - loss: 184.2363 - val_loss: 156.9596\n",
      "Epoch 42/500\n",
      "20/20 [==============================] - 0s 11ms/step - loss: 165.9963 - val_loss: 158.8384\n",
      "Epoch 43/500\n",
      "20/20 [==============================] - 0s 14ms/step - loss: 158.4751 - val_loss: 155.4243\n",
      "Epoch 44/500\n",
      "20/20 [==============================] - 0s 10ms/step - loss: 170.5598 - val_loss: 184.2351\n",
      "Epoch 45/500\n",
      "20/20 [==============================] - 0s 10ms/step - loss: 183.9020 - val_loss: 162.2613\n",
      "Epoch 46/500\n",
      "20/20 [==============================] - 0s 10ms/step - loss: 160.2356 - val_loss: 160.9243\n",
      "Epoch 47/500\n",
      "20/20 [==============================] - 0s 12ms/step - loss: 163.5593 - val_loss: 164.7876\n",
      "Epoch 48/500\n",
      "20/20 [==============================] - 0s 14ms/step - loss: 164.9200 - val_loss: 164.2048\n",
      "Epoch 49/500\n",
      "20/20 [==============================] - 0s 11ms/step - loss: 158.9932 - val_loss: 156.6163\n",
      "Epoch 50/500\n",
      "20/20 [==============================] - 0s 12ms/step - loss: 163.2518 - val_loss: 168.6732\n",
      "Epoch 51/500\n",
      "20/20 [==============================] - 0s 10ms/step - loss: 166.0016 - val_loss: 162.2977\n",
      "Epoch 52/500\n",
      "20/20 [==============================] - 0s 13ms/step - loss: 166.7164 - val_loss: 167.1083\n",
      "Epoch 53/500\n",
      "20/20 [==============================] - 0s 10ms/step - loss: 172.5168 - val_loss: 181.0877\n",
      "Epoch 54/500\n",
      "20/20 [==============================] - 0s 10ms/step - loss: 173.5223 - val_loss: 154.0989\n",
      "Epoch 55/500\n",
      "20/20 [==============================] - 0s 14ms/step - loss: 160.8848 - val_loss: 172.7318\n",
      "Epoch 56/500\n",
      "20/20 [==============================] - 0s 13ms/step - loss: 158.6594 - val_loss: 162.2896\n",
      "Epoch 57/500\n",
      "20/20 [==============================] - 0s 11ms/step - loss: 167.4318 - val_loss: 153.8158\n",
      "Epoch 58/500\n",
      "20/20 [==============================] - 0s 13ms/step - loss: 157.7299 - val_loss: 156.0265\n",
      "Epoch 59/500\n",
      "20/20 [==============================] - 0s 13ms/step - loss: 162.3463 - val_loss: 151.9661\n",
      "Epoch 60/500\n",
      "20/20 [==============================] - 0s 16ms/step - loss: 153.1187 - val_loss: 166.4348\n",
      "Epoch 61/500\n",
      "20/20 [==============================] - 0s 14ms/step - loss: 151.3719 - val_loss: 162.1632\n",
      "Epoch 62/500\n",
      "20/20 [==============================] - 0s 15ms/step - loss: 179.6273 - val_loss: 153.6647\n",
      "Epoch 63/500\n",
      "20/20 [==============================] - 0s 12ms/step - loss: 194.5119 - val_loss: 162.9542\n",
      "Epoch 64/500\n",
      "20/20 [==============================] - 0s 12ms/step - loss: 161.5832 - val_loss: 153.5418\n",
      "Epoch 65/500\n",
      "20/20 [==============================] - 0s 10ms/step - loss: 159.1404 - val_loss: 162.1530\n",
      "Epoch 66/500\n",
      "20/20 [==============================] - 0s 9ms/step - loss: 155.0466 - val_loss: 192.7049\n",
      "Epoch 67/500\n",
      "20/20 [==============================] - 0s 10ms/step - loss: 162.6124 - val_loss: 159.1797\n",
      "Epoch 68/500\n",
      "20/20 [==============================] - 0s 13ms/step - loss: 153.1669 - val_loss: 151.5579\n",
      "Epoch 69/500\n",
      "20/20 [==============================] - 0s 13ms/step - loss: 147.3773 - val_loss: 160.8150\n",
      "Epoch 70/500\n",
      "20/20 [==============================] - 0s 10ms/step - loss: 163.7074 - val_loss: 175.5506\n",
      "Epoch 71/500\n",
      "20/20 [==============================] - 0s 11ms/step - loss: 153.5172 - val_loss: 147.6758\n",
      "Epoch 72/500\n",
      "20/20 [==============================] - 0s 14ms/step - loss: 149.0085 - val_loss: 152.1542\n",
      "Epoch 73/500\n",
      "20/20 [==============================] - 0s 13ms/step - loss: 144.6136 - val_loss: 151.7496\n",
      "Epoch 74/500\n",
      "20/20 [==============================] - 0s 16ms/step - loss: 155.3333 - val_loss: 165.8879\n",
      "Epoch 75/500\n",
      "20/20 [==============================] - 0s 17ms/step - loss: 156.2983 - val_loss: 155.5363\n",
      "Epoch 76/500\n",
      "20/20 [==============================] - 0s 20ms/step - loss: 168.5627 - val_loss: 174.1330\n",
      "Epoch 77/500\n",
      "20/20 [==============================] - 0s 23ms/step - loss: 186.7435 - val_loss: 185.1970\n",
      "Epoch 78/500\n",
      "20/20 [==============================] - 0s 21ms/step - loss: 172.6454 - val_loss: 225.7156\n",
      "Epoch 79/500\n",
      "20/20 [==============================] - 0s 22ms/step - loss: 159.9092 - val_loss: 157.8860\n",
      "Epoch 80/500\n",
      "20/20 [==============================] - 0s 17ms/step - loss: 160.0953 - val_loss: 144.8675\n",
      "Epoch 81/500\n",
      "20/20 [==============================] - 0s 17ms/step - loss: 153.5552 - val_loss: 166.1927\n",
      "Epoch 82/500\n",
      "20/20 [==============================] - 0s 13ms/step - loss: 146.3907 - val_loss: 159.9498\n",
      "Epoch 83/500\n",
      "20/20 [==============================] - 0s 13ms/step - loss: 157.7242 - val_loss: 150.8102\n",
      "Epoch 84/500\n",
      "20/20 [==============================] - 0s 18ms/step - loss: 147.7048 - val_loss: 151.5993\n",
      "Epoch 85/500\n",
      "20/20 [==============================] - 0s 12ms/step - loss: 144.6836 - val_loss: 171.1936\n",
      "Epoch 86/500\n",
      "20/20 [==============================] - 0s 15ms/step - loss: 145.0059 - val_loss: 157.1196\n",
      "Epoch 87/500\n",
      "20/20 [==============================] - 0s 12ms/step - loss: 151.5248 - val_loss: 152.1274\n",
      "Epoch 88/500\n",
      "20/20 [==============================] - 0s 12ms/step - loss: 145.3062 - val_loss: 151.5473\n",
      "Epoch 89/500\n",
      "20/20 [==============================] - 0s 12ms/step - loss: 148.2078 - val_loss: 164.9450\n",
      "Epoch 90/500\n",
      "20/20 [==============================] - 0s 11ms/step - loss: 159.1694 - val_loss: 162.7468\n",
      "Epoch 91/500\n",
      "20/20 [==============================] - 0s 14ms/step - loss: 154.2445 - val_loss: 153.0583\n",
      "Epoch 92/500\n",
      "20/20 [==============================] - 0s 13ms/step - loss: 148.2113 - val_loss: 159.5221\n",
      "Epoch 93/500\n",
      "20/20 [==============================] - 0s 11ms/step - loss: 146.0905 - val_loss: 171.3624\n",
      "Epoch 94/500\n",
      "20/20 [==============================] - 0s 11ms/step - loss: 150.8263 - val_loss: 154.0671\n",
      "Epoch 95/500\n",
      "20/20 [==============================] - 0s 13ms/step - loss: 149.2046 - val_loss: 166.7114\n",
      "Epoch 96/500\n",
      "20/20 [==============================] - 0s 14ms/step - loss: 150.0468 - val_loss: 168.4561\n",
      "Epoch 97/500\n",
      "20/20 [==============================] - 0s 17ms/step - loss: 149.8606 - val_loss: 148.5708\n",
      "Epoch 98/500\n",
      "20/20 [==============================] - 0s 17ms/step - loss: 149.4507 - val_loss: 231.8729\n"
     ]
    }
   ],
   "source": [
    "#Initialize LSTM:\n",
    "model = Sequential()\n",
    "\n",
    "model.add(LSTM(units = 50, activation='relu', return_sequences=True, input_shape= (1, X_train.shape[1])))\n",
    "\n",
    "model.add(LSTM(units = 50, activation='relu', return_sequences=True))\n",
    "\n",
    "model.add(LSTM(units = 50, activation='relu', return_sequences= True))\n",
    "\n",
    "model.add(LSTM(units = 25, return_sequences= True))\n",
    "\n",
    "model.add(LSTM(units = 20))\n",
    "\n",
    "#Adding the output layer\n",
    "model.add(Dense(units = 20, activation=\"relu\"))\n",
    "model.add(Dense(units = 10, activation= \"relu\"))\n",
    "model.add(Dense(units = 5))\n",
    "model.add(Dense(units = 1))\n",
    "\n",
    "#Compile\n",
    "model.compile(optimizer='adam', loss='mean_squared_error')\n",
    "\n",
    "#Fitting\n",
    "callback = EarlyStopping(monitor = \"loss\", patience = 25, restore_best_weights=True) \n",
    "\n",
    "history = model.fit(X_train_reshaped, y_train, validation_data= (X_val_reshaped, y_val) , epochs=500, batch_size=32, callbacks = [callback])"
   ]
  },
  {
   "cell_type": "code",
   "execution_count": 7,
   "metadata": {
    "colab": {
     "base_uri": "https://localhost:8080/",
     "height": 424
    },
    "executionInfo": {
     "elapsed": 40,
     "status": "ok",
     "timestamp": 1662581845049,
     "user": {
      "displayName": "Ratul Chakraborty",
      "userId": "17345604770083247753"
     },
     "user_tz": -330
    },
    "id": "DKwcq5K1oRgc",
    "outputId": "33e9ab84-e0f4-4cfe-d2d1-f9b28749cc44"
   },
   "outputs": [
    {
     "data": {
      "text/html": [
       "\n",
       "  <div id=\"df-7af673bc-f2fb-45a6-9acd-8a28a32ee39d\">\n",
       "    <div class=\"colab-df-container\">\n",
       "      <div>\n",
       "<style scoped>\n",
       "    .dataframe tbody tr th:only-of-type {\n",
       "        vertical-align: middle;\n",
       "    }\n",
       "\n",
       "    .dataframe tbody tr th {\n",
       "        vertical-align: top;\n",
       "    }\n",
       "\n",
       "    .dataframe thead th {\n",
       "        text-align: right;\n",
       "    }\n",
       "</style>\n",
       "<table border=\"1\" class=\"dataframe\">\n",
       "  <thead>\n",
       "    <tr style=\"text-align: right;\">\n",
       "      <th></th>\n",
       "      <th>loss</th>\n",
       "      <th>val_loss</th>\n",
       "    </tr>\n",
       "  </thead>\n",
       "  <tbody>\n",
       "    <tr>\n",
       "      <th>0</th>\n",
       "      <td>20163.847656</td>\n",
       "      <td>19598.185547</td>\n",
       "    </tr>\n",
       "    <tr>\n",
       "      <th>1</th>\n",
       "      <td>20081.238281</td>\n",
       "      <td>19373.820312</td>\n",
       "    </tr>\n",
       "    <tr>\n",
       "      <th>2</th>\n",
       "      <td>19607.525391</td>\n",
       "      <td>18663.203125</td>\n",
       "    </tr>\n",
       "    <tr>\n",
       "      <th>3</th>\n",
       "      <td>18686.933594</td>\n",
       "      <td>17503.939453</td>\n",
       "    </tr>\n",
       "    <tr>\n",
       "      <th>4</th>\n",
       "      <td>17198.675781</td>\n",
       "      <td>15670.896484</td>\n",
       "    </tr>\n",
       "    <tr>\n",
       "      <th>...</th>\n",
       "      <td>...</td>\n",
       "      <td>...</td>\n",
       "    </tr>\n",
       "    <tr>\n",
       "      <th>93</th>\n",
       "      <td>150.826324</td>\n",
       "      <td>154.067062</td>\n",
       "    </tr>\n",
       "    <tr>\n",
       "      <th>94</th>\n",
       "      <td>149.204620</td>\n",
       "      <td>166.711395</td>\n",
       "    </tr>\n",
       "    <tr>\n",
       "      <th>95</th>\n",
       "      <td>150.046799</td>\n",
       "      <td>168.456116</td>\n",
       "    </tr>\n",
       "    <tr>\n",
       "      <th>96</th>\n",
       "      <td>149.860641</td>\n",
       "      <td>148.570801</td>\n",
       "    </tr>\n",
       "    <tr>\n",
       "      <th>97</th>\n",
       "      <td>149.450745</td>\n",
       "      <td>231.872925</td>\n",
       "    </tr>\n",
       "  </tbody>\n",
       "</table>\n",
       "<p>98 rows × 2 columns</p>\n",
       "</div>\n",
       "      <button class=\"colab-df-convert\" onclick=\"convertToInteractive('df-7af673bc-f2fb-45a6-9acd-8a28a32ee39d')\"\n",
       "              title=\"Convert this dataframe to an interactive table.\"\n",
       "              style=\"display:none;\">\n",
       "        \n",
       "  <svg xmlns=\"http://www.w3.org/2000/svg\" height=\"24px\"viewBox=\"0 0 24 24\"\n",
       "       width=\"24px\">\n",
       "    <path d=\"M0 0h24v24H0V0z\" fill=\"none\"/>\n",
       "    <path d=\"M18.56 5.44l.94 2.06.94-2.06 2.06-.94-2.06-.94-.94-2.06-.94 2.06-2.06.94zm-11 1L8.5 8.5l.94-2.06 2.06-.94-2.06-.94L8.5 2.5l-.94 2.06-2.06.94zm10 10l.94 2.06.94-2.06 2.06-.94-2.06-.94-.94-2.06-.94 2.06-2.06.94z\"/><path d=\"M17.41 7.96l-1.37-1.37c-.4-.4-.92-.59-1.43-.59-.52 0-1.04.2-1.43.59L10.3 9.45l-7.72 7.72c-.78.78-.78 2.05 0 2.83L4 21.41c.39.39.9.59 1.41.59.51 0 1.02-.2 1.41-.59l7.78-7.78 2.81-2.81c.8-.78.8-2.07 0-2.86zM5.41 20L4 18.59l7.72-7.72 1.47 1.35L5.41 20z\"/>\n",
       "  </svg>\n",
       "      </button>\n",
       "      \n",
       "  <style>\n",
       "    .colab-df-container {\n",
       "      display:flex;\n",
       "      flex-wrap:wrap;\n",
       "      gap: 12px;\n",
       "    }\n",
       "\n",
       "    .colab-df-convert {\n",
       "      background-color: #E8F0FE;\n",
       "      border: none;\n",
       "      border-radius: 50%;\n",
       "      cursor: pointer;\n",
       "      display: none;\n",
       "      fill: #1967D2;\n",
       "      height: 32px;\n",
       "      padding: 0 0 0 0;\n",
       "      width: 32px;\n",
       "    }\n",
       "\n",
       "    .colab-df-convert:hover {\n",
       "      background-color: #E2EBFA;\n",
       "      box-shadow: 0px 1px 2px rgba(60, 64, 67, 0.3), 0px 1px 3px 1px rgba(60, 64, 67, 0.15);\n",
       "      fill: #174EA6;\n",
       "    }\n",
       "\n",
       "    [theme=dark] .colab-df-convert {\n",
       "      background-color: #3B4455;\n",
       "      fill: #D2E3FC;\n",
       "    }\n",
       "\n",
       "    [theme=dark] .colab-df-convert:hover {\n",
       "      background-color: #434B5C;\n",
       "      box-shadow: 0px 1px 3px 1px rgba(0, 0, 0, 0.15);\n",
       "      filter: drop-shadow(0px 1px 2px rgba(0, 0, 0, 0.3));\n",
       "      fill: #FFFFFF;\n",
       "    }\n",
       "  </style>\n",
       "\n",
       "      <script>\n",
       "        const buttonEl =\n",
       "          document.querySelector('#df-7af673bc-f2fb-45a6-9acd-8a28a32ee39d button.colab-df-convert');\n",
       "        buttonEl.style.display =\n",
       "          google.colab.kernel.accessAllowed ? 'block' : 'none';\n",
       "\n",
       "        async function convertToInteractive(key) {\n",
       "          const element = document.querySelector('#df-7af673bc-f2fb-45a6-9acd-8a28a32ee39d');\n",
       "          const dataTable =\n",
       "            await google.colab.kernel.invokeFunction('convertToInteractive',\n",
       "                                                     [key], {});\n",
       "          if (!dataTable) return;\n",
       "\n",
       "          const docLinkHtml = 'Like what you see? Visit the ' +\n",
       "            '<a target=\"_blank\" href=https://colab.research.google.com/notebooks/data_table.ipynb>data table notebook</a>'\n",
       "            + ' to learn more about interactive tables.';\n",
       "          element.innerHTML = '';\n",
       "          dataTable['output_type'] = 'display_data';\n",
       "          await google.colab.output.renderOutput(dataTable, element);\n",
       "          const docLink = document.createElement('div');\n",
       "          docLink.innerHTML = docLinkHtml;\n",
       "          element.appendChild(docLink);\n",
       "        }\n",
       "      </script>\n",
       "    </div>\n",
       "  </div>\n",
       "  "
      ],
      "text/plain": [
       "            loss      val_loss\n",
       "0   20163.847656  19598.185547\n",
       "1   20081.238281  19373.820312\n",
       "2   19607.525391  18663.203125\n",
       "3   18686.933594  17503.939453\n",
       "4   17198.675781  15670.896484\n",
       "..           ...           ...\n",
       "93    150.826324    154.067062\n",
       "94    149.204620    166.711395\n",
       "95    150.046799    168.456116\n",
       "96    149.860641    148.570801\n",
       "97    149.450745    231.872925\n",
       "\n",
       "[98 rows x 2 columns]"
      ]
     },
     "execution_count": 7,
     "metadata": {},
     "output_type": "execute_result"
    }
   ],
   "source": [
    "ls_hist = pd.DataFrame(history.history)\n",
    "ls_hist"
   ]
  },
  {
   "cell_type": "code",
   "execution_count": 8,
   "metadata": {
    "colab": {
     "base_uri": "https://localhost:8080/",
     "height": 286
    },
    "executionInfo": {
     "elapsed": 985,
     "status": "ok",
     "timestamp": 1662581846001,
     "user": {
      "displayName": "Ratul Chakraborty",
      "userId": "17345604770083247753"
     },
     "user_tz": -330
    },
    "id": "TgcjstIGoRHs",
    "outputId": "679a0348-7843-4fdb-c798-6b84b7128002"
   },
   "outputs": [
    {
     "data": {
      "text/plain": [
       "<matplotlib.legend.Legend at 0x7febb6dfc850>"
      ]
     },
     "execution_count": 8,
     "metadata": {},
     "output_type": "execute_result"
    },
    {
     "data": {
      "image/png": "[encoded data removed]",
      "text/plain": [
       "<Figure size 432x288 with 1 Axes>"
      ]
     },
     "metadata": {
      "needs_background": "light"
     },
     "output_type": "display_data"
    }
   ],
   "source": [
    "plt.plot(ls_hist.index, ls_hist[\"loss\"], label = \"Train\")\n",
    "plt.plot(ls_hist.index, ls_hist[\"val_loss\"], label = \"Validation\")\n",
    "plt.ylim([-10, 1200])\n",
    "plt.legend()\n",
    "\n",
    "# The Model is neither Overfitting nor Underfitting"
   ]
  },
  {
   "cell_type": "markdown",
   "metadata": {},
   "source": [
    "# Predictions"
   ]
  },
  {
   "cell_type": "code",
   "execution_count": 9,
   "metadata": {
    "executionInfo": {
     "elapsed": 3005,
     "status": "ok",
     "timestamp": 1662581848997,
     "user": {
      "displayName": "Ratul Chakraborty",
      "userId": "17345604770083247753"
     },
     "user_tz": -330
    },
    "id": "ekBCSGuLfTsb"
   },
   "outputs": [],
   "source": [
    "### Lets Do the prediction\n",
    "train_predict = model.predict(X_train_reshaped)\n",
    "val_predict = model.predict(X_val_reshaped)\n",
    "test_predict = model.predict(X_test_reshaped)"
   ]
  },
  {
   "cell_type": "code",
   "execution_count": 10,
   "metadata": {
    "colab": {
     "base_uri": "https://localhost:8080/"
    },
    "executionInfo": {
     "elapsed": 33,
     "status": "ok",
     "timestamp": 1662581848998,
     "user": {
      "displayName": "Ratul Chakraborty",
      "userId": "17345604770083247753"
     },
     "user_tz": -330
    },
    "id": "c8k064fRfTpc",
    "outputId": "a3efac0c-048e-417c-da82-16d57db9706c"
   },
   "outputs": [
    {
     "data": {
      "text/plain": [
       "0.849050617479101"
      ]
     },
     "execution_count": 10,
     "metadata": {},
     "output_type": "execute_result"
    }
   ],
   "source": [
    "r2_score(test_predict, y_test)"
   ]
  },
  {
   "cell_type": "code",
   "execution_count": 11,
   "metadata": {
    "colab": {
     "base_uri": "https://localhost:8080/",
     "height": 304
    },
    "executionInfo": {
     "elapsed": 2018,
     "status": "ok",
     "timestamp": 1662582093207,
     "user": {
      "displayName": "Ratul Chakraborty",
      "userId": "17345604770083247753"
     },
     "user_tz": -330
    },
    "id": "GPY-fj68oRjj",
    "outputId": "eb4b4087-3e23-48d4-bae3-96a00dab3750"
   },
   "outputs": [
    {
     "data": {
      "text/plain": [
       "<matplotlib.legend.Legend at 0x7febb6dfc790>"
      ]
     },
     "execution_count": 11,
     "metadata": {},
     "output_type": "execute_result"
    },
    {
     "data": {
      "image/png": "[encoded data removed]",
      "text/plain": [
       "<Figure size 1500x300 with 1 Axes>"
      ]
     },
     "metadata": {
      "needs_background": "light"
     },
     "output_type": "display_data"
    }
   ],
   "source": [
    "plt.figure(figsize = (15, 3), dpi = 100)\n",
    "plt.plot(X.index, y, label = \"Original\")\n",
    "plt.plot(X.index, model.predict(X_reshaped), alpha = 0.6, label = \"LSTM\")\n",
    "plt.legend()"
   ]
  },
  {
   "cell_type": "code",
   "execution_count": null,
   "metadata": {
    "id": "xSOiayA5froJ"
   },
   "outputs": [],
   "source": []
  },
  {
   "cell_type": "code",
   "execution_count": null,
   "metadata": {
    "colab": {
     "base_uri": "https://localhost:8080/"
    },
    "executionInfo": {
     "elapsed": 1364,
     "status": "ok",
     "timestamp": 1659550712361,
     "user": {
      "displayName": "Ratul Chakraborty",
      "userId": "17345604770083247753"
     },
     "user_tz": -330
    },
    "id": "bwzEZrrhfrVq",
    "outputId": "0f19f375-0f03-4985-c626-6a61d4c5e5b7"
   },
   "outputs": [
    {
     "name": "stdout",
     "output_type": "stream",
     "text": [
      "Model Saved....\n"
     ]
    }
   ],
   "source": [
    "model.save(\"Power_lstm_wb.h5\")\n",
    "print(\"Model Saved....\")"
   ]
  },
  {
   "cell_type": "code",
   "execution_count": null,
   "metadata": {
    "id": "KGaZeEVqfrSL"
   },
   "outputs": [],
   "source": []
  },
  {
   "cell_type": "code",
   "execution_count": null,
   "metadata": {
    "colab": {
     "base_uri": "https://localhost:8080/",
     "height": 300
    },
    "executionInfo": {
     "elapsed": 454,
     "status": "ok",
     "timestamp": 1662417245922,
     "user": {
      "displayName": "Ratul Chakraborty",
      "userId": "17345604770083247753"
     },
     "user_tz": -330
    },
    "id": "hbfwepRbITO9",
    "outputId": "03e15451-dc79-473d-fc15-780944afa9a3"
   },
   "outputs": [
    {
     "data": {
      "text/html": [
       "\n",
       "  <div id=\"df-a97ba844-0a72-4373-b4e4-05b5dfa7af68\">\n",
       "    <div class=\"colab-df-container\">\n",
       "      <div>\n",
       "<style scoped>\n",
       "    .dataframe tbody tr th:only-of-type {\n",
       "        vertical-align: middle;\n",
       "    }\n",
       "\n",
       "    .dataframe tbody tr th {\n",
       "        vertical-align: top;\n",
       "    }\n",
       "\n",
       "    .dataframe thead th {\n",
       "        text-align: right;\n",
       "    }\n",
       "</style>\n",
       "<table border=\"1\" class=\"dataframe\">\n",
       "  <thead>\n",
       "    <tr style=\"text-align: right;\">\n",
       "      <th></th>\n",
       "      <th>max_temp</th>\n",
       "      <th>min_temp</th>\n",
       "      <th>rain</th>\n",
       "    </tr>\n",
       "    <tr>\n",
       "      <th>Date</th>\n",
       "      <th></th>\n",
       "      <th></th>\n",
       "      <th></th>\n",
       "    </tr>\n",
       "  </thead>\n",
       "  <tbody>\n",
       "    <tr>\n",
       "      <th>2022-08-22</th>\n",
       "      <td>35</td>\n",
       "      <td>27</td>\n",
       "      <td>0.5</td>\n",
       "    </tr>\n",
       "    <tr>\n",
       "      <th>2022-08-23</th>\n",
       "      <td>31</td>\n",
       "      <td>27</td>\n",
       "      <td>0.7</td>\n",
       "    </tr>\n",
       "    <tr>\n",
       "      <th>2022-08-24</th>\n",
       "      <td>31</td>\n",
       "      <td>26</td>\n",
       "      <td>4.9</td>\n",
       "    </tr>\n",
       "    <tr>\n",
       "      <th>2022-08-25</th>\n",
       "      <td>32</td>\n",
       "      <td>26</td>\n",
       "      <td>0.2</td>\n",
       "    </tr>\n",
       "    <tr>\n",
       "      <th>2022-08-26</th>\n",
       "      <td>34</td>\n",
       "      <td>26</td>\n",
       "      <td>0.1</td>\n",
       "    </tr>\n",
       "    <tr>\n",
       "      <th>2022-08-27</th>\n",
       "      <td>34</td>\n",
       "      <td>27</td>\n",
       "      <td>0.1</td>\n",
       "    </tr>\n",
       "    <tr>\n",
       "      <th>2022-08-28</th>\n",
       "      <td>32</td>\n",
       "      <td>27</td>\n",
       "      <td>2.6</td>\n",
       "    </tr>\n",
       "  </tbody>\n",
       "</table>\n",
       "</div>\n",
       "      <button class=\"colab-df-convert\" onclick=\"convertToInteractive('df-a97ba844-0a72-4373-b4e4-05b5dfa7af68')\"\n",
       "              title=\"Convert this dataframe to an interactive table.\"\n",
       "              style=\"display:none;\">\n",
       "        \n",
       "  <svg xmlns=\"http://www.w3.org/2000/svg\" height=\"24px\"viewBox=\"0 0 24 24\"\n",
       "       width=\"24px\">\n",
       "    <path d=\"M0 0h24v24H0V0z\" fill=\"none\"/>\n",
       "    <path d=\"M18.56 5.44l.94 2.06.94-2.06 2.06-.94-2.06-.94-.94-2.06-.94 2.06-2.06.94zm-11 1L8.5 8.5l.94-2.06 2.06-.94-2.06-.94L8.5 2.5l-.94 2.06-2.06.94zm10 10l.94 2.06.94-2.06 2.06-.94-2.06-.94-.94-2.06-.94 2.06-2.06.94z\"/><path d=\"M17.41 7.96l-1.37-1.37c-.4-.4-.92-.59-1.43-.59-.52 0-1.04.2-1.43.59L10.3 9.45l-7.72 7.72c-.78.78-.78 2.05 0 2.83L4 21.41c.39.39.9.59 1.41.59.51 0 1.02-.2 1.41-.59l7.78-7.78 2.81-2.81c.8-.78.8-2.07 0-2.86zM5.41 20L4 18.59l7.72-7.72 1.47 1.35L5.41 20z\"/>\n",
       "  </svg>\n",
       "      </button>\n",
       "      \n",
       "  <style>\n",
       "    .colab-df-container {\n",
       "      display:flex;\n",
       "      flex-wrap:wrap;\n",
       "      gap: 12px;\n",
       "    }\n",
       "\n",
       "    .colab-df-convert {\n",
       "      background-color: #E8F0FE;\n",
       "      border: none;\n",
       "      border-radius: 50%;\n",
       "      cursor: pointer;\n",
       "      display: none;\n",
       "      fill: #1967D2;\n",
       "      height: 32px;\n",
       "      padding: 0 0 0 0;\n",
       "      width: 32px;\n",
       "    }\n",
       "\n",
       "    .colab-df-convert:hover {\n",
       "      background-color: #E2EBFA;\n",
       "      box-shadow: 0px 1px 2px rgba(60, 64, 67, 0.3), 0px 1px 3px 1px rgba(60, 64, 67, 0.15);\n",
       "      fill: #174EA6;\n",
       "    }\n",
       "\n",
       "    [theme=dark] .colab-df-convert {\n",
       "      background-color: #3B4455;\n",
       "      fill: #D2E3FC;\n",
       "    }\n",
       "\n",
       "    [theme=dark] .colab-df-convert:hover {\n",
       "      background-color: #434B5C;\n",
       "      box-shadow: 0px 1px 3px 1px rgba(0, 0, 0, 0.15);\n",
       "      filter: drop-shadow(0px 1px 2px rgba(0, 0, 0, 0.3));\n",
       "      fill: #FFFFFF;\n",
       "    }\n",
       "  </style>\n",
       "\n",
       "      <script>\n",
       "        const buttonEl =\n",
       "          document.querySelector('#df-a97ba844-0a72-4373-b4e4-05b5dfa7af68 button.colab-df-convert');\n",
       "        buttonEl.style.display =\n",
       "          google.colab.kernel.accessAllowed ? 'block' : 'none';\n",
       "\n",
       "        async function convertToInteractive(key) {\n",
       "          const element = document.querySelector('#df-a97ba844-0a72-4373-b4e4-05b5dfa7af68');\n",
       "          const dataTable =\n",
       "            await google.colab.kernel.invokeFunction('convertToInteractive',\n",
       "                                                     [key], {});\n",
       "          if (!dataTable) return;\n",
       "\n",
       "          const docLinkHtml = 'Like what you see? Visit the ' +\n",
       "            '<a target=\"_blank\" href=https://colab.research.google.com/notebooks/data_table.ipynb>data table notebook</a>'\n",
       "            + ' to learn more about interactive tables.';\n",
       "          element.innerHTML = '';\n",
       "          dataTable['output_type'] = 'display_data';\n",
       "          await google.colab.output.renderOutput(dataTable, element);\n",
       "          const docLink = document.createElement('div');\n",
       "          docLink.innerHTML = docLinkHtml;\n",
       "          element.appendChild(docLink);\n",
       "        }\n",
       "      </script>\n",
       "    </div>\n",
       "  </div>\n",
       "  "
      ],
      "text/plain": [
       "            max_temp  min_temp  rain\n",
       "Date                                \n",
       "2022-08-22        35        27   0.5\n",
       "2022-08-23        31        27   0.7\n",
       "2022-08-24        31        26   4.9\n",
       "2022-08-25        32        26   0.2\n",
       "2022-08-26        34        26   0.1\n",
       "2022-08-27        34        27   0.1\n",
       "2022-08-28        32        27   2.6"
      ]
     },
     "execution_count": 17,
     "metadata": {},
     "output_type": "execute_result"
    }
   ],
   "source": [
    "new_kol = pd.read_csv(\"22-08_28-08_climate.csv\")\n",
    "new_kol[\"Date\"] = pd.to_datetime(new_kol[\"Date\"])\n",
    "new_kol.set_index(\"Date\", inplace = True)\n",
    "new_kol"
   ]
  },
  {
   "cell_type": "code",
   "execution_count": null,
   "metadata": {
    "colab": {
     "base_uri": "https://localhost:8080/"
    },
    "executionInfo": {
     "elapsed": 1816,
     "status": "ok",
     "timestamp": 1662417249111,
     "user": {
      "displayName": "Ratul Chakraborty",
      "userId": "17345604770083247753"
     },
     "user_tz": -330
    },
    "id": "tknQH8B_ITMF",
    "outputId": "b36d0430-9a94-4397-a326-600eb33a2c5f"
   },
   "outputs": [
    {
     "name": "stdout",
     "output_type": "stream",
     "text": [
      "Model: \"sequential\"\n",
      "_________________________________________________________________\n",
      " Layer (type)                Output Shape              Param #   \n",
      "=================================================================\n",
      " lstm (LSTM)                 (None, 1, 50)             11000     \n",
      "                                                                 \n",
      " lstm_1 (LSTM)               (None, 1, 50)             20200     \n",
      "                                                                 \n",
      " lstm_2 (LSTM)               (None, 1, 50)             20200     \n",
      "                                                                 \n",
      " lstm_3 (LSTM)               (None, 1, 25)             7600      \n",
      "                                                                 \n",
      " lstm_4 (LSTM)               (None, 20)                3680      \n",
      "                                                                 \n",
      " dense (Dense)               (None, 20)                420       \n",
      "                                                                 \n",
      " dense_1 (Dense)             (None, 10)                210       \n",
      "                                                                 \n",
      " dense_2 (Dense)             (None, 5)                 55        \n",
      "                                                                 \n",
      " dense_3 (Dense)             (None, 1)                 6         \n",
      "                                                                 \n",
      "=================================================================\n",
      "Total params: 63,371\n",
      "Trainable params: 63,371\n",
      "Non-trainable params: 0\n",
      "_________________________________________________________________\n"
     ]
    }
   ],
   "source": [
    "from tensorflow.keras.models import load_model\n",
    "\n",
    "model = load_model(\"Power_lstm_wb.h5\")\n",
    "model.summary()"
   ]
  },
  {
   "cell_type": "code",
   "execution_count": null,
   "metadata": {
    "colab": {
     "base_uri": "https://localhost:8080/"
    },
    "executionInfo": {
     "elapsed": 13,
     "status": "ok",
     "timestamp": 1662417249112,
     "user": {
      "displayName": "Ratul Chakraborty",
      "userId": "17345604770083247753"
     },
     "user_tz": -330
    },
    "id": "rpOQYiKFVdV2",
    "outputId": "b7e088eb-3ac7-4d98-c065-aa5aa8cd3a9a"
   },
   "outputs": [
    {
     "data": {
      "text/plain": [
       "(7, 1, 4)"
      ]
     },
     "execution_count": 19,
     "metadata": {},
     "output_type": "execute_result"
    }
   ],
   "source": [
    "new_kol[\"avg_temp\"] = (new_kol[\"max_temp\"] + new_kol[\"min_temp\"])/2\n",
    "kol_arr = np.array(new_kol).reshape(new_kol.shape[0], 1, new_kol.shape[1])\n",
    "kol_arr.shape"
   ]
  },
  {
   "cell_type": "code",
   "execution_count": null,
   "metadata": {
    "colab": {
     "base_uri": "https://localhost:8080/"
    },
    "executionInfo": {
     "elapsed": 2662,
     "status": "ok",
     "timestamp": 1662417270080,
     "user": {
      "displayName": "Ratul Chakraborty",
      "userId": "17345604770083247753"
     },
     "user_tz": -330
    },
    "id": "4kiAS4nBwBH0",
    "outputId": "e79d5061-01af-49ba-ba0f-56d209d195a1"
   },
   "outputs": [
    {
     "data": {
      "text/plain": [
       "array([[178.404  ],\n",
       "       [172.37639],\n",
       "       [163.00471],\n",
       "       [171.70088],\n",
       "       [176.03473],\n",
       "       [177.59547],\n",
       "       [173.68655]], dtype=float32)"
      ]
     },
     "execution_count": 20,
     "metadata": {},
     "output_type": "execute_result"
    }
   ],
   "source": [
    "model.predict(kol_arr)"
   ]
  },
  {
   "cell_type": "code",
   "execution_count": null,
   "metadata": {
    "id": "TtenAgylwBE7"
   },
   "outputs": [],
   "source": []
  }
 ],
 "metadata": {
  "colab": {
   "authorship_tag": "ABX9TyPK6R46P4ugcF8IVpBVWwQf",
   "mount_file_id": "14p3Q1O9HGbdz5GunpEj9cjx1hh7lMZx8",
   "provenance": []
  },
  "kernelspec": {
   "display_name": "Python 3",
   "language": "python",
   "name": "python3"
  },
  "language_info": {
   "codemirror_mode": {
    "name": "ipython",
    "version": 3
   },
   "file_extension": ".py",
   "mimetype": "text/x-python",
   "name": "python",
   "nbconvert_exporter": "python",
   "pygments_lexer": "ipython3",
   "version": "3.8.8"
  }
 },
 "nbformat": 4,
 "nbformat_minor": 1
}
