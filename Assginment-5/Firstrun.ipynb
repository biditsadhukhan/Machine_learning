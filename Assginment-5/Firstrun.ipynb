{
 "cells": [
  {
   "cell_type": "code",
   "execution_count": 13,
   "id": "49a19c30",
   "metadata": {},
   "outputs": [],
   "source": [
    "from PIL import Image\n",
    "import cupy as cp\n",
    "import numpy as np"
   ]
  },
  {
   "cell_type": "code",
   "execution_count": 14,
   "id": "0ed0d069",
   "metadata": {},
   "outputs": [],
   "source": [
    "# Load the four band images\n",
    "band1 = Image.open('band1.gif')\n",
    "band2 = Image.open('band2.gif')\n",
    "band3 = Image.open('band3.gif')\n",
    "band4 = Image.open('band4.gif')\n",
    "\n",
    "# Convert the images to numpy arrays\n",
    "band1 = np.array(band1)\n",
    "band2 = np.array(band2)\n",
    "band3 = np.array(band3)\n",
    "band4 = np.array(band4)\n",
    "\n",
    "# Stack the band images along the third axis\n",
    "data = np.stack((band1, band2, band3, band4), axis=-1)\n",
    "\n",
    "# Reshape the data into a two-dimensional array\n",
    "data = data.reshape(-1, 4)"
   ]
  },
  {
   "cell_type": "code",
   "execution_count": 16,
   "id": "9a40409a",
   "metadata": {},
   "outputs": [],
   "source": [
    "# Split the data into training, validation, and testing sets\n",
    "np.random.seed(42)\n",
    "np.random.shuffle(data)\n",
    "train_size = int(0.6 * data.shape[0])\n",
    "val_size = int(0.2 * data.shape[0])\n",
    "X_train = cp.array(data[:train_size, :])\n",
    "X_val = cp.array(data[train_size:train_size+val_size, :])\n",
    "X_test = cp.array(data[train_size+val_size:, :])\n"
   ]
  },
  {
   "cell_type": "code",
   "execution_count": 22,
   "id": "322d0b6f",
   "metadata": {},
   "outputs": [],
   "source": [
    "# Define the k-means function for GPU acceleration\n",
    "def k_means(X, k, max_iterations=100):\n",
    "    # Initialize the centroids randomly\n",
    "    indices = cp.random.choice(X.shape[0], k, replace=False)\n",
    "    centroids = X[indices, :]\n",
    "\n",
    "    # Iterate until convergence or max_iterations\n",
    "    for i in range(max_iterations):\n",
    "        # Assign each point to the closest centroid\n",
    "        distances = cp.linalg.norm(X[:, cp.newaxis, :] - centroids[cp.newaxis, :, :], axis=-1)\n",
    "        labels = cp.argmin(distances, axis=1)\n",
    "\n",
    "        # Update the centroids to the mean of the assigned points\n",
    "        for j in range(k):\n",
    "            mask = labels == j\n",
    "            if cp.sum(mask) > 0:\n",
    "                centroids[j, :] = cp.mean(X[mask, :], axis=0)\n",
    "\n",
    "    return centroids, labels"
   ]
  },
  {
   "cell_type": "code",
   "execution_count": 23,
   "id": "e10ff288",
   "metadata": {},
   "outputs": [
    {
     "ename": "ValueError",
     "evalue": "operands could not be broadcast together with shape (512, 512) and requested shape (58747, 3)",
     "output_type": "error",
     "traceback": [
      "\u001b[1;31m---------------------------------------------------------------------------\u001b[0m",
      "\u001b[1;31mValueError\u001b[0m                                Traceback (most recent call last)",
      "Input \u001b[1;32mIn [23]\u001b[0m, in \u001b[0;36m<cell line: 2>\u001b[1;34m()\u001b[0m\n\u001b[0;32m      6\u001b[0m clusters \u001b[38;5;241m=\u001b[39m cp\u001b[38;5;241m.\u001b[39mzeros(labels\u001b[38;5;241m.\u001b[39mshape \u001b[38;5;241m+\u001b[39m (\u001b[38;5;241m3\u001b[39m,), dtype\u001b[38;5;241m=\u001b[39mcp\u001b[38;5;241m.\u001b[39muint8)\n\u001b[0;32m      7\u001b[0m \u001b[38;5;28;01mfor\u001b[39;00m i \u001b[38;5;129;01min\u001b[39;00m \u001b[38;5;28mrange\u001b[39m(k):\n\u001b[1;32m----> 8\u001b[0m     clusters[labels \u001b[38;5;241m==\u001b[39m i, :] \u001b[38;5;241m=\u001b[39m cp\u001b[38;5;241m.\u001b[39marray(Image\u001b[38;5;241m.\u001b[39mopen(\u001b[38;5;124mf\u001b[39m\u001b[38;5;124m\"\u001b[39m\u001b[38;5;124mband\u001b[39m\u001b[38;5;132;01m{\u001b[39;00mi\u001b[38;5;241m+\u001b[39m\u001b[38;5;241m1\u001b[39m\u001b[38;5;132;01m}\u001b[39;00m\u001b[38;5;124m.gif\u001b[39m\u001b[38;5;124m\"\u001b[39m))\n\u001b[0;32m      9\u001b[0m clusters \u001b[38;5;241m=\u001b[39m clusters\u001b[38;5;241m.\u001b[39mreshape(band1\u001b[38;5;241m.\u001b[39mshape[\u001b[38;5;241m0\u001b[39m], band1\u001b[38;5;241m.\u001b[39mshape[\u001b[38;5;241m1\u001b[39m], \u001b[38;5;241m3\u001b[39m)\n\u001b[0;32m     10\u001b[0m Image\u001b[38;5;241m.\u001b[39mfromarray(clusters)\u001b[38;5;241m.\u001b[39mshow()\n",
      "File \u001b[1;32mcupy/core/core.pyx:1299\u001b[0m, in \u001b[0;36mcupy.core.core.ndarray.__setitem__\u001b[1;34m()\u001b[0m\n",
      "File \u001b[1;32mcupy/core/_routines_indexing.pyx:52\u001b[0m, in \u001b[0;36mcupy.core._routines_indexing._ndarray_setitem\u001b[1;34m()\u001b[0m\n",
      "File \u001b[1;32mcupy/core/_routines_indexing.pyx:865\u001b[0m, in \u001b[0;36mcupy.core._routines_indexing._scatter_op\u001b[1;34m()\u001b[0m\n",
      "File \u001b[1;32mcupy/core/_routines_indexing.pyx:840\u001b[0m, in \u001b[0;36mcupy.core._routines_indexing._scatter_op_mask_single\u001b[1;34m()\u001b[0m\n",
      "File \u001b[1;32mcupy/core/_routines_manipulation.pyx:440\u001b[0m, in \u001b[0;36mcupy.core._routines_manipulation.broadcast_to\u001b[1;34m()\u001b[0m\n",
      "\u001b[1;31mValueError\u001b[0m: operands could not be broadcast together with shape (512, 512) and requested shape (58747, 3)"
     ]
    }
   ],
   "source": [
    "# Run k-means for k = 2, 3, 4, 5, 6, 7 on the training set\n",
    "for k in range(2, 8):\n",
    "    centroids, labels = k_means(X_train, k)\n",
    "    \n",
    "    # Plot the cluster assignments as an image with proper colors\n",
    "    clusters = cp.zeros(labels.shape + (3,), dtype=cp.uint8)\n",
    "    for i in range(k):\n",
    "        clusters[labels == i, :] = cp.array(Image.open(f\"band{i+1}.gif\"))\n",
    "    clusters = clusters.reshape(band1.shape[0], band1.shape[1], 3)\n",
    "    Image.fromarray(clusters).show()"
   ]
  },
  {
   "cell_type": "code",
   "execution_count": 24,
   "id": "067a3e46",
   "metadata": {},
   "outputs": [
    {
     "ename": "AttributeError",
     "evalue": "'cupy.core.core.ndarray' object has no attribute '__array_interface__'",
     "output_type": "error",
     "traceback": [
      "\u001b[1;31m---------------------------------------------------------------------------\u001b[0m",
      "\u001b[1;31mAttributeError\u001b[0m                            Traceback (most recent call last)",
      "Input \u001b[1;32mIn [24]\u001b[0m, in \u001b[0;36m<cell line: 39>\u001b[1;34m()\u001b[0m\n\u001b[0;32m     36\u001b[0m     clusters[labels \u001b[38;5;241m==\u001b[39m i, :] \u001b[38;5;241m=\u001b[39m cp\u001b[38;5;241m.\u001b[39marray(cluster_color)\u001b[38;5;241m.\u001b[39mastype(cp\u001b[38;5;241m.\u001b[39muint8)\n\u001b[0;32m     38\u001b[0m \u001b[38;5;66;03m# Display the image\u001b[39;00m\n\u001b[1;32m---> 39\u001b[0m \u001b[43mImage\u001b[49m\u001b[38;5;241;43m.\u001b[39;49m\u001b[43mfromarray\u001b[49m\u001b[43m(\u001b[49m\u001b[43mclusters\u001b[49m\u001b[43m)\u001b[49m\u001b[38;5;241m.\u001b[39mshow()\n",
      "File \u001b[1;32m~\\anaconda3\\lib\\site-packages\\PIL\\Image.py:2803\u001b[0m, in \u001b[0;36mfromarray\u001b[1;34m(obj, mode)\u001b[0m\n\u001b[0;32m   2764\u001b[0m \u001b[38;5;28;01mdef\u001b[39;00m \u001b[38;5;21mfromarray\u001b[39m(obj, mode\u001b[38;5;241m=\u001b[39m\u001b[38;5;28;01mNone\u001b[39;00m):\n\u001b[0;32m   2765\u001b[0m     \u001b[38;5;124;03m\"\"\"\u001b[39;00m\n\u001b[0;32m   2766\u001b[0m \u001b[38;5;124;03m    Creates an image memory from an object exporting the array interface\u001b[39;00m\n\u001b[0;32m   2767\u001b[0m \u001b[38;5;124;03m    (using the buffer protocol).\u001b[39;00m\n\u001b[1;32m   (...)\u001b[0m\n\u001b[0;32m   2801\u001b[0m \u001b[38;5;124;03m    .. versionadded:: 1.1.6\u001b[39;00m\n\u001b[0;32m   2802\u001b[0m \u001b[38;5;124;03m    \"\"\"\u001b[39;00m\n\u001b[1;32m-> 2803\u001b[0m     arr \u001b[38;5;241m=\u001b[39m \u001b[43mobj\u001b[49m\u001b[38;5;241;43m.\u001b[39;49m\u001b[43m__array_interface__\u001b[49m\n\u001b[0;32m   2804\u001b[0m     shape \u001b[38;5;241m=\u001b[39m arr[\u001b[38;5;124m\"\u001b[39m\u001b[38;5;124mshape\u001b[39m\u001b[38;5;124m\"\u001b[39m]\n\u001b[0;32m   2805\u001b[0m     ndim \u001b[38;5;241m=\u001b[39m \u001b[38;5;28mlen\u001b[39m(shape)\n",
      "\u001b[1;31mAttributeError\u001b[0m: 'cupy.core.core.ndarray' object has no attribute '__array_interface__'"
     ]
    }
   ],
   "source": [
    "import cupy as cp\n",
    "from PIL import Image\n",
    "\n",
    "# Load band images\n",
    "band1 = cp.array(Image.open(\"band1.gif\"))\n",
    "band2 = cp.array(Image.open(\"band2.gif\"))\n",
    "band3 = cp.array(Image.open(\"band3.gif\"))\n",
    "band4 = cp.array(Image.open(\"band4.gif\"))\n",
    "\n",
    "# Reshape the data to 2D array\n",
    "data = cp.vstack((band1.ravel(), band2.ravel(), band3.ravel(), band4.ravel())).T\n",
    "\n",
    "# Number of clusters\n",
    "k = 2\n",
    "\n",
    "# Initialize centroids randomly\n",
    "centroids = cp.random.rand(k, 4)\n",
    "\n",
    "# Iterate until convergence\n",
    "for _ in range(10):\n",
    "    # Assign labels to each datapoint based on centroids\n",
    "    distances = cp.sqrt(((data - centroids[:, np.newaxis])**2).sum(axis=2))\n",
    "    labels = cp.argmin(distances, axis=0)\n",
    "    \n",
    "    # Update centroids based on the labels\n",
    "    for i in range(k):\n",
    "        centroids[i] = data[labels == i].mean(axis=0)\n",
    "        \n",
    "# Reshape the labels to have the same shape as the band arrays\n",
    "labels = labels.reshape(band1.shape)\n",
    "\n",
    "# Create color image from labels\n",
    "clusters = cp.zeros(labels.shape + (3,), dtype=cp.uint8)\n",
    "for i in range(k):\n",
    "    cluster_color = cp.random.rand(3) * 255\n",
    "    clusters[labels == i, :] = cp.array(cluster_color).astype(cp.uint8)\n",
    "\n",
    "# Display the image\n",
    "Image.fromarray(clusters).show()\n"
   ]
  }
 ],
 "metadata": {
  "kernelspec": {
   "display_name": "Python 3 (ipykernel)",
   "language": "python",
   "name": "python3"
  },
  "language_info": {
   "codemirror_mode": {
    "name": "ipython",
    "version": 3
   },
   "file_extension": ".py",
   "mimetype": "text/x-python",
   "name": "python",
   "nbconvert_exporter": "python",
   "pygments_lexer": "ipython3",
   "version": "3.9.12"
  }
 },
 "nbformat": 4,
 "nbformat_minor": 5
}
